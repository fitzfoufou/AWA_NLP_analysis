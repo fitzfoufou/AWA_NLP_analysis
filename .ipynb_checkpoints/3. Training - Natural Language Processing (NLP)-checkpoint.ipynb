{
 "cells": [
  {
   "cell_type": "markdown",
   "metadata": {
    "slideshow": {
     "slide_type": "slide"
    }
   },
   "source": [
    "<img src = \"Images/logo-eki.png\" style = \"width:20%\"/>"
   ]
  },
  {
   "cell_type": "markdown",
   "metadata": {
    "nbpresent": {
     "id": "049cd633-d02d-4ec2-914f-c67b10f2f10d"
    },
    "slideshow": {
     "slide_type": "skip"
    }
   },
   "source": [
    "version : 1.0<br>\n",
    "last updated date : 2017/03/17"
   ]
  },
  {
   "cell_type": "code",
   "execution_count": 1,
   "metadata": {
    "collapsed": true,
    "init_cell": true,
    "nbpresent": {
     "id": "9b9743ad-f923-4139-830f-b1c8e2a9d2a7"
    },
    "slideshow": {
     "slide_type": "skip"
    }
   },
   "outputs": [],
   "source": [
    "import nltk\n",
    "import pandas as pd"
   ]
  },
  {
   "cell_type": "markdown",
   "metadata": {
    "nbpresent": {
     "id": "b1cbeb80-c5ad-42f5-a6be-da82600d8bf9"
    },
    "slideshow": {
     "slide_type": "slide"
    }
   },
   "source": [
    "<h1 style = \"color:#1E718B\"> Introduction to Natural Language Processing</h1><br>"
   ]
  },
  {
   "cell_type": "markdown",
   "metadata": {
    "nbpresent": {
     "id": "61a212f8-9aa1-40bd-9b1e-21e4ec14694e"
    },
    "slideshow": {
     "slide_type": "subslide"
    }
   },
   "source": [
    "<h2><u>Libraries</u></h2>"
   ]
  },
  {
   "cell_type": "markdown",
   "metadata": {
    "nbpresent": {
     "id": "fc9a4f66-5e93-4c24-a2ff-77259fe9a0b2"
    },
    "slideshow": {
     "slide_type": "-"
    }
   },
   "source": [
    "### NLTK"
   ]
  },
  {
   "cell_type": "markdown",
   "metadata": {
    "nbpresent": {
     "id": "d4037c76-0843-4299-946c-aa6fbabaabc5"
    },
    "slideshow": {
     "slide_type": "-"
    }
   },
   "source": [
    "### SpaCy"
   ]
  },
  {
   "cell_type": "markdown",
   "metadata": {
    "nbpresent": {
     "id": "ee9d9a4d-e83d-4a4a-9966-64bece4658c0"
    },
    "slideshow": {
     "slide_type": "slide"
    }
   },
   "source": [
    "***\n",
    "<h1 style = \"color:#1E718B\">The basics of preprocessing textual data</h1>\n"
   ]
  },
  {
   "cell_type": "markdown",
   "metadata": {
    "slideshow": {
     "slide_type": "fragment"
    }
   },
   "source": [
    "<img src = \"Images/sentence1.png\"/>"
   ]
  },
  {
   "cell_type": "markdown",
   "metadata": {
    "nbpresent": {
     "id": "3e07d7c6-5a16-4978-973d-a0c07ed68603"
    },
    "slideshow": {
     "slide_type": "subslide"
    }
   },
   "source": [
    "<h2><u>Tokenization & uniformisation</u></h2>"
   ]
  },
  {
   "cell_type": "markdown",
   "metadata": {
    "nbpresent": {
     "id": "bf5064de-4fa3-4278-82d8-a8cf29735c92"
    },
    "slideshow": {
     "slide_type": "fragment"
    }
   },
   "source": [
    "### Tokenization\n",
    "<img src = \"Images/tokenization.png\"/>"
   ]
  },
  {
   "cell_type": "markdown",
   "metadata": {
    "slideshow": {
     "slide_type": "skip"
    }
   },
   "source": [
    "Tokenization is maybe the first and most important step of any NLP task. <br>\n",
    "A **token** in NLP is a representation of one semantic entity, that could be : \n",
    "- A word\n",
    "- A punctuation symbol\n",
    "- A number\n",
    "\n",
    "Indeed, the simplest representation a text could have would be a representation of its elements taking independently."
   ]
  },
  {
   "cell_type": "code",
   "execution_count": 24,
   "metadata": {
    "collapsed": true,
    "init_cell": true,
    "nbpresent": {
     "id": "b56584da-49b1-4067-9875-4509bac057d8"
    },
    "slideshow": {
     "slide_type": "subslide"
    }
   },
   "outputs": [],
   "source": [
    "sentence = \"Ekimetrics is a consulting firm, with offices around the world.\""
   ]
  },
  {
   "cell_type": "markdown",
   "metadata": {
    "nbpresent": {
     "id": "aba1926d-3bc3-4ed2-9d47-1f203a175f34"
    },
    "slideshow": {
     "slide_type": "fragment"
    }
   },
   "source": [
    "#### Native method with the split function"
   ]
  },
  {
   "cell_type": "code",
   "execution_count": 25,
   "metadata": {
    "nbpresent": {
     "id": "ce298a61-f80c-4d76-bfb3-fe4e19b6144a"
    },
    "slideshow": {
     "slide_type": "-"
    }
   },
   "outputs": [
    {
     "name": "stdout",
     "output_type": "stream",
     "text": [
      "['Ekimetrics', 'is', 'a', 'consulting', 'firm,', 'with', 'offices', 'around', 'the', 'world.']\n"
     ]
    }
   ],
   "source": [
    "print(sentence.split(\" \"))"
   ]
  },
  {
   "cell_type": "markdown",
   "metadata": {
    "nbpresent": {
     "id": "2ef6d914-90e6-4542-809e-3c6295d24409"
    },
    "slideshow": {
     "slide_type": "fragment"
    }
   },
   "source": [
    "#### Advanced method with nltk"
   ]
  },
  {
   "cell_type": "code",
   "execution_count": 26,
   "metadata": {
    "nbpresent": {
     "id": "d9f0354a-c96c-4f65-a9ce-c2a264498e0d"
    },
    "slideshow": {
     "slide_type": "-"
    }
   },
   "outputs": [
    {
     "name": "stdout",
     "output_type": "stream",
     "text": [
      "['Ekimetrics', 'is', 'a', 'consulting', 'firm', ',', 'with', 'offices', 'around', 'the', 'world', '.']\n"
     ]
    }
   ],
   "source": [
    "sentence_as_list_of_tokens = nltk.wordpunct_tokenize(sentence)\n",
    "print(sentence_as_list_of_tokens)"
   ]
  },
  {
   "cell_type": "markdown",
   "metadata": {
    "nbpresent": {
     "id": "da9ef914-aeb3-4052-a904-ebd4cf4b93ad"
    },
    "slideshow": {
     "slide_type": "skip"
    }
   },
   "source": [
    "There is an important difference on the examples shown above : **the punctuation**<br>\n",
    "When you split a text on the spaces, it does not consider the subtilities of language, and the best way to see it is simply with punctuation.<br>\n",
    "- In the first example: it has kept the token \"firm,\" with the comma \",\". Same for the last token \"world.\" with the point \".\"\n",
    "- In the second example : the function has considered \",\" as a semantic entity and made the split with it\n",
    "\n",
    "<br> You could also for example split also on the punctuation, but you would have to deal with more complex example : \n",
    "- \"it's\" should be split into [\"it\",\"'s\"] and not [\"it\",\"'\",\"s\"] or [\"it's\"]\n",
    "- \"www.google.com\" should not be split\n",
    "\n",
    "<br> The nltk (or SpaCy) tokenizing function consider most of these semantic cases."
   ]
  },
  {
   "cell_type": "markdown",
   "metadata": {
    "nbpresent": {
     "id": "4a5409b7-bb41-4410-83b3-b3cc6d46ded7"
    },
    "slideshow": {
     "slide_type": "subslide"
    }
   },
   "source": [
    "### Uniformisation\n",
    "If your goal is to compare semantic entities and extract information for textual data <br> Most of the time, it's important to have a set of tokens that are uniforms.\n",
    "<br>\n",
    "#### Lowercase\n",
    "There is the simplest built-in function in Python for that : **lower()**\n",
    "<img src = \"Images/sentence2.png\"/>"
   ]
  },
  {
   "cell_type": "code",
   "execution_count": 27,
   "metadata": {
    "nbpresent": {
     "id": "82c79aa1-f9d8-46e1-8764-ebbc493b141b"
    },
    "slideshow": {
     "slide_type": "subslide"
    }
   },
   "outputs": [
    {
     "data": {
      "text/plain": [
       "'hello london'"
      ]
     },
     "execution_count": 27,
     "metadata": {},
     "output_type": "execute_result"
    }
   ],
   "source": [
    "\"HELLO LONDON\".lower()"
   ]
  },
  {
   "cell_type": "code",
   "execution_count": 28,
   "metadata": {
    "nbpresent": {
     "id": "73cfe2cb-d87e-4f3f-81e8-1dd1f66c782a"
    },
    "slideshow": {
     "slide_type": "-"
    }
   },
   "outputs": [
    {
     "data": {
      "text/plain": [
       "'ekimetrics is a consulting firm, with offices around the world.'"
      ]
     },
     "execution_count": 28,
     "metadata": {},
     "output_type": "execute_result"
    }
   ],
   "source": [
    "sentence.lower()"
   ]
  },
  {
   "cell_type": "markdown",
   "metadata": {
    "nbpresent": {
     "id": "1b59370b-3765-409b-8163-9ebd734b85f6"
    },
    "slideshow": {
     "slide_type": "subslide"
    }
   },
   "source": [
    "#### Other uniformization processes\n",
    "Other preprocessing could be made to textual data : \n",
    "- British/American\n",
    "- Synonyms"
   ]
  },
  {
   "cell_type": "markdown",
   "metadata": {
    "nbpresent": {
     "id": "2bb50d6e-9bd2-4bdf-b74d-73a1a1f1daea"
    },
    "slideshow": {
     "slide_type": "subslide"
    }
   },
   "source": [
    "<h2><u>Stop words and characters</u></h2><br>\n",
    "**Some words can have more semantic meaning than others**.<br> In the sentence *the dog chased a cat.* the important tokens would be **dog, chased, cat**<br>\n",
    "The other tokens would then be **stop words** or **stop characters**"
   ]
  },
  {
   "cell_type": "markdown",
   "metadata": {
    "slideshow": {
     "slide_type": "fragment"
    }
   },
   "source": [
    "<img src = \"Images/sentence3.png\"/>"
   ]
  },
  {
   "cell_type": "markdown",
   "metadata": {
    "slideshow": {
     "slide_type": "skip"
    }
   },
   "source": [
    "Several entities here would not bring any semantic value to the analysis : \n",
    "- *the*\n",
    "- *a*\n",
    "- *.* at the end of the sentence\n",
    "<br>\n",
    "\n",
    "Most of the time, a NLP task requires to remove all those stop tokens. They are mostly : \n",
    "- Pronouns\n",
    "- Punctuation\n",
    "- Simple verbs (be, has)\n",
    "\n",
    "<br>\n",
    "\n",
    "**There are two main ways to remove stop words :**"
   ]
  },
  {
   "cell_type": "markdown",
   "metadata": {
    "nbpresent": {
     "id": "aa18e6cb-c2a6-44a6-b4af-a697da607998"
    },
    "slideshow": {
     "slide_type": "subslide"
    }
   },
   "source": [
    "#### Using dictionaries of stop words and characters\n",
    "Indeed, the best idea is to build a list of all the words you would like to remove"
   ]
  },
  {
   "cell_type": "markdown",
   "metadata": {
    "nbpresent": {
     "id": "cf80dd28-a272-4a27-87e6-e9cc5b1380f2"
    },
    "slideshow": {
     "slide_type": "skip"
    }
   },
   "source": [
    "##### Building a custom list\n",
    "This can save lives if you have custom characters or words you would like to remove.\n",
    "- ** Define the list**\n",
    "- ** Cross the list** with your list of tokens"
   ]
  },
  {
   "cell_type": "code",
   "execution_count": 29,
   "metadata": {
    "collapsed": true,
    "nbpresent": {
     "id": "b3226c7b-7722-40de-8071-46a27a82fbe3"
    },
    "slideshow": {
     "slide_type": "-"
    }
   },
   "outputs": [],
   "source": [
    "stop_words_list = [\"the\",\"a\",\"is\",\"was\",\"has\",\"have\",\"with\"]\n",
    "stop_characters_list = [\",\",\".\"]"
   ]
  },
  {
   "cell_type": "code",
   "execution_count": 30,
   "metadata": {
    "nbpresent": {
     "id": "4cdd120a-8007-4815-8732-54d717780671"
    },
    "slideshow": {
     "slide_type": "fragment"
    }
   },
   "outputs": [
    {
     "name": "stdout",
     "output_type": "stream",
     "text": [
      "['Ekimetrics', 'is', 'a', 'consulting', 'firm', ',', 'with', 'offices', 'around', 'the', 'world', '.']\n"
     ]
    },
    {
     "data": {
      "text/plain": [
       "['Ekimetrics', 'consulting', 'firm', 'offices', 'around', 'world']"
      ]
     },
     "execution_count": 30,
     "metadata": {},
     "output_type": "execute_result"
    }
   ],
   "source": [
    "print(sentence_as_list_of_tokens)\n",
    "[token for token in sentence_as_list_of_tokens if token not in stop_words_list + stop_characters_list]"
   ]
  },
  {
   "cell_type": "markdown",
   "metadata": {
    "nbpresent": {
     "id": "779a70d3-8609-401c-9b69-0a461f72d420"
    },
    "slideshow": {
     "slide_type": "subslide"
    }
   },
   "source": [
    "##### Using the libraries\n",
    "NLTK and SpaCy contain big dictionaries of stop words and in several languages "
   ]
  },
  {
   "cell_type": "code",
   "execution_count": 31,
   "metadata": {
    "init_cell": true,
    "nbpresent": {
     "id": "13b29d80-075e-403f-bbf8-055ca2ccb7fb"
    },
    "slideshow": {
     "slide_type": "-"
    }
   },
   "outputs": [
    {
     "name": "stdout",
     "output_type": "stream",
     "text": [
      "['i', 'me', 'my', 'myself', 'we', 'our', 'ours', 'ourselves', 'you', 'your', 'yours', 'yourself', 'yourselves', 'he', 'him', 'his', 'himself', 'she', 'her', 'hers', 'herself', 'it', 'its', 'itself', 'they', 'them', 'their', 'theirs', 'themselves', 'what', 'which', 'who', 'whom', 'this', 'that', 'these', 'those', 'am', 'is', 'are', 'was', 'were', 'be', 'been', 'being', 'have', 'has', 'had', 'having', 'do', 'does', 'did', 'doing', 'a', 'an', 'the', 'and', 'but', 'if', 'or', 'because', 'as', 'until', 'while', 'of', 'at', 'by', 'for', 'with', 'about']\n"
     ]
    }
   ],
   "source": [
    "from nltk.corpus import stopwords\n",
    "print(stopwords.words(\"english\")[:70])"
   ]
  },
  {
   "cell_type": "markdown",
   "metadata": {
    "nbpresent": {
     "id": "4065aa0e-73d1-471a-abd0-692384cbc0d5"
    },
    "slideshow": {
     "slide_type": "subslide"
    }
   },
   "source": [
    "#### Considering the length of the token\n",
    "Another method is to **remove short tokens**. Indeed, most of the time (not always) shorter tokens carry less meaning. \n",
    "<br> This is also an infinitely faster and simpler method which sometimes is enough "
   ]
  },
  {
   "cell_type": "code",
   "execution_count": 32,
   "metadata": {
    "nbpresent": {
     "id": "17ae1725-d864-44be-9e50-eeeab961d645"
    },
    "slideshow": {
     "slide_type": "-"
    }
   },
   "outputs": [
    {
     "name": "stdout",
     "output_type": "stream",
     "text": [
      "['Ekimetrics', 'is', 'a', 'consulting', 'firm', ',', 'with', 'offices', 'around', 'the', 'world', '.']\n"
     ]
    },
    {
     "data": {
      "text/plain": [
       "['Ekimetrics', 'consulting', 'firm', 'with', 'offices', 'around', 'world']"
      ]
     },
     "execution_count": 32,
     "metadata": {},
     "output_type": "execute_result"
    }
   ],
   "source": [
    "print(sentence_as_list_of_tokens)\n",
    "[token for token in sentence_as_list_of_tokens if len(token) > 3]"
   ]
  },
  {
   "cell_type": "markdown",
   "metadata": {
    "nbpresent": {
     "id": "5617828b-fd47-4351-be4a-12caf8408ef8"
    },
    "slideshow": {
     "slide_type": "subslide"
    }
   },
   "source": [
    "<h2><u>Lemmatization & stemming</u></h2>"
   ]
  },
  {
   "cell_type": "markdown",
   "metadata": {
    "nbpresent": {
     "id": "714cbaac-15fa-4412-bc42-f6f8a3ee656c"
    },
    "slideshow": {
     "slide_type": "subslide"
    }
   },
   "source": [
    "### Stemming"
   ]
  },
  {
   "cell_type": "code",
   "execution_count": 33,
   "metadata": {
    "slideshow": {
     "slide_type": "-"
    }
   },
   "outputs": [],
   "source": [
    "from nltk.stem.porter import PorterStemmer\n",
    "porter_stemmer = PorterStemmer()"
   ]
  },
  {
   "cell_type": "code",
   "execution_count": 34,
   "metadata": {
    "slideshow": {
     "slide_type": "-"
    }
   },
   "outputs": [
    {
     "name": "stdout",
     "output_type": "stream",
     "text": [
      "say\n",
      "cri\n",
      "train\n",
      "string\n"
     ]
    }
   ],
   "source": [
    "print(porter_stemmer.stem(\"saying\"))\n",
    "print(porter_stemmer.stem(\"crying\"))\n",
    "print(porter_stemmer.stem(\"trains\"))\n",
    "print(porter_stemmer.stem(\"string\"))"
   ]
  },
  {
   "cell_type": "markdown",
   "metadata": {
    "nbpresent": {
     "id": "2de59cda-2c0a-469f-93f6-a580225612df"
    },
    "slideshow": {
     "slide_type": "subslide"
    }
   },
   "source": [
    "### Lemmatization"
   ]
  },
  {
   "cell_type": "code",
   "execution_count": 35,
   "metadata": {
    "collapsed": true,
    "init_cell": true,
    "slideshow": {
     "slide_type": "-"
    }
   },
   "outputs": [],
   "source": [
    "from nltk.stem import WordNetLemmatizer\n",
    "wordnet_lemmatizer = WordNetLemmatizer()"
   ]
  },
  {
   "cell_type": "code",
   "execution_count": 36,
   "metadata": {
    "slideshow": {
     "slide_type": "-"
    }
   },
   "outputs": [
    {
     "name": "stdout",
     "output_type": "stream",
     "text": [
      "saying\n",
      "cry\n",
      "train\n",
      "string\n"
     ]
    }
   ],
   "source": [
    "print(wordnet_lemmatizer.lemmatize(\"saying\"))\n",
    "print(wordnet_lemmatizer.lemmatize(\"crying\"))\n",
    "print(wordnet_lemmatizer.lemmatize(\"trains\"))\n",
    "print(wordnet_lemmatizer.lemmatize(\"string\"))"
   ]
  },
  {
   "cell_type": "code",
   "execution_count": 37,
   "metadata": {
    "slideshow": {
     "slide_type": "subslide"
    }
   },
   "outputs": [
    {
     "name": "stdout",
     "output_type": "stream",
     "text": [
      "are\n",
      "is\n"
     ]
    }
   ],
   "source": [
    "print(wordnet_lemmatizer.lemmatize(\"are\"))\n",
    "print(wordnet_lemmatizer.lemmatize(\"is\"))"
   ]
  },
  {
   "cell_type": "code",
   "execution_count": 38,
   "metadata": {
    "slideshow": {
     "slide_type": "-"
    }
   },
   "outputs": [
    {
     "name": "stdout",
     "output_type": "stream",
     "text": [
      "be\n",
      "be\n"
     ]
    }
   ],
   "source": [
    "print(wordnet_lemmatizer.lemmatize(\"are\",pos = \"v\"))\n",
    "print(wordnet_lemmatizer.lemmatize(\"is\",pos = \"v\"))"
   ]
  },
  {
   "cell_type": "markdown",
   "metadata": {
    "nbpresent": {
     "id": "44c96d69-9cc9-4fdf-a93f-e4b72ad90f74"
    },
    "slideshow": {
     "slide_type": "slide"
    }
   },
   "source": [
    "<h2 style = \"color:#BF0000\"><u>Exercise 1</u></h2><br>\n",
    "We learned the main NLP preprocessing tasks : \n",
    "1. Tokenization\n",
    "2. Uniformisation\n",
    "3. Stop words and stop characters removing\n",
    "4. Lemmatization or stemming\n",
    "\n",
    "Let's try to create a **preprocessing function** which will operate all these tasks, <br>\n",
    "Taking a text as input and returns filtered tokens"
   ]
  },
  {
   "cell_type": "markdown",
   "metadata": {
    "slideshow": {
     "slide_type": "skip"
    }
   },
   "source": [
    "**Hint** you can also use the following variables : "
   ]
  },
  {
   "cell_type": "code",
   "execution_count": 5,
   "metadata": {
    "init_cell": true,
    "slideshow": {
     "slide_type": "skip"
    }
   },
   "outputs": [
    {
     "name": "stdout",
     "output_type": "stream",
     "text": [
      "[\"'\", '.', ';', ',', ':', '?', '!', \"'\", '\"', '(', ')', '&', '”', '“', '‘', '’', ' ', '<', '>', '►']\n"
     ]
    }
   ],
   "source": [
    "from ekimetrics.nlp.utils import stop_characters_punctuation\n",
    "print(stop_characters_punctuation[:20])"
   ]
  },
  {
   "cell_type": "markdown",
   "metadata": {
    "collapsed": true,
    "slideshow": {
     "slide_type": "skip"
    },
    "solution2": "hidden",
    "solution2_first": true
   },
   "source": [
    " "
   ]
  },
  {
   "cell_type": "code",
   "execution_count": 10,
   "metadata": {
    "init_cell": true,
    "slideshow": {
     "slide_type": "skip"
    },
    "solution2": "hidden"
   },
   "outputs": [
    {
     "data": {
      "text/plain": [
       "['ekimetrics', 'consulting', 'firm', 'office', 'around', 'world']"
      ]
     },
     "execution_count": 10,
     "metadata": {},
     "output_type": "execute_result"
    }
   ],
   "source": [
    "def preprocessing(text,lemmatization = True):\n",
    "    \n",
    "    # TOKENIZATION\n",
    "    tokens = nltk.wordpunct_tokenize(text)\n",
    "    \n",
    "    # LOWERCASE\n",
    "    tokens = [token.lower() for token in tokens]\n",
    "    \n",
    "    # STOP WORDS AND PUNCTUATION\n",
    "    tokens = [token for token in tokens if token not in list(stopwords.words(\"english\")) + stop_characters_punctuation]\n",
    "    \n",
    "    # LEMMATIZATION\n",
    "    if lemmatization:\n",
    "        tokens = [wordnet_lemmatizer.lemmatize(token) for token in tokens]\n",
    "        \n",
    "    return tokens\n",
    "\n",
    "\n",
    "preprocessing(sentence)"
   ]
  },
  {
   "cell_type": "code",
   "execution_count": null,
   "metadata": {
    "collapsed": true,
    "slideshow": {
     "slide_type": "skip"
    }
   },
   "outputs": [],
   "source": []
  },
  {
   "cell_type": "markdown",
   "metadata": {
    "nbpresent": {
     "id": "0540e4c0-de63-4eef-b21c-df575814b741"
    },
    "slideshow": {
     "slide_type": "slide"
    }
   },
   "source": [
    "***\n",
    "<h1 style = \"color:#1E718B\">Textual data representation </h1>"
   ]
  },
  {
   "cell_type": "markdown",
   "metadata": {
    "slideshow": {
     "slide_type": "subslide"
    }
   },
   "source": [
    "**The Yelp reviews dataset**"
   ]
  },
  {
   "cell_type": "code",
   "execution_count": 39,
   "metadata": {
    "collapsed": true,
    "init_cell": true,
    "slideshow": {
     "slide_type": "-"
    }
   },
   "outputs": [],
   "source": [
    "import pandas as pd\n",
    "reviews = pd.read_pickle(\"Data/yelp_reviews.pkl\")"
   ]
  },
  {
   "cell_type": "code",
   "execution_count": 40,
   "metadata": {
    "init_cell": true,
    "slideshow": {
     "slide_type": "-"
    }
   },
   "outputs": [
    {
     "data": {
      "text/plain": [
       "'If you enjoy service by someone who is as competent as he is personable, I would recommend Corey Kaplan highly. The time he has spent here has been very productive and working with him educational and...'"
      ]
     },
     "execution_count": 40,
     "metadata": {},
     "output_type": "execute_result"
    }
   ],
   "source": [
    "reviews.iloc[0][\"text\"][:200] + \"...\""
   ]
  },
  {
   "cell_type": "code",
   "execution_count": 13,
   "metadata": {
    "collapsed": true,
    "init_cell": true,
    "slideshow": {
     "slide_type": "skip"
    }
   },
   "outputs": [],
   "source": [
    "texts = list(reviews[\"text\"])"
   ]
  },
  {
   "cell_type": "code",
   "execution_count": 14,
   "metadata": {
    "slideshow": {
     "slide_type": "skip"
    }
   },
   "outputs": [
    {
     "name": "stdout",
     "output_type": "stream",
     "text": [
      "['enjoy', 'service', 'someone', 'competent', 'personable', 'would', 'recommend', 'corey', 'kaplan', 'highly', 'time', 'spent', 'productive', 'working', 'educational', 'enjoyable', 'hope', 'need', 'though', 'highly', 'unlikely', 'knowing', 'nice', 'way', 'el', 'centro', 'ca', 'scottsdale', 'az']\n"
     ]
    }
   ],
   "source": [
    "print(preprocessing(texts[0]))"
   ]
  },
  {
   "cell_type": "code",
   "execution_count": 42,
   "metadata": {
    "init_cell": true,
    "slideshow": {
     "slide_type": "skip"
    }
   },
   "outputs": [],
   "source": [
    "example_tokens = [token.lower() for token in nltk.wordpunct_tokenize(texts[3])]"
   ]
  },
  {
   "cell_type": "code",
   "execution_count": 41,
   "metadata": {
    "slideshow": {
     "slide_type": "-"
    }
   },
   "outputs": [
    {
     "ename": "NameError",
     "evalue": "name 'example_tokens' is not defined",
     "output_type": "error",
     "traceback": [
      "\u001b[1;31m---------------------------------------------------------------------------\u001b[0m",
      "\u001b[1;31mNameError\u001b[0m                                 Traceback (most recent call last)",
      "\u001b[1;32m<ipython-input-41-060b7b7b26e6>\u001b[0m in \u001b[0;36m<module>\u001b[1;34m()\u001b[0m\n\u001b[1;32m----> 1\u001b[1;33m \u001b[0mprint\u001b[0m\u001b[1;33m(\u001b[0m\u001b[0mexample_tokens\u001b[0m\u001b[1;33m)\u001b[0m\u001b[1;33m\u001b[0m\u001b[0m\n\u001b[0m",
      "\u001b[1;31mNameError\u001b[0m: name 'example_tokens' is not defined"
     ]
    }
   ],
   "source": [
    "print(example_tokens)"
   ]
  },
  {
   "cell_type": "markdown",
   "metadata": {
    "nbpresent": {
     "id": "d0e2bef3-1d06-403a-9090-7c408b2710f7"
    },
    "slideshow": {
     "slide_type": "slide"
    }
   },
   "source": [
    "<h2><u>Word count & bag of words representation</u></h2>"
   ]
  },
  {
   "cell_type": "markdown",
   "metadata": {
    "slideshow": {
     "slide_type": "subslide"
    }
   },
   "source": [
    "### Word count"
   ]
  },
  {
   "cell_type": "markdown",
   "metadata": {
    "slideshow": {
     "slide_type": "-"
    }
   },
   "source": [
    "#### First method : dictionaries"
   ]
  },
  {
   "cell_type": "code",
   "execution_count": 43,
   "metadata": {
    "slideshow": {
     "slide_type": "-"
    }
   },
   "outputs": [
    {
     "name": "stdout",
     "output_type": "stream",
     "text": [
      "{'today': 1, 'i': 3, 'the': 3, 'small': 1, '!': 1, 'retro': 1, 'going': 1, 'use': 1, 'items': 1, 'highly': 1, 'went': 1, 'definitely': 1, 'great': 1, 'found': 2, 'other': 1, 'dresser': 1, \"'\": 1, 'fair': 1, 'delivered': 1, 'up': 1, 'looking': 1, 'a': 3, 'did': 1, 'piece': 1, 'm': 1, 'tv': 1, 'keep': 1, 'decor': 1, 'good': 1, 'in': 1, 'was': 1, 'perfect': 1, 'be': 1, 'work': 1, '.': 7, 'job': 1, 'and': 1, 'to': 1, 'look': 1, 'some': 1, 'recommended': 1, 'will': 1, 'stand': 1, 'for': 3, 'back': 1, 'yesterday': 1, 'they': 1, 'price': 1, 'shawn': 1, 'as': 1}\n"
     ]
    }
   ],
   "source": [
    "count = {}\n",
    "for token in example_tokens:\n",
    "    if token in count:\n",
    "        count[token] += 1\n",
    "    else:\n",
    "        count[token] = 1\n",
    "print(count)"
   ]
  },
  {
   "cell_type": "markdown",
   "metadata": {
    "slideshow": {
     "slide_type": "subslide"
    }
   },
   "source": [
    "#### Second method : Counter libraries"
   ]
  },
  {
   "cell_type": "code",
   "execution_count": 44,
   "metadata": {
    "slideshow": {
     "slide_type": "-"
    }
   },
   "outputs": [
    {
     "name": "stdout",
     "output_type": "stream",
     "text": [
      "Counter({'.': 7, 'i': 3, 'the': 3, 'a': 3, 'for': 3, 'found': 2, 'today': 1, 'small': 1, '!': 1, 'retro': 1, 'going': 1, 'use': 1, 'items': 1, 'highly': 1, 'went': 1, 'definitely': 1, 'great': 1, 'other': 1, 'dresser': 1, \"'\": 1, 'fair': 1, 'delivered': 1, 'up': 1, 'looking': 1, 'did': 1, 'piece': 1, 'm': 1, 'tv': 1, 'keep': 1, 'decor': 1, 'good': 1, 'in': 1, 'was': 1, 'perfect': 1, 'be': 1, 'work': 1, 'job': 1, 'and': 1, 'to': 1, 'look': 1, 'some': 1, 'recommended': 1, 'will': 1, 'stand': 1, 'back': 1, 'yesterday': 1, 'they': 1, 'price': 1, 'shawn': 1, 'as': 1})\n"
     ]
    }
   ],
   "source": [
    "from collections import Counter\n",
    "count = Counter(example_tokens)\n",
    "print(count)"
   ]
  },
  {
   "cell_type": "code",
   "execution_count": 45,
   "metadata": {
    "slideshow": {
     "slide_type": "-"
    }
   },
   "outputs": [
    {
     "data": {
      "text/plain": [
       "[('.', 7),\n",
       " ('i', 3),\n",
       " ('the', 3),\n",
       " ('a', 3),\n",
       " ('for', 3),\n",
       " ('found', 2),\n",
       " ('today', 1),\n",
       " ('small', 1),\n",
       " ('!', 1),\n",
       " ('retro', 1)]"
      ]
     },
     "execution_count": 45,
     "metadata": {},
     "output_type": "execute_result"
    }
   ],
   "source": [
    "count.most_common(10)"
   ]
  },
  {
   "cell_type": "markdown",
   "metadata": {
    "slideshow": {
     "slide_type": "subslide"
    }
   },
   "source": [
    "<h2 style = \"color:#BF0000\"><u>Exercise 2 : playing with the dataset</u></h2><br>\n",
    "- Try to see the most common words for all the texts\n",
    "- Preprocess completely the texts before the analysis\n",
    "- Find the most common words by rating on Yelp"
   ]
  },
  {
   "cell_type": "markdown",
   "metadata": {
    "nbpresent": {
     "id": "0b8a1880-08f5-4e41-995d-458110cc4ba9"
    },
    "slideshow": {
     "slide_type": "slide"
    }
   },
   "source": [
    "<h2><u>Tf-idf representation</u></h2>"
   ]
  },
  {
   "cell_type": "markdown",
   "metadata": {
    "slideshow": {
     "slide_type": "slide"
    }
   },
   "source": [
    "<h2><u>Analysis using Ekimetrics library</u></h2>"
   ]
  },
  {
   "cell_type": "code",
   "execution_count": 17,
   "metadata": {
    "slideshow": {
     "slide_type": "subslide"
    }
   },
   "outputs": [],
   "source": [
    "from ekimetrics.nlp import spacy_models,models,utils"
   ]
  },
  {
   "cell_type": "markdown",
   "metadata": {
    "slideshow": {
     "slide_type": "-"
    }
   },
   "source": [
    "### Loading the spaCy engine"
   ]
  },
  {
   "cell_type": "code",
   "execution_count": 16,
   "metadata": {
    "slideshow": {
     "slide_type": "-"
    }
   },
   "outputs": [
    {
     "name": "stdout",
     "output_type": "stream",
     "text": [
      ">> Loading spaCy NLP brain\n",
      "... Process \"loading spaCy\" finished in 0m10s\n"
     ]
    }
   ],
   "source": [
    "nlp = spacy_models.spacy_brain()"
   ]
  },
  {
   "cell_type": "markdown",
   "metadata": {
    "slideshow": {
     "slide_type": "subslide"
    }
   },
   "source": [
    "### Loading the advanced corpus model with spaCy"
   ]
  },
  {
   "cell_type": "code",
   "execution_count": 18,
   "metadata": {
    "slideshow": {
     "slide_type": "-"
    }
   },
   "outputs": [
    {
     "name": "stdout",
     "output_type": "stream",
     "text": [
      "[100/100] Spacy NLP analysis ... finished in 0m2s\n"
     ]
    }
   ],
   "source": [
    "spacy_corpus = spacy_models.Spacy_Corpus(json_path = \"Data/texts_full_cleaned.json\",nlp = nlp,max_documents=100)"
   ]
  },
  {
   "cell_type": "markdown",
   "metadata": {
    "slideshow": {
     "slide_type": "subslide"
    }
   },
   "source": [
    "### Cleaning the corpus"
   ]
  },
  {
   "cell_type": "code",
   "execution_count": 19,
   "metadata": {
    "slideshow": {
     "slide_type": "-"
    }
   },
   "outputs": [
    {
     "name": "stdout",
     "output_type": "stream",
     "text": [
      ">> Cleaning the corpus\n",
      "[100/100] Filtering unwanted tokens ... finished in 0m1s\n",
      "[100/100] Lemmatizing tokens ... finished in 0m1s\n",
      "[100/100] Filtering unwanted tokens ... finished in 0m1s\n",
      "[100/100] Applying token collocation model on documents ... finished in 0m5s\n",
      "[100/100] Applying token collocation model on documents ... finished in 0m5s\n"
     ]
    }
   ],
   "source": [
    "spacy_corpus.clean()"
   ]
  },
  {
   "cell_type": "markdown",
   "metadata": {
    "slideshow": {
     "slide_type": "subslide"
    }
   },
   "source": [
    "### Clustering the documents"
   ]
  },
  {
   "cell_type": "code",
   "execution_count": 20,
   "metadata": {
    "slideshow": {
     "slide_type": "-"
    }
   },
   "outputs": [
    {
     "name": "stdout",
     "output_type": "stream",
     "text": [
      ">> Clustering on the corpus ...\n",
      "... Process \"clustering\" finished in 0m0s\n",
      ">> Cluster 0 - 27 documents - top words : energy, service, contact, technology, solution\n",
      ">> Cluster 1 - 8 documents - top words : solution, service, product, support, ice\n",
      ">> Cluster 2 - 8 documents - top words : content, website, use, liability, party\n",
      ">> Cluster 3 - 7 documents - top words : group, scheme, member, technology, water\n",
      ">> Cluster 4 - 11 documents - top words : solar, energy, home, installation, year\n",
      ">> Cluster 5 - 8 documents - top words : sensor, wind, technology, turbine, monitor\n",
      ">> Cluster 6 - 2 documents - top words : reason, domain, configure, asap, visit\n",
      ">> Cluster 7 - 2 documents - top words : transformer, special, substation, choke, smit\n",
      ">> Cluster 8 - 5 documents - top words : ups, marine, power, severn, innovation\n",
      ">> Cluster 9 - 22 documents - top words : product, contact, solution, power, engine\n"
     ]
    }
   ],
   "source": [
    "spacy_corpus.clustering()\n",
    "spacy_corpus.describe_clusters()"
   ]
  },
  {
   "cell_type": "markdown",
   "metadata": {
    "slideshow": {
     "slide_type": "subslide"
    }
   },
   "source": [
    "### Latent Dirichlet Allocation"
   ]
  },
  {
   "cell_type": "code",
   "execution_count": 21,
   "metadata": {
    "slideshow": {
     "slide_type": "-"
    }
   },
   "outputs": [
    {
     "name": "stdout",
     "output_type": "stream",
     "text": [
      ">> Computing the Latent Dirichlet Allocation algorithm on the corpus\n",
      "... Indexing the tokens in the corpus\n",
      "... Creating a Bag of Words representation of the corpus as a sparse matrix\n",
      "... Applying the Latent Dirichlet Algorithm to detect the topics\n",
      "... finished in 0m8s\n"
     ]
    }
   ],
   "source": [
    "lda = spacy_corpus.LDA(save = \"lda_model\",n_topics=20)"
   ]
  },
  {
   "cell_type": "code",
   "execution_count": 22,
   "metadata": {
    "slideshow": {
     "slide_type": "subslide"
    }
   },
   "outputs": [
    {
     "data": {
      "text/html": [
       "\n",
       "<link rel=\"stylesheet\" type=\"text/css\" href=\"https://cdn.rawgit.com/bmabey/pyLDAvis/files/ldavis.v1.0.0.css\">\n",
       "\n",
       "\n",
       "<div id=\"ldavis_el1424415513548803565453513\"></div>\n",
       "<script type=\"text/javascript\">\n",
       "\n",
       "var ldavis_el1424415513548803565453513_data = {\"topic.order\": [18, 1, 15, 13, 19, 4, 6, 7, 3, 12, 20, 5, 16, 11, 14, 17, 10, 9, 8, 2], \"token.table\": {\"Topic\": [1, 3, 4, 5, 6, 7, 8, 13, 15, 17, 1, 2, 3, 4, 6, 9, 11, 14, 18, 3, 5, 6, 7, 8, 10, 17, 18, 1, 2, 5, 8, 9, 10, 12, 16, 1, 2, 3, 4, 5, 7, 8, 9, 10, 11, 12, 13, 14, 15, 17, 1, 2, 3, 5, 7, 10, 11, 16, 17, 18, 1, 2, 4, 5, 6, 7, 9, 12, 13, 14, 15, 1, 2, 3, 4, 5, 6, 10, 11, 12, 13, 15, 17, 1, 2, 3, 4, 5, 6, 7, 8, 9, 10, 11, 12, 13, 15, 19, 1, 2, 3, 4, 5, 6, 8, 10, 12, 13, 14, 15, 1, 2, 3, 4, 6, 7, 8, 9, 10, 11, 12, 13, 14, 17, 1, 2, 3, 6, 11, 12, 13, 16, 1, 3, 4, 5, 8, 9, 11, 12, 13, 15, 1, 2, 9, 11, 12, 13, 18, 1, 2, 3, 4, 5, 6, 7, 8, 9, 10, 11, 12, 13, 14, 15, 17, 1, 2, 3, 4, 6, 8, 9, 11, 12, 14, 15, 17, 1, 2, 3, 4, 5, 6, 7, 8, 12, 13, 15, 18, 19, 20, 1, 3, 4, 6, 9, 11, 13, 18, 1, 2, 3, 4, 6, 7, 9, 10, 13, 16, 18, 1, 2, 3, 4, 5, 7, 10, 11, 13, 15, 16, 17, 1, 4, 6, 7, 10, 17, 19, 1, 2, 3, 4, 5, 6, 7, 8, 9, 10, 11, 12, 13, 16, 18, 1, 2, 3, 4, 6, 7, 10, 11, 12, 13, 15, 16, 18, 1, 2, 3, 4, 5, 7, 9, 10, 11, 12, 15, 16, 19, 1, 2, 3, 4, 6, 7, 9, 11, 12, 13, 14, 15, 16, 1, 2, 3, 4, 6, 7, 12, 18, 1, 2, 3, 4, 5, 6, 7, 10, 12, 13, 14, 15, 16, 17, 1, 2, 3, 4, 5, 6, 8, 9, 10, 11, 12, 13, 14, 15, 16, 1, 2, 3, 5, 7, 8, 9, 10, 12, 14, 15, 17, 1, 2, 3, 7, 8, 10, 11, 17, 18, 1, 2, 3, 4, 5, 6, 8, 9, 10, 11, 14, 15, 16, 17, 1, 2, 3, 4, 6, 8, 10, 11, 12, 13, 1, 3, 4, 5, 6, 7, 9, 11, 13, 16, 17, 1, 2, 3, 4, 5, 6, 7, 10, 13, 15, 1, 2, 3, 4, 6, 7, 9, 10, 11, 12, 13, 14, 17, 18, 19, 1, 2, 3, 4, 5, 6, 7, 8, 9, 10, 11, 12, 13, 14, 16, 17, 18, 1, 2, 3, 4, 5, 6, 7, 9, 10, 11, 12, 13, 15, 1, 2, 3, 4, 6, 8, 10, 13, 14, 15, 18, 1, 2, 3, 4, 5, 6, 7, 8, 10, 11, 12, 13, 15, 17, 1, 2, 4, 5, 7, 8, 11, 13, 15, 16, 17, 18, 1, 2, 3, 4, 5, 7, 8, 9, 10, 11, 12, 13, 14, 15, 16, 17, 19, 1, 2, 3, 4, 5, 6, 9, 11, 12, 13, 16, 18, 1, 2, 3, 6, 8, 9, 11, 12, 17, 1, 2, 3, 4, 6, 7, 8, 10, 11, 12, 13, 1, 2, 3, 4, 5, 6, 7, 8, 9, 10, 11, 12, 14, 15, 16, 18, 1, 2, 3, 4, 5, 6, 7, 8, 9, 10, 11, 12, 14, 15, 19, 1, 2, 3, 5, 8, 9, 10, 11, 13, 14, 15, 18, 3, 5, 8, 9, 10, 17, 18, 1, 2, 3, 6, 9, 10, 12, 13, 19, 1, 2, 3, 5, 6, 7, 9, 10, 11, 12, 1, 4, 5, 6, 7, 8, 10, 11, 12, 13, 15, 18, 1, 2, 3, 4, 6, 8, 11, 12, 13, 17, 18, 1, 2, 4, 5, 6, 9, 10, 12, 13, 1, 2, 4, 5, 6, 7, 8, 9, 10, 11, 12, 14, 15, 18, 1, 2, 4, 6, 7, 8, 11, 12, 1, 3, 4, 5, 6, 7, 8, 10, 12, 14, 1, 3, 5, 6, 7, 8, 10, 11, 1, 2, 3, 4, 5, 6, 7, 8, 9, 10, 11, 12, 13, 15, 1, 2, 3, 4, 5, 6, 7, 8, 9, 11, 12, 13, 14, 15, 17, 18, 19, 2, 3, 5, 6, 7, 8, 9, 10, 12, 13, 14, 15, 17, 18, 1, 2, 3, 4, 5, 6, 8, 9, 10, 11, 13, 14, 15, 16, 1, 2, 3, 4, 5, 6, 7, 8, 9, 10, 11, 12, 13, 17, 19, 1, 2, 3, 4, 5, 6, 7, 8, 9, 10, 12, 14, 15, 16, 19, 1, 2, 5, 7, 8, 11, 15, 18, 1, 2, 3, 4, 5, 6, 7, 8, 9, 10, 11, 12, 13, 14, 15, 16, 20, 1, 2, 3, 4, 5, 8, 10, 11, 13, 14, 15, 17, 1, 2, 3, 4, 5, 6, 7, 8, 9, 10, 11, 12, 13, 15, 16, 1, 3, 4, 5, 6, 8, 9, 10, 11, 12, 13, 1, 2, 4, 5, 6, 7, 8, 9, 10, 14, 15, 1, 2, 3, 5, 7, 8, 9, 10, 11, 12, 1, 2, 3, 4, 5, 7, 12, 16, 17, 1, 2, 3, 4, 5, 7, 8, 9, 10, 11, 12, 13, 15, 1, 3, 4, 7, 9, 10, 11, 12, 13, 17, 1, 3, 4, 5, 6, 7, 8, 12, 18, 1, 2, 3, 4, 5, 6, 7, 8, 9, 11, 12, 13, 14, 15, 16, 1, 2, 4, 8, 10, 11, 12, 1, 2, 3, 4, 5, 6, 8, 9, 10, 11, 13, 14, 15, 16, 1, 2, 3, 4, 5, 6, 7, 8, 10, 11, 12, 13, 15, 17, 18, 20, 2, 3, 4, 5, 6, 8, 9, 10, 11, 12, 1, 2, 3, 4, 5, 6, 7, 8, 9, 10, 12, 1, 2, 3, 4, 5, 6, 8, 9, 10, 11, 12, 13, 15, 19, 2, 4, 6, 7, 9, 10, 11, 12, 13, 15, 16, 1, 3, 4, 6, 8, 9, 10, 11, 12, 13, 15, 18, 19, 1, 3, 4, 6, 7, 10, 11, 12, 13, 1, 3, 4, 5, 6, 7, 10, 11, 12, 13, 14, 15, 18, 1, 2, 3, 4, 5, 6, 8, 10, 11, 12, 17, 1, 2, 3, 4, 5, 6, 7, 10, 11, 12, 13, 16, 1, 2, 3, 4, 5, 6, 7, 8, 9, 10, 11, 12, 13, 14, 15, 16, 18, 19, 20, 1, 2, 3, 4, 7, 8, 9, 10, 11, 12, 13, 15, 16, 1, 2, 4, 5, 6, 8, 13, 18, 1, 2, 4, 6, 7, 14, 16, 1, 2, 3, 4, 6, 7, 8, 10, 11, 12, 18, 1, 2, 3, 4, 5, 6, 7, 9, 10, 11, 12, 13, 14, 15, 16, 17, 1, 2, 3, 4, 5, 6, 7, 9, 10, 11, 14, 15, 1, 2, 3, 4, 6, 9, 11, 15, 1, 2, 3, 4, 8, 10, 11, 12, 1, 2, 3, 4, 5, 6, 7, 8, 9, 11, 12, 13, 18, 19, 1, 2, 3, 4, 5, 6, 9, 10, 11, 12, 13, 14, 15, 16, 1, 2, 4, 5, 6, 8, 9, 11, 12, 13, 14, 16, 19, 1, 2, 3, 4, 5, 6, 10, 11, 12, 14, 16, 1, 2, 3, 4, 5, 6, 10, 11, 12, 13, 15, 1, 2, 3, 4, 5, 6, 7, 8, 9, 10, 11, 12, 14, 16, 17, 1, 2, 3, 4, 5, 6, 7, 8, 9, 10, 11, 12, 13, 14, 15, 17, 18, 19, 1, 3, 4, 5, 6, 7, 8, 9, 10, 11, 12, 17, 18, 1, 2, 3, 5, 6, 7, 8, 9, 12, 15, 16, 1, 2, 3, 8, 9, 13, 17, 1, 2, 3, 4, 5, 6, 7, 8, 9, 10, 12, 13, 15, 16, 18, 1, 2, 3, 4, 5, 6, 7, 8, 9, 10, 11, 12, 14, 15, 17, 1, 2, 3, 4, 5, 6, 8, 9, 10, 11, 14, 15, 1, 2, 3, 4, 5, 6, 7, 8, 9, 10, 11, 12, 13, 14, 16, 17, 18, 1, 2, 3, 5, 6, 7, 8, 9, 10, 12, 13, 14, 15, 18, 1, 2, 3, 4, 5, 6, 7, 8, 9, 10, 11, 14, 15, 1, 2, 3, 4, 5, 6, 7, 8, 9, 10, 15, 1, 2, 3, 4, 5, 6, 7, 8, 10, 11, 12, 13, 16, 2, 4, 5, 7, 8, 11, 14, 17, 1, 2, 3, 7, 9, 10, 16, 17, 1, 2, 3, 4, 5, 6, 7, 9, 10, 11, 13, 14, 15, 16, 18, 1, 3, 4, 5, 7, 8, 9, 10, 11, 13, 15, 19, 1, 2, 3, 4, 5, 6, 7, 8, 9, 10, 11, 12, 13, 14, 15, 18, 1, 2, 3, 4, 5, 6, 7, 8, 9, 11, 16, 1, 2, 3, 5, 6, 9, 11, 12, 13, 16, 1, 2, 4, 5, 9, 10, 12, 13, 16, 1, 2, 3, 4, 5, 7, 8, 9, 10, 11, 12, 13, 14, 15, 18, 19, 1, 2, 4, 5, 8, 9, 10, 11, 13, 14, 15, 16, 19, 1, 2, 3, 4, 5, 7, 8, 10, 12, 17, 18, 1, 2, 3, 4, 5, 7, 12, 13, 16, 17, 1, 2, 3, 4, 5, 8, 9, 10, 11, 13, 15, 17, 1, 2, 3, 4, 8, 9, 11, 13, 14, 16, 18, 1, 3, 5, 6, 8, 10, 11, 12, 15, 20, 1, 2, 3, 6, 7, 9, 10, 11, 12, 14, 15, 17, 1, 2, 3, 4, 6, 7, 8, 9, 10, 11, 12, 13, 14, 15, 18, 19, 1, 2, 3, 4, 6, 7, 9, 10, 18, 19, 1, 2, 3, 4, 5, 6, 7, 8, 9, 10, 11, 12, 15, 16, 17, 18, 1, 2, 3, 5, 6, 7, 8, 9, 10, 11, 12, 13, 17, 18, 20, 1, 2, 3, 4, 5, 6, 7, 8, 10, 11, 12, 14, 15, 17, 18, 1, 2, 3, 4, 7, 8, 10, 13, 14, 15, 1, 2, 4, 5, 10, 11, 12, 13, 14, 15, 16, 19, 1, 2, 3, 5, 6, 7, 8, 11, 12, 13, 15, 17, 18, 1, 2, 6, 8, 9, 10, 11, 12, 14, 15, 1, 2, 3, 4, 5, 6, 10, 11, 12, 13, 14, 15, 16, 17, 1, 2, 3, 4, 5, 6, 8, 9, 10, 11, 12, 13, 14, 15, 16, 17, 18, 1, 2, 5, 8, 9, 10, 11, 12, 13, 14, 15, 17, 1, 2, 3, 4, 6, 7, 9, 10, 12, 14, 18, 1, 3, 4, 6, 10, 11, 12, 16, 1, 2, 3, 4, 5, 6, 7, 8, 9, 10, 11, 12, 13, 14, 15, 17, 18, 19, 1, 2, 3, 4, 5, 6, 10, 11, 12, 13, 14, 16, 17, 1, 2, 3, 4, 5, 6, 9, 10, 11, 12, 14, 15, 1, 2, 3, 4, 5, 6, 7, 8, 10, 11, 13, 14, 16, 1, 2, 3, 6, 8, 10, 12, 14, 15, 16, 1, 3, 4, 6, 7, 17, 1, 2, 3, 4, 5, 6, 7, 8, 11, 16, 1, 2, 3, 5, 6, 7, 8, 10, 17, 18, 1, 2, 3, 4, 5, 6, 7, 8, 9, 11, 12, 13, 14, 15, 16, 19, 1, 2, 3, 4, 5, 6, 7, 8, 9, 10, 11, 12, 13, 14, 15, 19, 3, 4, 5, 6, 7, 8, 11, 12, 13, 16, 17, 7, 8, 10, 13, 14, 19, 1, 2, 6, 7, 10, 12, 16, 17, 1, 2, 4, 5, 7, 8, 12, 17, 18, 1, 2, 3, 4, 5, 6, 7, 8, 9, 10, 12, 14, 15, 17, 18, 19, 1, 2, 3, 4, 5, 6, 7, 8, 9, 10, 11, 12, 13, 14, 15, 16, 17, 2, 3, 4, 5, 6, 7, 8, 9, 14, 1, 2, 3, 4, 6, 8, 10, 11, 12, 13, 16, 1, 2, 3, 4, 5, 9, 10, 12, 14, 1, 2, 3, 4, 5, 6, 8, 9, 10, 11, 13, 15, 16, 1, 2, 3, 4, 6, 7, 8, 9, 10, 12, 15, 16, 1, 3, 4, 5, 8, 9, 10, 11, 12, 13, 15, 2, 3, 4, 5, 7, 8, 9, 11, 12, 2, 3, 4, 5, 6, 7, 8, 9, 10, 11, 12, 15, 16, 17, 1, 2, 4, 5, 6, 8, 9, 10, 11, 12, 16, 17, 1, 2, 3, 4, 5, 6, 7, 8, 10, 11, 12, 14, 15, 16, 1, 2, 3, 5, 9, 10, 11, 12, 14, 16, 18, 1, 2, 4, 5, 6, 7, 9, 11, 13, 18, 1, 2, 3, 4, 5, 6, 7, 8, 10, 11, 13, 14, 16, 18, 1, 2, 3, 4, 5, 6, 7, 8, 10, 12, 13, 14, 15, 17, 18, 1, 2, 4, 5, 6, 7, 8, 10, 12, 15, 17, 1, 2, 3, 4, 5, 6, 7, 8, 9, 10, 11, 12, 13, 14, 15, 18, 1, 2, 3, 4, 5, 6, 7, 9, 10, 11, 13, 14, 15, 1, 2, 3, 5, 6, 7, 8, 9, 10, 11, 13, 14, 18, 19, 1, 2, 3, 4, 5, 6, 8, 9, 11, 13, 14, 2, 3, 4, 5, 7, 8, 10, 14, 19, 1, 2, 3, 7, 8, 9, 10, 14, 17, 19, 1, 2, 3, 4, 7, 8, 9, 10, 11, 12, 13, 1, 2, 3, 4, 6, 9, 11, 12, 13, 15, 16, 1, 2, 3, 4, 5, 6, 7, 11, 13, 16, 17, 18, 1, 2, 3, 4, 5, 6, 7, 8, 9, 10, 11, 12, 13, 14, 15, 16, 17, 18, 1, 2, 3, 6, 8, 9, 11, 12, 13, 14, 1, 2, 3, 4, 5, 6, 8, 9, 10, 12, 13, 1, 2, 3, 5, 10, 11, 13, 15, 18, 1, 2, 3, 4, 5, 6, 7, 10, 11, 12, 13, 15, 16, 19, 1, 2, 3, 4, 7, 9, 10, 12, 17, 18, 19, 1, 2, 3, 4, 5, 6, 8, 9, 10, 11, 12, 15, 1, 2, 3, 4, 5, 6, 7, 11, 14, 18, 1, 2, 3, 4, 5, 6, 7, 8, 9, 10, 11, 13, 14, 15, 16, 1, 2, 3, 4, 5, 6, 7, 9, 10, 11, 12, 13, 15, 17, 2, 3, 4, 5, 6, 7, 8, 10, 11, 15, 19, 1, 2, 4, 5, 6, 7, 8, 9, 13, 14, 18, 1, 2, 3, 4, 5, 6, 7, 8, 9, 10, 11, 12, 13, 14, 16, 17, 18, 1, 3, 4, 5, 6, 9, 11, 13, 15, 16, 17, 18, 1, 2, 3, 4, 6, 9, 11, 12, 13, 15, 16, 1, 2, 3, 4, 5, 6, 7, 8, 9, 11, 12, 13, 15, 16, 17, 18, 1, 2, 3, 4, 5, 6, 7, 8, 9, 10, 11, 12, 13, 16, 18, 1, 2, 5, 7, 9, 10, 12, 17, 1, 2, 3, 6, 9, 10, 14, 17, 18, 1, 2, 3, 4, 5, 6, 7, 9, 10, 11, 12, 13, 14, 15, 17, 18, 1, 2, 3, 4, 5, 6, 7, 8, 9, 10, 11, 12, 13, 14, 19, 1, 2, 3, 5, 6, 7, 8, 9, 10, 11, 12, 13, 14, 15, 16, 18, 1, 2, 3, 5, 6, 7, 8, 11, 12, 13, 14, 15, 16, 17, 1, 2, 3, 4, 5, 6, 8, 9, 10, 12, 13, 14, 15, 18, 2, 5, 6, 7, 9, 12, 14, 15, 16, 17, 18, 1, 2, 3, 4, 5, 6, 7, 10, 11, 13, 15, 16, 1, 2, 3, 4, 5, 6, 7, 9, 12, 13, 15, 16, 18, 1, 2, 3, 5, 8, 10, 11, 13, 15, 18, 1, 2, 3, 5, 6, 8, 9, 10, 11, 13, 15, 17, 18, 1, 2, 3, 4, 5, 6, 7, 8, 9, 10, 11, 12, 13, 15, 16, 1, 2, 3, 4, 5, 7, 10, 12, 1, 2, 3, 4, 5, 6, 8, 9, 10, 11, 12, 13, 14, 15, 16, 19, 1, 4, 5, 7, 8, 9, 11, 12, 13, 18, 1, 2, 3, 4, 5, 6, 7, 8, 9, 10, 11, 12, 13, 14, 15, 17, 19, 1, 2, 3, 5, 6, 7, 8, 9, 10, 12, 13, 14, 17, 1, 2, 3, 4, 5, 7, 8, 9, 11, 12, 13, 15, 17, 19, 1, 2, 3, 4, 5, 6, 7, 8, 9, 10, 11, 12, 13, 14, 15, 17, 3, 4, 7, 8, 9, 12, 17, 1, 2, 3, 4, 5, 6, 7, 8, 9, 10, 11, 12, 13, 14, 15, 16, 17, 19], \"Freq\": [0.049021047632048356, 0.09804209526409671, 0.049021047632048356, 0.09804209526409671, 0.049021047632048356, 0.2451052381602418, 0.09804209526409671, 0.049021047632048356, 0.049021047632048356, 0.049021047632048356, 0.11546970994461414, 0.05773485497230707, 0.23093941988922828, 0.05773485497230707, 0.11546970994461414, 0.05773485497230707, 0.11546970994461414, 0.05773485497230707, 0.05773485497230707, 0.15890598220505933, 0.07945299110252967, 0.07945299110252967, 0.07945299110252967, 0.15890598220505933, 0.07945299110252967, 0.07945299110252967, 0.07945299110252967, 0.26454672864315665, 0.21163738291452533, 0.05290934572863133, 0.05290934572863133, 0.158728037185894, 0.05290934572863133, 0.05290934572863133, 0.05290934572863133, 0.14309294153477256, 0.14309294153477256, 0.14309294153477256, 0.09539529435651505, 0.04769764717825752, 0.04769764717825752, 0.04769764717825752, 0.04769764717825752, 0.04769764717825752, 0.04769764717825752, 0.04769764717825752, 0.04769764717825752, 0.04769764717825752, 0.04769764717825752, 0.04769764717825752, 0.10723961127027529, 0.10723961127027529, 0.16085941690541294, 0.05361980563513764, 0.10723961127027529, 0.05361980563513764, 0.05361980563513764, 0.10723961127027529, 0.05361980563513764, 0.10723961127027529, 0.3085881357100583, 0.04408401938715118, 0.04408401938715118, 0.13225205816145355, 0.04408401938715118, 0.04408401938715118, 0.08816803877430236, 0.04408401938715118, 0.04408401938715118, 0.08816803877430236, 0.04408401938715118, 0.04514009746259713, 0.04514009746259713, 0.09028019492519426, 0.04514009746259713, 0.09028019492519426, 0.09028019492519426, 0.04514009746259713, 0.1354202923877914, 0.09028019492519426, 0.1354202923877914, 0.04514009746259713, 0.09028019492519426, 0.04417934734949372, 0.154627715723228, 0.13253804204848116, 0.04417934734949372, 0.08835869469898744, 0.02208967367474686, 0.04417934734949372, 0.04417934734949372, 0.04417934734949372, 0.06626902102424058, 0.06626902102424058, 0.13253804204848116, 0.02208967367474686, 0.04417934734949372, 0.02208967367474686, 0.0323683731854407, 0.0323683731854407, 0.1618418659272035, 0.0323683731854407, 0.1618418659272035, 0.0323683731854407, 0.1942102391126442, 0.1294734927417628, 0.0323683731854407, 0.0647367463708814, 0.0647367463708814, 0.0323683731854407, 0.19131444851931867, 0.11957153032457418, 0.09565722425965933, 0.16740014245440385, 0.04782861212982967, 0.023914306064914834, 0.04782861212982967, 0.0717429181947445, 0.04782861212982967, 0.04782861212982967, 0.04782861212982967, 0.023914306064914834, 0.023914306064914834, 0.023914306064914834, 0.40445699270723157, 0.040445699270723154, 0.12133709781216948, 0.12133709781216948, 0.040445699270723154, 0.08089139854144631, 0.040445699270723154, 0.040445699270723154, 0.18816563208101889, 0.06272187736033963, 0.12544375472067926, 0.06272187736033963, 0.18816563208101889, 0.06272187736033963, 0.06272187736033963, 0.06272187736033963, 0.06272187736033963, 0.06272187736033963, 0.07074630679091932, 0.14149261358183865, 0.2829852271636773, 0.14149261358183865, 0.14149261358183865, 0.14149261358183865, 0.07074630679091932, 0.10436406801263787, 0.10436406801263787, 0.18785532242274816, 0.020872813602527573, 0.04174562720505515, 0.04174562720505515, 0.020872813602527573, 0.10436406801263787, 0.04174562720505515, 0.04174562720505515, 0.06261844080758272, 0.12523688161516544, 0.020872813602527573, 0.04174562720505515, 0.020872813602527573, 0.020872813602527573, 0.21752915406929166, 0.03625485901154861, 0.03625485901154861, 0.07250971802309722, 0.18127429505774303, 0.18127429505774303, 0.03625485901154861, 0.07250971802309722, 0.07250971802309722, 0.03625485901154861, 0.03625485901154861, 0.03625485901154861, 0.05148684968427062, 0.05148684968427062, 0.10297369936854124, 0.07723027452640593, 0.20594739873708248, 0.02574342484213531, 0.02574342484213531, 0.30892109810562374, 0.02574342484213531, 0.02574342484213531, 0.05148684968427062, 0.02574342484213531, 0.02574342484213531, 0.02574342484213531, 0.11043953324144579, 0.11043953324144579, 0.22087906648289157, 0.16565929986216868, 0.05521976662072289, 0.11043953324144579, 0.05521976662072289, 0.05521976662072289, 0.044570776021121035, 0.044570776021121035, 0.17828310408448414, 0.17828310408448414, 0.044570776021121035, 0.044570776021121035, 0.08914155204224207, 0.044570776021121035, 0.044570776021121035, 0.044570776021121035, 0.22285388010560517, 0.13052689729350658, 0.1740358630580088, 0.0435089657645022, 0.13052689729350658, 0.0870179315290044, 0.0870179315290044, 0.0435089657645022, 0.0435089657645022, 0.0870179315290044, 0.0435089657645022, 0.0435089657645022, 0.0435089657645022, 0.3433050940478455, 0.11443503134928183, 0.057217515674640916, 0.17165254702392274, 0.17165254702392274, 0.057217515674640916, 0.057217515674640916, 0.06290158287149644, 0.03145079143574822, 0.12580316574299288, 0.09435237430724465, 0.09435237430724465, 0.12580316574299288, 0.09435237430724465, 0.03145079143574822, 0.03145079143574822, 0.09435237430724465, 0.03145079143574822, 0.09435237430724465, 0.03145079143574822, 0.03145079143574822, 0.03145079143574822, 0.10437150509722223, 0.05218575254861112, 0.05218575254861112, 0.05218575254861112, 0.10437150509722223, 0.05218575254861112, 0.05218575254861112, 0.05218575254861112, 0.05218575254861112, 0.15655725764583334, 0.05218575254861112, 0.10437150509722223, 0.05218575254861112, 0.1438546353802911, 0.1438546353802911, 0.07192731769014556, 0.03596365884507278, 0.07192731769014556, 0.03596365884507278, 0.03596365884507278, 0.07192731769014556, 0.07192731769014556, 0.1438546353802911, 0.07192731769014556, 0.03596365884507278, 0.03596365884507278, 0.037690466728887144, 0.07538093345777429, 0.15076186691554858, 0.018845233364443572, 0.131916633551105, 0.037690466728887144, 0.05653570009333071, 0.037690466728887144, 0.018845233364443572, 0.05653570009333071, 0.28267850046665355, 0.018845233364443572, 0.05653570009333071, 0.04742130042254343, 0.09484260084508686, 0.09484260084508686, 0.37937040338034744, 0.1422639012676303, 0.04742130042254343, 0.09484260084508686, 0.04742130042254343, 0.0307905151738296, 0.0615810303476592, 0.0307905151738296, 0.153952575869148, 0.18474309104297762, 0.09237154552148881, 0.09237154552148881, 0.0615810303476592, 0.153952575869148, 0.0307905151738296, 0.0307905151738296, 0.0307905151738296, 0.0307905151738296, 0.0307905151738296, 0.044510483959841814, 0.17804193583936725, 0.08902096791968363, 0.08902096791968363, 0.044510483959841814, 0.08902096791968363, 0.08902096791968363, 0.044510483959841814, 0.08902096791968363, 0.044510483959841814, 0.044510483959841814, 0.044510483959841814, 0.044510483959841814, 0.044510483959841814, 0.044510483959841814, 0.15015393730863758, 0.2252309059629564, 0.07507696865431879, 0.037538484327159394, 0.07507696865431879, 0.037538484327159394, 0.1126154529814782, 0.07507696865431879, 0.1126154529814782, 0.037538484327159394, 0.037538484327159394, 0.037538484327159394, 0.34011232192168583, 0.11337077397389526, 0.11337077397389526, 0.05668538698694763, 0.11337077397389526, 0.05668538698694763, 0.05668538698694763, 0.05668538698694763, 0.05668538698694763, 0.054613604468219286, 0.21845441787287714, 0.054613604468219286, 0.054613604468219286, 0.16384081340465786, 0.054613604468219286, 0.054613604468219286, 0.054613604468219286, 0.054613604468219286, 0.054613604468219286, 0.054613604468219286, 0.054613604468219286, 0.054613604468219286, 0.054613604468219286, 0.10517490909223676, 0.10517490909223676, 0.05258745454611838, 0.10517490909223676, 0.05258745454611838, 0.15776236363835514, 0.05258745454611838, 0.05258745454611838, 0.15776236363835514, 0.05258745454611838, 0.02680560719869593, 0.10722242879478372, 0.02680560719869593, 0.02680560719869593, 0.02680560719869593, 0.4020841079804389, 0.02680560719869593, 0.13402803599347965, 0.05361121439739186, 0.05361121439739186, 0.10722242879478372, 0.06914305044336368, 0.13828610088672735, 0.13828610088672735, 0.06914305044336368, 0.06914305044336368, 0.06914305044336368, 0.13828610088672735, 0.06914305044336368, 0.06914305044336368, 0.06914305044336368, 0.10406311425060179, 0.08671926187550148, 0.017343852375100298, 0.06937540950040119, 0.10406311425060179, 0.034687704750200596, 0.1560946713759027, 0.19078237612610327, 0.017343852375100298, 0.017343852375100298, 0.052031557125300894, 0.017343852375100298, 0.017343852375100298, 0.034687704750200596, 0.052031557125300894, 0.07055012178096604, 0.03527506089048302, 0.07055012178096604, 0.03527506089048302, 0.03527506089048302, 0.10582518267144904, 0.1763753044524151, 0.03527506089048302, 0.03527506089048302, 0.07055012178096604, 0.10582518267144904, 0.10582518267144904, 0.03527506089048302, 0.03527506089048302, 0.03527506089048302, 0.03527506089048302, 0.03527506089048302, 0.20360410237936624, 0.12216246142761975, 0.0814416409517465, 0.0814416409517465, 0.04072082047587325, 0.04072082047587325, 0.04072082047587325, 0.04072082047587325, 0.04072082047587325, 0.12216246142761975, 0.0814416409517465, 0.04072082047587325, 0.04072082047587325, 0.053108659412695464, 0.053108659412695464, 0.10621731882539093, 0.1593259782380864, 0.10621731882539093, 0.1593259782380864, 0.10621731882539093, 0.053108659412695464, 0.053108659412695464, 0.053108659412695464, 0.053108659412695464, 0.1060034125300475, 0.1060034125300475, 0.03533447084334917, 0.17667235421674582, 0.03533447084334917, 0.07066894168669834, 0.1060034125300475, 0.07066894168669834, 0.07066894168669834, 0.07066894168669834, 0.03533447084334917, 0.03533447084334917, 0.03533447084334917, 0.03533447084334917, 0.1295510030895275, 0.19432650463429124, 0.06477550154476375, 0.06477550154476375, 0.06477550154476375, 0.06477550154476375, 0.06477550154476375, 0.06477550154476375, 0.06477550154476375, 0.06477550154476375, 0.06477550154476375, 0.06477550154476375, 0.33268969630283957, 0.036965521811426615, 0.09241380452856654, 0.036965521811426615, 0.07393104362285323, 0.09241380452856654, 0.018482760905713307, 0.055448282717139925, 0.018482760905713307, 0.018482760905713307, 0.018482760905713307, 0.07393104362285323, 0.036965521811426615, 0.018482760905713307, 0.018482760905713307, 0.018482760905713307, 0.018482760905713307, 0.04414192019401236, 0.1324257605820371, 0.04414192019401236, 0.17656768077604945, 0.04414192019401236, 0.2648515211640742, 0.04414192019401236, 0.08828384038802473, 0.04414192019401236, 0.04414192019401236, 0.04414192019401236, 0.04414192019401236, 0.1554546769996231, 0.20727290266616413, 0.10363645133308207, 0.05181822566654103, 0.05181822566654103, 0.10363645133308207, 0.05181822566654103, 0.10363645133308207, 0.05181822566654103, 0.1280932600486289, 0.08539550669908592, 0.08539550669908592, 0.2134887667477148, 0.04269775334954296, 0.04269775334954296, 0.08539550669908592, 0.04269775334954296, 0.17079101339817185, 0.04269775334954296, 0.04269775334954296, 0.16359557185155807, 0.13632964320963173, 0.05453185728385269, 0.08179778592577903, 0.027265928641926344, 0.027265928641926344, 0.027265928641926344, 0.10906371456770537, 0.05453185728385269, 0.027265928641926344, 0.05453185728385269, 0.08179778592577903, 0.027265928641926344, 0.05453185728385269, 0.027265928641926344, 0.027265928641926344, 0.05699145937694053, 0.1329800718795279, 0.05699145937694053, 0.07598861250258737, 0.09498576562823421, 0.037994306251293686, 0.018997153125646843, 0.11398291875388106, 0.11398291875388106, 0.05699145937694053, 0.11398291875388106, 0.037994306251293686, 0.018997153125646843, 0.037994306251293686, 0.018997153125646843, 0.059549014738897774, 0.08932352210834665, 0.1488725368472444, 0.059549014738897774, 0.059549014738897774, 0.2977450736944888, 0.08932352210834665, 0.029774507369448887, 0.059549014738897774, 0.029774507369448887, 0.029774507369448887, 0.029774507369448887, 0.10703467269242994, 0.32110401807728983, 0.05351733634621497, 0.05351733634621497, 0.16055200903864492, 0.05351733634621497, 0.05351733634621497, 0.09928828877083136, 0.04964414438541568, 0.04964414438541568, 0.04964414438541568, 0.04964414438541568, 0.2978648663124941, 0.14893243315624705, 0.04964414438541568, 0.04964414438541568, 0.053060451832623465, 0.10612090366524693, 0.053060451832623465, 0.26530225916311734, 0.053060451832623465, 0.053060451832623465, 0.053060451832623465, 0.10612090366524693, 0.053060451832623465, 0.10612090366524693, 0.1601778425078721, 0.12013338188090408, 0.04004446062696802, 0.04004446062696802, 0.04004446062696802, 0.04004446062696802, 0.1601778425078721, 0.1601778425078721, 0.04004446062696802, 0.08008892125393605, 0.04004446062696802, 0.04004446062696802, 0.19547057159574632, 0.06515685719858211, 0.13031371439716422, 0.06515685719858211, 0.06515685719858211, 0.06515685719858211, 0.06515685719858211, 0.19547057159574632, 0.06515685719858211, 0.06515685719858211, 0.06515685719858211, 0.13467965414141983, 0.13467965414141983, 0.13467965414141983, 0.06733982707070992, 0.06733982707070992, 0.13467965414141983, 0.06733982707070992, 0.06733982707070992, 0.06733982707070992, 0.03204240212342974, 0.03204240212342974, 0.09612720637028922, 0.03204240212342974, 0.3845088254811569, 0.06408480424685949, 0.03204240212342974, 0.03204240212342974, 0.03204240212342974, 0.12816960849371897, 0.03204240212342974, 0.03204240212342974, 0.03204240212342974, 0.03204240212342974, 0.044312316300527475, 0.13293694890158242, 0.31018621410369235, 0.044312316300527475, 0.08862463260105495, 0.044312316300527475, 0.22156158150263738, 0.044312316300527475, 0.12404406466673139, 0.24808812933346278, 0.062022032333365694, 0.062022032333365694, 0.12404406466673139, 0.062022032333365694, 0.12404406466673139, 0.062022032333365694, 0.062022032333365694, 0.062022032333365694, 0.16237465364330317, 0.08118732682165158, 0.08118732682165158, 0.08118732682165158, 0.08118732682165158, 0.24356198046495478, 0.08118732682165158, 0.08118732682165158, 0.2751352663680624, 0.03930503805258034, 0.11791511415774103, 0.03930503805258034, 0.03930503805258034, 0.07861007610516069, 0.03930503805258034, 0.03930503805258034, 0.07861007610516069, 0.11791511415774103, 0.03930503805258034, 0.03930503805258034, 0.03930503805258034, 0.03930503805258034, 0.04203479535931351, 0.08406959071862702, 0.06305219303897026, 0.08406959071862702, 0.21017397679656755, 0.08406959071862702, 0.04203479535931351, 0.08406959071862702, 0.021017397679656755, 0.06305219303897026, 0.021017397679656755, 0.021017397679656755, 0.04203479535931351, 0.04203479535931351, 0.021017397679656755, 0.021017397679656755, 0.021017397679656755, 0.03590244417556207, 0.07180488835112414, 0.2154146650533724, 0.07180488835112414, 0.03590244417556207, 0.1077073325266862, 0.07180488835112414, 0.03590244417556207, 0.03590244417556207, 0.1077073325266862, 0.07180488835112414, 0.03590244417556207, 0.03590244417556207, 0.03590244417556207, 0.030451226101833696, 0.030451226101833696, 0.12180490440733478, 0.09135367830550109, 0.18270735661100218, 0.06090245220366739, 0.12180490440733478, 0.030451226101833696, 0.030451226101833696, 0.030451226101833696, 0.09135367830550109, 0.030451226101833696, 0.030451226101833696, 0.09135367830550109, 0.10468755271342169, 0.06979170180894778, 0.13958340361789556, 0.06979170180894778, 0.03489585090447389, 0.06979170180894778, 0.03489585090447389, 0.03489585090447389, 0.06979170180894778, 0.03489585090447389, 0.10468755271342169, 0.06979170180894778, 0.03489585090447389, 0.03489585090447389, 0.10468755271342169, 0.1412983912243385, 0.08074193784247914, 0.08074193784247914, 0.020185484460619785, 0.08074193784247914, 0.10092742230309892, 0.04037096892123957, 0.04037096892123957, 0.08074193784247914, 0.04037096892123957, 0.020185484460619785, 0.22204032906681764, 0.020185484460619785, 0.020185484460619785, 0.020185484460619785, 0.16052725323037242, 0.05350908441012414, 0.10701816882024828, 0.05350908441012414, 0.32105450646074485, 0.05350908441012414, 0.05350908441012414, 0.05350908441012414, 0.10616052263965145, 0.02123210452793029, 0.10616052263965145, 0.04246420905586058, 0.16985683622344233, 0.02123210452793029, 0.06369631358379087, 0.14862473169551202, 0.02123210452793029, 0.02123210452793029, 0.04246420905586058, 0.06369631358379087, 0.04246420905586058, 0.02123210452793029, 0.04246420905586058, 0.02123210452793029, 0.02123210452793029, 0.07491988925865219, 0.07491988925865219, 0.07491988925865219, 0.07491988925865219, 0.07491988925865219, 0.07491988925865219, 0.07491988925865219, 0.07491988925865219, 0.07491988925865219, 0.07491988925865219, 0.07491988925865219, 0.07491988925865219, 0.09972713284147826, 0.06648475522765217, 0.13296951045530433, 0.16621188806913043, 0.033242377613826084, 0.06648475522765217, 0.033242377613826084, 0.033242377613826084, 0.06648475522765217, 0.033242377613826084, 0.06648475522765217, 0.06648475522765217, 0.033242377613826084, 0.033242377613826084, 0.06648475522765217, 0.24732780242232538, 0.09893112096893016, 0.04946556048446508, 0.04946556048446508, 0.09893112096893016, 0.04946556048446508, 0.1483966814533952, 0.04946556048446508, 0.04946556048446508, 0.04946556048446508, 0.04946556048446508, 0.10754718199993357, 0.21509436399986714, 0.10754718199993357, 0.053773590999966786, 0.053773590999966786, 0.053773590999966786, 0.10754718199993357, 0.053773590999966786, 0.10754718199993357, 0.053773590999966786, 0.10754718199993357, 0.044139627065121936, 0.17655850826048775, 0.044139627065121936, 0.13241888119536582, 0.044139627065121936, 0.13241888119536582, 0.044139627065121936, 0.08827925413024387, 0.17655850826048775, 0.044139627065121936, 0.21063957376667408, 0.21063957376667408, 0.07021319125555803, 0.07021319125555803, 0.07021319125555803, 0.07021319125555803, 0.07021319125555803, 0.07021319125555803, 0.07021319125555803, 0.1530107133408764, 0.10200714222725094, 0.05100357111362547, 0.05100357111362547, 0.1530107133408764, 0.05100357111362547, 0.05100357111362547, 0.05100357111362547, 0.05100357111362547, 0.10200714222725094, 0.10200714222725094, 0.05100357111362547, 0.05100357111362547, 0.1104522220072252, 0.276130555018063, 0.1104522220072252, 0.0552261110036126, 0.0552261110036126, 0.0552261110036126, 0.1104522220072252, 0.0552261110036126, 0.0552261110036126, 0.0552261110036126, 0.1727975678650925, 0.05759918928836417, 0.1727975678650925, 0.05759918928836417, 0.1727975678650925, 0.05759918928836417, 0.05759918928836417, 0.05759918928836417, 0.11519837857672834, 0.042752331415990254, 0.06412849712398538, 0.021376165707995127, 0.12825699424797077, 0.3206424856199269, 0.021376165707995127, 0.021376165707995127, 0.08550466283198051, 0.021376165707995127, 0.08550466283198051, 0.021376165707995127, 0.08550466283198051, 0.021376165707995127, 0.042752331415990254, 0.021376165707995127, 0.06201350400387105, 0.18604051201161315, 0.18604051201161315, 0.06201350400387105, 0.06201350400387105, 0.06201350400387105, 0.1240270080077421, 0.10404473939603019, 0.02080894787920604, 0.02080894787920604, 0.10404473939603019, 0.18728053091285435, 0.02080894787920604, 0.10404473939603019, 0.02080894787920604, 0.04161789575841208, 0.08323579151682416, 0.1664715830336483, 0.02080894787920604, 0.04161789575841208, 0.04161789575841208, 0.1513272224297519, 0.03362827165105598, 0.1513272224297519, 0.10088481495316794, 0.05044240747658397, 0.05044240747658397, 0.11769895077869592, 0.10088481495316794, 0.06725654330211196, 0.03362827165105598, 0.01681413582552799, 0.01681413582552799, 0.01681413582552799, 0.01681413582552799, 0.01681413582552799, 0.01681413582552799, 0.07424882687274909, 0.22274648061824726, 0.07424882687274909, 0.07424882687274909, 0.14849765374549817, 0.07424882687274909, 0.07424882687274909, 0.07424882687274909, 0.14849765374549817, 0.07424882687274909, 0.10325539303368832, 0.05162769651684416, 0.10325539303368832, 0.2581384825842208, 0.05162769651684416, 0.10325539303368832, 0.05162769651684416, 0.05162769651684416, 0.05162769651684416, 0.05162769651684416, 0.05162769651684416, 0.07446680929431201, 0.11170021394146802, 0.07446680929431201, 0.18616702323578005, 0.03723340464715601, 0.03723340464715601, 0.07446680929431201, 0.07446680929431201, 0.03723340464715601, 0.07446680929431201, 0.03723340464715601, 0.11170021394146802, 0.03723340464715601, 0.03723340464715601, 0.09665071693416101, 0.09665071693416101, 0.1449760754012415, 0.048325358467080505, 0.048325358467080505, 0.09665071693416101, 0.048325358467080505, 0.1449760754012415, 0.048325358467080505, 0.09665071693416101, 0.048325358467080505, 0.21910365944618967, 0.24101402539080866, 0.043820731889237935, 0.021910365944618967, 0.021910365944618967, 0.021910365944618967, 0.21910365944618967, 0.043820731889237935, 0.043820731889237935, 0.021910365944618967, 0.021910365944618967, 0.021910365944618967, 0.021910365944618967, 0.07572812231231069, 0.15145624462462137, 0.07572812231231069, 0.07572812231231069, 0.07572812231231069, 0.07572812231231069, 0.15145624462462137, 0.07572812231231069, 0.15145624462462137, 0.03090476137222496, 0.3090476137222496, 0.06180952274444992, 0.06180952274444992, 0.03090476137222496, 0.06180952274444992, 0.09271428411667487, 0.09271428411667487, 0.03090476137222496, 0.12361904548889983, 0.03090476137222496, 0.03090476137222496, 0.03090476137222496, 0.06769583160368307, 0.06769583160368307, 0.06769583160368307, 0.20308749481104924, 0.13539166320736615, 0.06769583160368307, 0.06769583160368307, 0.06769583160368307, 0.06769583160368307, 0.06769583160368307, 0.06769583160368307, 0.046779858051935866, 0.18711943220774346, 0.046779858051935866, 0.09355971610387173, 0.09355971610387173, 0.046779858051935866, 0.1403395741558076, 0.046779858051935866, 0.09355971610387173, 0.046779858051935866, 0.046779858051935866, 0.046779858051935866, 0.07990287794410261, 0.07990287794410261, 0.06658573162008552, 0.10653717059213683, 0.06658573162008552, 0.09322002426811972, 0.05326858529606841, 0.10653717059213683, 0.09322002426811972, 0.013317146324017103, 0.026634292648034207, 0.013317146324017103, 0.05326858529606841, 0.013317146324017103, 0.05326858529606841, 0.026634292648034207, 0.013317146324017103, 0.013317146324017103, 0.013317146324017103, 0.06806104887224437, 0.10209157330836656, 0.034030524436122186, 0.13612209774448875, 0.13612209774448875, 0.10209157330836656, 0.034030524436122186, 0.034030524436122186, 0.10209157330836656, 0.06806104887224437, 0.06806104887224437, 0.034030524436122186, 0.034030524436122186, 0.06362564603208833, 0.06362564603208833, 0.06362564603208833, 0.38175387619253, 0.06362564603208833, 0.190876938096265, 0.06362564603208833, 0.06362564603208833, 0.4186141315397179, 0.08372282630794357, 0.08372282630794357, 0.08372282630794357, 0.08372282630794357, 0.08372282630794357, 0.08372282630794357, 0.26063921412126334, 0.05212784282425267, 0.156383528472758, 0.10425568564850533, 0.05212784282425267, 0.10425568564850533, 0.05212784282425267, 0.05212784282425267, 0.05212784282425267, 0.05212784282425267, 0.05212784282425267, 0.13967357631523453, 0.06983678815761726, 0.02327892938587242, 0.04655785877174484, 0.04655785877174484, 0.04655785877174484, 0.2095103644728518, 0.04655785877174484, 0.04655785877174484, 0.09311571754348968, 0.04655785877174484, 0.06983678815761726, 0.02327892938587242, 0.02327892938587242, 0.02327892938587242, 0.04655785877174484, 0.27479100152780417, 0.04579850025463402, 0.04579850025463402, 0.13739550076390208, 0.04579850025463402, 0.04579850025463402, 0.04579850025463402, 0.04579850025463402, 0.04579850025463402, 0.09159700050926804, 0.04579850025463402, 0.04579850025463402, 0.06628853135397282, 0.06628853135397282, 0.06628853135397282, 0.13257706270794564, 0.06628853135397282, 0.3314426567698641, 0.06628853135397282, 0.13257706270794564, 0.15151844300956047, 0.22727766451434073, 0.07575922150478023, 0.07575922150478023, 0.07575922150478023, 0.07575922150478023, 0.07575922150478023, 0.07575922150478023, 0.08139908956273612, 0.06104931717205209, 0.06104931717205209, 0.04069954478136806, 0.08139908956273612, 0.08139908956273612, 0.08139908956273612, 0.10174886195342014, 0.18314795151615626, 0.02034977239068403, 0.04069954478136806, 0.04069954478136806, 0.08139908956273612, 0.02034977239068403, 0.11448300124871914, 0.04579320049948766, 0.04579320049948766, 0.09158640099897532, 0.3205524034964136, 0.02289660024974383, 0.02289660024974383, 0.02289660024974383, 0.04579320049948766, 0.06868980074923149, 0.13737960149846298, 0.04579320049948766, 0.02289660024974383, 0.02289660024974383, 0.09916061470326872, 0.04958030735163436, 0.09916061470326872, 0.14874092205490308, 0.04958030735163436, 0.14874092205490308, 0.04958030735163436, 0.04958030735163436, 0.09916061470326872, 0.04958030735163436, 0.04958030735163436, 0.04958030735163436, 0.04958030735163436, 0.15985354687690947, 0.15985354687690947, 0.07992677343845474, 0.19981693359613684, 0.03996338671922737, 0.07992677343845474, 0.03996338671922737, 0.03996338671922737, 0.03996338671922737, 0.03996338671922737, 0.07992677343845474, 0.20735995714952926, 0.10367997857476463, 0.051839989287382315, 0.20735995714952926, 0.051839989287382315, 0.10367997857476463, 0.10367997857476463, 0.051839989287382315, 0.051839989287382315, 0.051839989287382315, 0.051839989287382315, 0.07832242239041781, 0.07832242239041781, 0.05874181679281336, 0.15664484478083562, 0.019580605597604453, 0.19580605597604453, 0.019580605597604453, 0.039161211195208906, 0.05874181679281336, 0.039161211195208906, 0.039161211195208906, 0.07832242239041781, 0.09790302798802226, 0.039161211195208906, 0.019580605597604453, 0.11219107397144906, 0.07479404931429937, 0.07479404931429937, 0.03739702465714968, 0.07479404931429937, 0.03739702465714968, 0.07479404931429937, 0.03739702465714968, 0.11219107397144906, 0.03739702465714968, 0.07479404931429937, 0.03739702465714968, 0.03739702465714968, 0.11219107397144906, 0.03739702465714968, 0.03739702465714968, 0.07479404931429937, 0.03739702465714968, 0.10874235080461778, 0.07249490053641185, 0.03624745026820592, 0.03624745026820592, 0.03624745026820592, 0.10874235080461778, 0.10874235080461778, 0.10874235080461778, 0.07249490053641185, 0.03624745026820592, 0.07249490053641185, 0.03624745026820592, 0.1449898010728237, 0.05796103300478652, 0.05796103300478652, 0.11592206600957304, 0.11592206600957304, 0.17388309901435958, 0.05796103300478652, 0.05796103300478652, 0.05796103300478652, 0.05796103300478652, 0.05796103300478652, 0.05796103300478652, 0.22384663957937279, 0.07461554652645759, 0.07461554652645759, 0.14923109305291518, 0.14923109305291518, 0.07461554652645759, 0.07461554652645759, 0.045298030218490846, 0.045298030218490846, 0.045298030218490846, 0.18119212087396339, 0.045298030218490846, 0.09059606043698169, 0.045298030218490846, 0.045298030218490846, 0.09059606043698169, 0.09059606043698169, 0.045298030218490846, 0.045298030218490846, 0.045298030218490846, 0.045298030218490846, 0.045298030218490846, 0.11274865554900688, 0.02818716388725172, 0.02818716388725172, 0.19731014721076204, 0.02818716388725172, 0.02818716388725172, 0.08456149166175517, 0.08456149166175517, 0.11274865554900688, 0.08456149166175517, 0.02818716388725172, 0.05637432777450344, 0.02818716388725172, 0.05637432777450344, 0.02818716388725172, 0.037952135400155226, 0.037952135400155226, 0.11385640620046567, 0.1518085416006209, 0.07590427080031045, 0.07590427080031045, 0.037952135400155226, 0.11385640620046567, 0.1518085416006209, 0.037952135400155226, 0.037952135400155226, 0.037952135400155226, 0.19769695416276548, 0.04393265648061455, 0.04393265648061455, 0.06589898472092183, 0.06589898472092183, 0.0878653129612291, 0.10983164120153638, 0.04393265648061455, 0.06589898472092183, 0.04393265648061455, 0.021966328240307274, 0.04393265648061455, 0.04393265648061455, 0.06589898472092183, 0.04393265648061455, 0.021966328240307274, 0.021966328240307274, 0.08672116982142344, 0.3613382075892644, 0.0578141132142823, 0.04336058491071172, 0.02890705660714115, 0.014453528303570575, 0.04336058491071172, 0.02890705660714115, 0.10117469812499402, 0.13008175473213518, 0.04336058491071172, 0.014453528303570575, 0.02890705660714115, 0.014453528303570575, 0.05157414428822415, 0.07736121643233623, 0.07736121643233623, 0.025787072144112074, 0.025787072144112074, 0.05157414428822415, 0.025787072144112074, 0.05157414428822415, 0.46416729859401734, 0.05157414428822415, 0.025787072144112074, 0.025787072144112074, 0.025787072144112074, 0.052477240276864213, 0.026238620138432107, 0.026238620138432107, 0.052477240276864213, 0.07871586041529632, 0.026238620138432107, 0.5510110229070743, 0.026238620138432107, 0.026238620138432107, 0.07871586041529632, 0.026238620138432107, 0.055957034848949705, 0.055957034848949705, 0.055957034848949705, 0.22382813939579882, 0.055957034848949705, 0.11191406969789941, 0.055957034848949705, 0.055957034848949705, 0.055957034848949705, 0.055957034848949705, 0.055957034848949705, 0.055957034848949705, 0.055957034848949705, 0.20929576580542095, 0.06976525526847364, 0.1395305105369473, 0.1395305105369473, 0.06976525526847364, 0.1395305105369473, 0.06976525526847364, 0.06976525526847364, 0.1026319273376859, 0.1026319273376859, 0.1026319273376859, 0.3592117456819007, 0.05131596366884295, 0.05131596366884295, 0.05131596366884295, 0.1026319273376859, 0.12336892344347228, 0.08224594896231485, 0.08224594896231485, 0.08224594896231485, 0.08224594896231485, 0.12336892344347228, 0.041122974481157426, 0.041122974481157426, 0.041122974481157426, 0.12336892344347228, 0.08224594896231485, 0.041122974481157426, 0.041122974481157426, 0.041122974481157426, 0.041122974481157426, 0.1642318606995424, 0.0410579651748856, 0.12317389552465681, 0.12317389552465681, 0.0410579651748856, 0.0410579651748856, 0.0410579651748856, 0.0410579651748856, 0.0410579651748856, 0.1642318606995424, 0.0821159303497712, 0.0410579651748856, 0.18060093820713316, 0.09030046910356658, 0.06020031273571105, 0.030100156367855527, 0.06020031273571105, 0.06020031273571105, 0.06020031273571105, 0.06020031273571105, 0.09030046910356658, 0.06020031273571105, 0.06020031273571105, 0.06020031273571105, 0.030100156367855527, 0.06020031273571105, 0.030100156367855527, 0.030100156367855527, 0.138927533952699, 0.09261835596846599, 0.09261835596846599, 0.09261835596846599, 0.046309177984232994, 0.046309177984232994, 0.23154588992116498, 0.046309177984232994, 0.046309177984232994, 0.046309177984232994, 0.09261835596846599, 0.13467901351194542, 0.06733950675597271, 0.06733950675597271, 0.06733950675597271, 0.20201852026791814, 0.06733950675597271, 0.06733950675597271, 0.06733950675597271, 0.06733950675597271, 0.06733950675597271, 0.36900005488861787, 0.09225001372215447, 0.09225001372215447, 0.04612500686107723, 0.04612500686107723, 0.04612500686107723, 0.04612500686107723, 0.04612500686107723, 0.04612500686107723, 0.13346481104783042, 0.06673240552391521, 0.033366202761957606, 0.06673240552391521, 0.13346481104783042, 0.033366202761957606, 0.10009860828587282, 0.16683101380978801, 0.033366202761957606, 0.033366202761957606, 0.033366202761957606, 0.06673240552391521, 0.033366202761957606, 0.033366202761957606, 0.033366202761957606, 0.033366202761957606, 0.04714304489435395, 0.06285739319247192, 0.06285739319247192, 0.2828582693661237, 0.01571434829811798, 0.01571434829811798, 0.01571434829811798, 0.03142869659623596, 0.0942860897887079, 0.23571522447176974, 0.01571434829811798, 0.06285739319247192, 0.03142869659623596, 0.038296596589837716, 0.11488978976951315, 0.15318638635935086, 0.038296596589837716, 0.038296596589837716, 0.15318638635935086, 0.07659319317967543, 0.038296596589837716, 0.19148298294918858, 0.07659319317967543, 0.038296596589837716, 0.1984531769452692, 0.0661510589817564, 0.0661510589817564, 0.0661510589817564, 0.1323021179635128, 0.1323021179635128, 0.0661510589817564, 0.0661510589817564, 0.0661510589817564, 0.0661510589817564, 0.05136641050335642, 0.05136641050335642, 0.05136641050335642, 0.05136641050335642, 0.2568320525167821, 0.05136641050335642, 0.10273282100671284, 0.05136641050335642, 0.10273282100671284, 0.10273282100671284, 0.05136641050335642, 0.05136641050335642, 0.15044404824182428, 0.15044404824182428, 0.15044404824182428, 0.07522202412091214, 0.07522202412091214, 0.07522202412091214, 0.07522202412091214, 0.07522202412091214, 0.07522202412091214, 0.07522202412091214, 0.07522202412091214, 0.026050646580144013, 0.2344558192212961, 0.07815193974043204, 0.2605064658014401, 0.10420258632057605, 0.07815193974043204, 0.052101293160288026, 0.026050646580144013, 0.026050646580144013, 0.026050646580144013, 0.17972081551377828, 0.21566497861653394, 0.07188832620551132, 0.03594416310275566, 0.03594416310275566, 0.03594416310275566, 0.03594416310275566, 0.21566497861653394, 0.03594416310275566, 0.07188832620551132, 0.03594416310275566, 0.03594416310275566, 0.33029865050250107, 0.05828799714750019, 0.03885866476500013, 0.03885866476500013, 0.03885866476500013, 0.03885866476500013, 0.03885866476500013, 0.05828799714750019, 0.03885866476500013, 0.019429332382500063, 0.019429332382500063, 0.019429332382500063, 0.03885866476500013, 0.019429332382500063, 0.019429332382500063, 0.2137226562075007, 0.26441515329148596, 0.10576606131659438, 0.05288303065829719, 0.05288303065829719, 0.05288303065829719, 0.10576606131659438, 0.05288303065829719, 0.05288303065829719, 0.05288303065829719, 0.15864909197489158, 0.06543731013990413, 0.13087462027980826, 0.021812436713301377, 0.08724974685320551, 0.021812436713301377, 0.08724974685320551, 0.10906218356650689, 0.043624873426602755, 0.13087462027980826, 0.043624873426602755, 0.043624873426602755, 0.08724974685320551, 0.021812436713301377, 0.021812436713301377, 0.043624873426602755, 0.021812436713301377, 0.06545042502955153, 0.06545042502955153, 0.13090085005910307, 0.03272521251477577, 0.03272521251477577, 0.03272521251477577, 0.06545042502955153, 0.03272521251477577, 0.09817563754432732, 0.09817563754432732, 0.06545042502955153, 0.09817563754432732, 0.03272521251477577, 0.06545042502955153, 0.03272521251477577, 0.11251100167555797, 0.15001466890074397, 0.07500733445037198, 0.07500733445037198, 0.03750366722518599, 0.03750366722518599, 0.07500733445037198, 0.11251100167555797, 0.07500733445037198, 0.03750366722518599, 0.03750366722518599, 0.03750366722518599, 0.03750366722518599, 0.03750366722518599, 0.03750366722518599, 0.10342221234980155, 0.051711106174900774, 0.051711106174900774, 0.2585555308745039, 0.051711106174900774, 0.15513331852470233, 0.051711106174900774, 0.10342221234980155, 0.051711106174900774, 0.10342221234980155, 0.07400940384987546, 0.024669801283291822, 0.024669801283291822, 0.19735841026633458, 0.024669801283291822, 0.09867920513316729, 0.024669801283291822, 0.3207074166827937, 0.024669801283291822, 0.024669801283291822, 0.049339602566583644, 0.07400940384987546, 0.05850859370718509, 0.05850859370718509, 0.11701718741437019, 0.11701718741437019, 0.05850859370718509, 0.05850859370718509, 0.11701718741437019, 0.11701718741437019, 0.05850859370718509, 0.05850859370718509, 0.05850859370718509, 0.11701718741437019, 0.05850859370718509, 0.21408602871142585, 0.05352150717785646, 0.05352150717785646, 0.05352150717785646, 0.1605645215335694, 0.05352150717785646, 0.1605645215335694, 0.05352150717785646, 0.05352150717785646, 0.05352150717785646, 0.03390709568573756, 0.1695354784286878, 0.06781419137147512, 0.06781419137147512, 0.03390709568573756, 0.03390709568573756, 0.1695354784286878, 0.03390709568573756, 0.06781419137147512, 0.03390709568573756, 0.06781419137147512, 0.03390709568573756, 0.06781419137147512, 0.03390709568573756, 0.14872972184249736, 0.08923783310549842, 0.08923783310549842, 0.029745944368499474, 0.05949188873699895, 0.029745944368499474, 0.029745944368499474, 0.08923783310549842, 0.029745944368499474, 0.05949188873699895, 0.029745944368499474, 0.029745944368499474, 0.1189837774739979, 0.029745944368499474, 0.029745944368499474, 0.029745944368499474, 0.029745944368499474, 0.11729382057170752, 0.05864691028585376, 0.05864691028585376, 0.05864691028585376, 0.05864691028585376, 0.05864691028585376, 0.05864691028585376, 0.11729382057170752, 0.11729382057170752, 0.05864691028585376, 0.11729382057170752, 0.05864691028585376, 0.129379012547069, 0.0646895062735345, 0.129379012547069, 0.129379012547069, 0.0646895062735345, 0.129379012547069, 0.0646895062735345, 0.0646895062735345, 0.0646895062735345, 0.0646895062735345, 0.0646895062735345, 0.05446984305757884, 0.21787937223031537, 0.10893968611515768, 0.05446984305757884, 0.05446984305757884, 0.21787937223031537, 0.05446984305757884, 0.05446984305757884, 0.2751425519163566, 0.09826519711298451, 0.07861215769038761, 0.019653039422596903, 0.07861215769038761, 0.019653039422596903, 0.019653039422596903, 0.019653039422596903, 0.019653039422596903, 0.07861215769038761, 0.019653039422596903, 0.11791823653558141, 0.058959118267790704, 0.019653039422596903, 0.019653039422596903, 0.019653039422596903, 0.019653039422596903, 0.019653039422596903, 0.07602793713762707, 0.15205587427525413, 0.07602793713762707, 0.07602793713762707, 0.03801396856881353, 0.03801396856881353, 0.15205587427525413, 0.11404190570644059, 0.03801396856881353, 0.03801396856881353, 0.07602793713762707, 0.03801396856881353, 0.03801396856881353, 0.0784048454477959, 0.27441695906728564, 0.03920242272389795, 0.0784048454477959, 0.03920242272389795, 0.03920242272389795, 0.03920242272389795, 0.03920242272389795, 0.0784048454477959, 0.03920242272389795, 0.11760726817169384, 0.0784048454477959, 0.1038160686126089, 0.05190803430630445, 0.1038160686126089, 0.05190803430630445, 0.15572410291891337, 0.05190803430630445, 0.05190803430630445, 0.1038160686126089, 0.05190803430630445, 0.05190803430630445, 0.1038160686126089, 0.1038160686126089, 0.05190803430630445, 0.2028879590738257, 0.06762931969127524, 0.06762931969127524, 0.06762931969127524, 0.06762931969127524, 0.06762931969127524, 0.06762931969127524, 0.13525863938255048, 0.06762931969127524, 0.06762931969127524, 0.24919596415688847, 0.04983919283137769, 0.09967838566275539, 0.09967838566275539, 0.24919596415688847, 0.09967838566275539, 0.1269832834437506, 0.2539665668875012, 0.042327761147916865, 0.21163880573958435, 0.042327761147916865, 0.08465552229583373, 0.042327761147916865, 0.08465552229583373, 0.042327761147916865, 0.042327761147916865, 0.15106506183568635, 0.07553253091784318, 0.07553253091784318, 0.07553253091784318, 0.15106506183568635, 0.07553253091784318, 0.22659759275352953, 0.07553253091784318, 0.07553253091784318, 0.07553253091784318, 0.12215508269585883, 0.0732930496175153, 0.04886203307834353, 0.0732930496175153, 0.1465860992350306, 0.0732930496175153, 0.024431016539171766, 0.024431016539171766, 0.1465860992350306, 0.04886203307834353, 0.04886203307834353, 0.0732930496175153, 0.024431016539171766, 0.04886203307834353, 0.024431016539171766, 0.024431016539171766, 0.2600931771941877, 0.14005017233533182, 0.020007167476475976, 0.06002150242942793, 0.020007167476475976, 0.020007167476475976, 0.020007167476475976, 0.10003583738237988, 0.12004300485885586, 0.04001433495295195, 0.020007167476475976, 0.04001433495295195, 0.04001433495295195, 0.04001433495295195, 0.020007167476475976, 0.020007167476475976, 0.16763813404127734, 0.08381906702063867, 0.08381906702063867, 0.041909533510319334, 0.125728600530958, 0.16763813404127734, 0.041909533510319334, 0.041909533510319334, 0.041909533510319334, 0.041909533510319334, 0.041909533510319334, 0.08681991160394685, 0.08681991160394685, 0.1736398232078937, 0.1736398232078937, 0.1736398232078937, 0.08681991160394685, 0.2846487362289593, 0.09488291207631977, 0.18976582415263954, 0.09488291207631977, 0.09488291207631977, 0.09488291207631977, 0.09488291207631977, 0.09488291207631977, 0.157681767583336, 0.078840883791668, 0.078840883791668, 0.078840883791668, 0.157681767583336, 0.078840883791668, 0.078840883791668, 0.078840883791668, 0.078840883791668, 0.05303426807494216, 0.08839044679157027, 0.12374662550819836, 0.035356178716628106, 0.07071235743325621, 0.07071235743325621, 0.19445898294145458, 0.035356178716628106, 0.035356178716628106, 0.05303426807494216, 0.017678089358314053, 0.10606853614988432, 0.017678089358314053, 0.035356178716628106, 0.017678089358314053, 0.017678089358314053, 0.13827275995262053, 0.03072727998947123, 0.07681819997367807, 0.03072727998947123, 0.04609091998420684, 0.23045459992103423, 0.03072727998947123, 0.06145455997894246, 0.10754547996314931, 0.06145455997894246, 0.015363639994735615, 0.015363639994735615, 0.015363639994735615, 0.03072727998947123, 0.015363639994735615, 0.03072727998947123, 0.06145455997894246, 0.06904940457914856, 0.20714821373744566, 0.13809880915829711, 0.13809880915829711, 0.06904940457914856, 0.06904940457914856, 0.06904940457914856, 0.06904940457914856, 0.06904940457914856, 0.17753309993665634, 0.03550661998733127, 0.1065198599619938, 0.14202647994932507, 0.03550661998733127, 0.07101323997466254, 0.14202647994932507, 0.07101323997466254, 0.03550661998733127, 0.03550661998733127, 0.03550661998733127, 0.1450752656353185, 0.0483584218784395, 0.1450752656353185, 0.096716843756879, 0.0483584218784395, 0.1450752656353185, 0.0483584218784395, 0.1450752656353185, 0.0483584218784395, 0.03861315450100652, 0.03861315450100652, 0.11583946350301955, 0.11583946350301955, 0.11583946350301955, 0.2316789270060391, 0.03861315450100652, 0.03861315450100652, 0.03861315450100652, 0.11583946350301955, 0.03861315450100652, 0.07722630900201304, 0.03861315450100652, 0.15287526422557393, 0.22931289633836088, 0.03821881605639348, 0.07643763211278697, 0.15287526422557393, 0.07643763211278697, 0.11465644816918044, 0.07643763211278697, 0.03821881605639348, 0.03821881605639348, 0.03821881605639348, 0.03821881605639348, 0.23649550209175516, 0.32518131537616335, 0.029561937761469394, 0.029561937761469394, 0.05912387552293879, 0.11824775104587758, 0.029561937761469394, 0.029561937761469394, 0.029561937761469394, 0.029561937761469394, 0.029561937761469394, 0.2576092782445761, 0.08586975941485868, 0.08586975941485868, 0.08586975941485868, 0.08586975941485868, 0.17173951882971736, 0.08586975941485868, 0.08586975941485868, 0.08586975941485868, 0.11846447723011591, 0.039488159076705304, 0.07897631815341061, 0.07897631815341061, 0.07897631815341061, 0.07897631815341061, 0.039488159076705304, 0.07897631815341061, 0.039488159076705304, 0.11846447723011591, 0.07897631815341061, 0.039488159076705304, 0.039488159076705304, 0.07897631815341061, 0.1269956699499637, 0.19049350492494554, 0.06349783497498185, 0.06349783497498185, 0.06349783497498185, 0.19049350492494554, 0.06349783497498185, 0.06349783497498185, 0.06349783497498185, 0.06349783497498185, 0.1269956699499637, 0.06349783497498185, 0.025286462112732694, 0.025286462112732694, 0.10114584845093078, 0.07585938633819808, 0.20229169690186155, 0.025286462112732694, 0.05057292422546539, 0.20229169690186155, 0.10114584845093078, 0.025286462112732694, 0.05057292422546539, 0.025286462112732694, 0.05057292422546539, 0.025286462112732694, 0.16514726102306493, 0.22019634803075325, 0.05504908700768831, 0.05504908700768831, 0.05504908700768831, 0.05504908700768831, 0.05504908700768831, 0.11009817401537662, 0.05504908700768831, 0.05504908700768831, 0.05504908700768831, 0.0436075389160553, 0.0872150778321106, 0.2180376945802765, 0.0872150778321106, 0.1308226167481659, 0.0872150778321106, 0.0436075389160553, 0.0436075389160553, 0.0872150778321106, 0.0436075389160553, 0.03158057016805087, 0.03158057016805087, 0.06316114033610173, 0.06316114033610173, 0.25264456134440694, 0.03158057016805087, 0.06316114033610173, 0.0947417105041526, 0.03158057016805087, 0.03158057016805087, 0.15790285084025435, 0.06316114033610173, 0.06316114033610173, 0.03158057016805087, 0.1435944111675834, 0.0717972055837917, 0.03589860279189585, 0.1435944111675834, 0.03589860279189585, 0.03589860279189585, 0.10769580837568754, 0.10769580837568754, 0.03589860279189585, 0.03589860279189585, 0.0717972055837917, 0.03589860279189585, 0.03589860279189585, 0.03589860279189585, 0.03589860279189585, 0.14288386135748724, 0.047627953785829076, 0.14288386135748724, 0.047627953785829076, 0.09525590757165815, 0.14288386135748724, 0.047627953785829076, 0.047627953785829076, 0.09525590757165815, 0.047627953785829076, 0.047627953785829076, 0.04318381632032824, 0.04318381632032824, 0.04318381632032824, 0.02159190816016412, 0.08636763264065649, 0.15114335712114885, 0.04318381632032824, 0.1943271734414771, 0.06477572448049236, 0.08636763264065649, 0.02159190816016412, 0.06477572448049236, 0.04318381632032824, 0.02159190816016412, 0.02159190816016412, 0.02159190816016412, 0.16494254727250082, 0.027490424545416805, 0.13745212272708401, 0.08247127363625041, 0.05498084909083361, 0.08247127363625041, 0.027490424545416805, 0.027490424545416805, 0.027490424545416805, 0.16494254727250082, 0.08247127363625041, 0.08247127363625041, 0.027490424545416805, 0.043082087603091165, 0.043082087603091165, 0.043082087603091165, 0.08616417520618233, 0.08616417520618233, 0.30157461322163814, 0.043082087603091165, 0.043082087603091165, 0.043082087603091165, 0.043082087603091165, 0.043082087603091165, 0.043082087603091165, 0.043082087603091165, 0.043082087603091165, 0.030521056254813356, 0.06104211250962671, 0.030521056254813356, 0.030521056254813356, 0.030521056254813356, 0.15260528127406678, 0.030521056254813356, 0.427294787567387, 0.06104211250962671, 0.030521056254813356, 0.06104211250962671, 0.0588672142880143, 0.0588672142880143, 0.2354688571520572, 0.0588672142880143, 0.2354688571520572, 0.0588672142880143, 0.0588672142880143, 0.0588672142880143, 0.0588672142880143, 0.2070360800794252, 0.12077104671299803, 0.0517590200198563, 0.034506013346570864, 0.017253006673285432, 0.32780712679242324, 0.034506013346570864, 0.017253006673285432, 0.017253006673285432, 0.13802405338628346, 0.21468619994550298, 0.053671549986375744, 0.053671549986375744, 0.16101464995912723, 0.053671549986375744, 0.053671549986375744, 0.10734309997275149, 0.053671549986375744, 0.053671549986375744, 0.053671549986375744, 0.053671549986375744, 0.2987047249280021, 0.05974094498560042, 0.05974094498560042, 0.11948188997120084, 0.05974094498560042, 0.05974094498560042, 0.05974094498560042, 0.11948188997120084, 0.05974094498560042, 0.05974094498560042, 0.05974094498560042, 0.13717881807846155, 0.06858940903923078, 0.06858940903923078, 0.13717881807846155, 0.06858940903923078, 0.06858940903923078, 0.06858940903923078, 0.06858940903923078, 0.06858940903923078, 0.06858940903923078, 0.06858940903923078, 0.13717881807846155, 0.14419030506118313, 0.054071364397943675, 0.054071364397943675, 0.03604757626529578, 0.03604757626529578, 0.03604757626529578, 0.16221409319383104, 0.01802378813264789, 0.07209515253059157, 0.03604757626529578, 0.054071364397943675, 0.07209515253059157, 0.01802378813264789, 0.01802378813264789, 0.03604757626529578, 0.03604757626529578, 0.03604757626529578, 0.054071364397943675, 0.3739189345549383, 0.08012548597605822, 0.026708495325352737, 0.026708495325352737, 0.05341699065070547, 0.1335424766267637, 0.05341699065070547, 0.10683398130141095, 0.05341699065070547, 0.026708495325352737, 0.07249858359102612, 0.07249858359102612, 0.14499716718205224, 0.07249858359102612, 0.14499716718205224, 0.07249858359102612, 0.07249858359102612, 0.07249858359102612, 0.07249858359102612, 0.07249858359102612, 0.07249858359102612, 0.0329782964166545, 0.0329782964166545, 0.197869778499927, 0.2308480749165815, 0.2308480749165815, 0.065956592833309, 0.0989348892499635, 0.0329782964166545, 0.0329782964166545, 0.015931030381951677, 0.04779309114585503, 0.04779309114585503, 0.25489648611122684, 0.031862060763903355, 0.22303442534732348, 0.031862060763903355, 0.11151721267366174, 0.015931030381951677, 0.12744824305561342, 0.015931030381951677, 0.031862060763903355, 0.015931030381951677, 0.015931030381951677, 0.10070220826280578, 0.05035110413140289, 0.05035110413140289, 0.15105331239420866, 0.10070220826280578, 0.05035110413140289, 0.05035110413140289, 0.10070220826280578, 0.05035110413140289, 0.05035110413140289, 0.15105331239420866, 0.07089767955764653, 0.035448839778823266, 0.035448839778823266, 0.07089767955764653, 0.035448839778823266, 0.07089767955764653, 0.14179535911529306, 0.2126930386729396, 0.035448839778823266, 0.035448839778823266, 0.17724419889411633, 0.035448839778823266, 0.1612445059830075, 0.08062225299150375, 0.08062225299150375, 0.08062225299150375, 0.1612445059830075, 0.08062225299150375, 0.08062225299150375, 0.08062225299150375, 0.08062225299150375, 0.08062225299150375, 0.08732353938631392, 0.04366176969315696, 0.06549265453973543, 0.02183088484657848, 0.10915442423289239, 0.08732353938631392, 0.04366176969315696, 0.24013973331236324, 0.02183088484657848, 0.04366176969315696, 0.06549265453973543, 0.04366176969315696, 0.06549265453973543, 0.02183088484657848, 0.04366176969315696, 0.1173942198737217, 0.0391314066245739, 0.0391314066245739, 0.1173942198737217, 0.0391314066245739, 0.1173942198737217, 0.0391314066245739, 0.0782628132491478, 0.1173942198737217, 0.0782628132491478, 0.0391314066245739, 0.0391314066245739, 0.0391314066245739, 0.0782628132491478, 0.07105257908510607, 0.14210515817021213, 0.07105257908510607, 0.07105257908510607, 0.07105257908510607, 0.07105257908510607, 0.14210515817021213, 0.14210515817021213, 0.14210515817021213, 0.07105257908510607, 0.07105257908510607, 0.20107111888418747, 0.0402142237768375, 0.080428447553675, 0.20107111888418747, 0.0402142237768375, 0.0402142237768375, 0.080428447553675, 0.080428447553675, 0.0402142237768375, 0.080428447553675, 0.0402142237768375, 0.07406559297911285, 0.04937706198607523, 0.024688530993037614, 0.07406559297911285, 0.09875412397215046, 0.024688530993037614, 0.09875412397215046, 0.024688530993037614, 0.07406559297911285, 0.024688530993037614, 0.04937706198607523, 0.07406559297911285, 0.024688530993037614, 0.1481311859582257, 0.024688530993037614, 0.024688530993037614, 0.09875412397215046, 0.05479078147927367, 0.05479078147927367, 0.10958156295854735, 0.16437234443782103, 0.05479078147927367, 0.05479078147927367, 0.05479078147927367, 0.16437234443782103, 0.05479078147927367, 0.05479078147927367, 0.05479078147927367, 0.05479078147927367, 0.04391823739374327, 0.1317547121812298, 0.08783647478748655, 0.1317547121812298, 0.04391823739374327, 0.08783647478748655, 0.08783647478748655, 0.2635094243624596, 0.04391823739374327, 0.04391823739374327, 0.04391823739374327, 0.07599136415629432, 0.10132181887505909, 0.12665227359382386, 0.12665227359382386, 0.025330454718764772, 0.07599136415629432, 0.050660909437529544, 0.07599136415629432, 0.050660909437529544, 0.025330454718764772, 0.07599136415629432, 0.050660909437529544, 0.025330454718764772, 0.025330454718764772, 0.050660909437529544, 0.025330454718764772, 0.07501349631485861, 0.11252024447228791, 0.037506748157429305, 0.037506748157429305, 0.07501349631485861, 0.037506748157429305, 0.07501349631485861, 0.037506748157429305, 0.11252024447228791, 0.07501349631485861, 0.037506748157429305, 0.037506748157429305, 0.07501349631485861, 0.037506748157429305, 0.07501349631485861, 0.1373714802879567, 0.1373714802879567, 0.06868574014397835, 0.2747429605759134, 0.06868574014397835, 0.06868574014397835, 0.06868574014397835, 0.06868574014397835, 0.5963621784352129, 0.08945432676528194, 0.059636217843521286, 0.029818108921760643, 0.029818108921760643, 0.029818108921760643, 0.029818108921760643, 0.029818108921760643, 0.029818108921760643, 0.12551703360728714, 0.06275851680364357, 0.14643653920850166, 0.04183901120242905, 0.020919505601214524, 0.12551703360728714, 0.06275851680364357, 0.020919505601214524, 0.04183901120242905, 0.0836780224048581, 0.12551703360728714, 0.020919505601214524, 0.020919505601214524, 0.020919505601214524, 0.06275851680364357, 0.020919505601214524, 0.09513501196715844, 0.03171167065571948, 0.09513501196715844, 0.22198169459003636, 0.06342334131143897, 0.03171167065571948, 0.03171167065571948, 0.09513501196715844, 0.06342334131143897, 0.06342334131143897, 0.06342334131143897, 0.03171167065571948, 0.06342334131143897, 0.03171167065571948, 0.03171167065571948, 0.03658567027133816, 0.0914641756783454, 0.3109781973063743, 0.05487850540700724, 0.0914641756783454, 0.0914641756783454, 0.01829283513566908, 0.01829283513566908, 0.07317134054267632, 0.01829283513566908, 0.01829283513566908, 0.01829283513566908, 0.05487850540700724, 0.01829283513566908, 0.01829283513566908, 0.07317134054267632, 0.028601852357690777, 0.057203704715381554, 0.20021296650383544, 0.20021296650383544, 0.057203704715381554, 0.028601852357690777, 0.08580555707307233, 0.028601852357690777, 0.028601852357690777, 0.028601852357690777, 0.14300926178845388, 0.057203704715381554, 0.028601852357690777, 0.028601852357690777, 0.028541152558334917, 0.28541152558334915, 0.05708230511666983, 0.08562345767500475, 0.028541152558334917, 0.05708230511666983, 0.028541152558334917, 0.14270576279167457, 0.028541152558334917, 0.028541152558334917, 0.028541152558334917, 0.14270576279167457, 0.028541152558334917, 0.028541152558334917, 0.2054719225011208, 0.0513679806252802, 0.0513679806252802, 0.0513679806252802, 0.0513679806252802, 0.0513679806252802, 0.0513679806252802, 0.0513679806252802, 0.0513679806252802, 0.1027359612505604, 0.1027359612505604, 0.05888819238841967, 0.11777638477683934, 0.05888819238841967, 0.17666457716525902, 0.05888819238841967, 0.11777638477683934, 0.05888819238841967, 0.05888819238841967, 0.05888819238841967, 0.05888819238841967, 0.05888819238841967, 0.05888819238841967, 0.13485385383278825, 0.08990256922185884, 0.04495128461092942, 0.22475642305464708, 0.08990256922185884, 0.08990256922185884, 0.04495128461092942, 0.04495128461092942, 0.04495128461092942, 0.04495128461092942, 0.04495128461092942, 0.08990256922185884, 0.04495128461092942, 0.1254701942789575, 0.1254701942789575, 0.16729359237194336, 0.16729359237194336, 0.08364679618597168, 0.08364679618597168, 0.04182339809298584, 0.08364679618597168, 0.04182339809298584, 0.04182339809298584, 0.030339911636833684, 0.030339911636833684, 0.09101973491050105, 0.030339911636833684, 0.1820394698210021, 0.030339911636833684, 0.09101973491050105, 0.06067982327366737, 0.06067982327366737, 0.30339911636833683, 0.030339911636833684, 0.030339911636833684, 0.030339911636833684, 0.22787393973676384, 0.03255341996239484, 0.03255341996239484, 0.06510683992478968, 0.0976602598871845, 0.06510683992478968, 0.03255341996239484, 0.06510683992478968, 0.03255341996239484, 0.03255341996239484, 0.0976602598871845, 0.03255341996239484, 0.0976602598871845, 0.03255341996239484, 0.03255341996239484, 0.1328528130210058, 0.19927921953150868, 0.1328528130210058, 0.1328528130210058, 0.0664264065105029, 0.0664264065105029, 0.0664264065105029, 0.0664264065105029, 0.3813260773782686, 0.05447515391118123, 0.01815838463706041, 0.01815838463706041, 0.01815838463706041, 0.03631676927412082, 0.01815838463706041, 0.05447515391118123, 0.1634254617335437, 0.01815838463706041, 0.01815838463706041, 0.03631676927412082, 0.03631676927412082, 0.01815838463706041, 0.01815838463706041, 0.07263353854824164, 0.05460568423437875, 0.1092113684687575, 0.05460568423437875, 0.16381705270313623, 0.1092113684687575, 0.05460568423437875, 0.05460568423437875, 0.05460568423437875, 0.1092113684687575, 0.1092113684687575, 0.11857500761499379, 0.039525002538331265, 0.039525002538331265, 0.11857500761499379, 0.039525002538331265, 0.039525002538331265, 0.15810001015332506, 0.09881250634582817, 0.019762501269165633, 0.07905000507666253, 0.059287503807496894, 0.019762501269165633, 0.019762501269165633, 0.019762501269165633, 0.039525002538331265, 0.07905000507666253, 0.019762501269165633, 0.23636096291022973, 0.03376585184431854, 0.06753170368863708, 0.10129755553295561, 0.06753170368863708, 0.03376585184431854, 0.06753170368863708, 0.03376585184431854, 0.03376585184431854, 0.13506340737727415, 0.10129755553295561, 0.03376585184431854, 0.03376585184431854, 0.6089190653893203, 0.0329145440750984, 0.0658290881501968, 0.0164572720375492, 0.0164572720375492, 0.04937181611264759, 0.0658290881501968, 0.0164572720375492, 0.0164572720375492, 0.0329145440750984, 0.0164572720375492, 0.0164572720375492, 0.0164572720375492, 0.0164572720375492, 0.04253470280303681, 0.12760410840911043, 0.06380205420455522, 0.12760410840911043, 0.10633675700759203, 0.04253470280303681, 0.04253470280303681, 0.04253470280303681, 0.04253470280303681, 0.08506940560607362, 0.04253470280303681, 0.12760410840911043, 0.021267351401518406, 0.021267351401518406, 0.04253470280303681, 0.021267351401518406, 0.17966088633490065, 0.17966088633490065, 0.08983044316745033, 0.17966088633490065, 0.08983044316745033, 0.08983044316745033, 0.08983044316745033, 0.0686445660433001, 0.15445027359742522, 0.08580570755412513, 0.08580570755412513, 0.0686445660433001, 0.10296684906495014, 0.05148342453247507, 0.03432228302165005, 0.017161141510825026, 0.0686445660433001, 0.03432228302165005, 0.0686445660433001, 0.03432228302165005, 0.017161141510825026, 0.03432228302165005, 0.03432228302165005, 0.017161141510825026, 0.017161141510825026], \"Term\": [\"access\", \"access\", \"access\", \"access\", \"access\", \"access\", \"access\", \"access\", \"access\", \"access\", \"achieve\", \"achieve\", \"achieve\", \"achieve\", \"achieve\", \"achieve\", \"achieve\", \"achieve\", \"achieve\", \"add\", \"add\", \"add\", \"add\", \"add\", \"add\", \"add\", \"add\", \"advanced\", \"advanced\", \"advanced\", \"advanced\", \"advanced\", \"advanced\", \"advanced\", \"advanced\", \"allow\", \"allow\", \"allow\", \"allow\", \"allow\", \"allow\", \"allow\", \"allow\", \"allow\", \"allow\", \"allow\", \"allow\", \"allow\", \"allow\", \"allow\", \"apply\", \"apply\", \"apply\", \"apply\", \"apply\", \"apply\", \"apply\", \"apply\", \"apply\", \"apply\", \"approach\", \"approach\", \"approach\", \"approach\", \"approach\", \"approach\", \"approach\", \"approach\", \"approach\", \"approach\", \"approach\", \"area\", \"area\", \"area\", \"area\", \"area\", \"area\", \"area\", \"area\", \"area\", \"area\", \"area\", \"area\", \"available\", \"available\", \"available\", \"available\", \"available\", \"available\", \"available\", \"available\", \"available\", \"available\", \"available\", \"available\", \"available\", \"available\", \"available\", \"award\", \"award\", \"award\", \"award\", \"award\", \"award\", \"award\", \"award\", \"award\", \"award\", \"award\", \"award\", \"base\", \"base\", \"base\", \"base\", \"base\", \"base\", \"base\", \"base\", \"base\", \"base\", \"base\", \"base\", \"base\", \"base\", \"benefit\", \"benefit\", \"benefit\", \"benefit\", \"benefit\", \"benefit\", \"benefit\", \"benefit\", \"bring\", \"bring\", \"bring\", \"bring\", \"bring\", \"bring\", \"bring\", \"bring\", \"bring\", \"bring\", \"brochure\", \"brochure\", \"brochure\", \"brochure\", \"brochure\", \"brochure\", \"brochure\", \"build\", \"build\", \"build\", \"build\", \"build\", \"build\", \"build\", \"build\", \"build\", \"build\", \"build\", \"build\", \"build\", \"build\", \"build\", \"build\", \"building\", \"building\", \"building\", \"building\", \"building\", \"building\", \"building\", \"building\", \"building\", \"building\", \"building\", \"building\", \"career\", \"career\", \"career\", \"career\", \"career\", \"career\", \"career\", \"career\", \"career\", \"career\", \"career\", \"career\", \"career\", \"career\", \"carry\", \"carry\", \"carry\", \"carry\", \"carry\", \"carry\", \"carry\", \"carry\", \"centre\", \"centre\", \"centre\", \"centre\", \"centre\", \"centre\", \"centre\", \"centre\", \"centre\", \"centre\", \"centre\", \"change\", \"change\", \"change\", \"change\", \"change\", \"change\", \"change\", \"change\", \"change\", \"change\", \"change\", \"change\", \"check\", \"check\", \"check\", \"check\", \"check\", \"check\", \"check\", \"choose\", \"choose\", \"choose\", \"choose\", \"choose\", \"choose\", \"choose\", \"choose\", \"choose\", \"choose\", \"choose\", \"choose\", \"choose\", \"choose\", \"choose\", \"click\", \"click\", \"click\", \"click\", \"click\", \"click\", \"click\", \"click\", \"click\", \"click\", \"click\", \"click\", \"click\", \"client\", \"client\", \"client\", \"client\", \"client\", \"client\", \"client\", \"client\", \"client\", \"client\", \"client\", \"client\", \"client\", \"close\", \"close\", \"close\", \"close\", \"close\", \"close\", \"close\", \"close\", \"close\", \"close\", \"close\", \"close\", \"close\", \"come\", \"come\", \"come\", \"come\", \"come\", \"come\", \"come\", \"come\", \"commercial\", \"commercial\", \"commercial\", \"commercial\", \"commercial\", \"commercial\", \"commercial\", \"commercial\", \"commercial\", \"commercial\", \"commercial\", \"commercial\", \"commercial\", \"commercial\", \"complete\", \"complete\", \"complete\", \"complete\", \"complete\", \"complete\", \"complete\", \"complete\", \"complete\", \"complete\", \"complete\", \"complete\", \"complete\", \"complete\", \"complete\", \"component\", \"component\", \"component\", \"component\", \"component\", \"component\", \"component\", \"component\", \"component\", \"component\", \"component\", \"component\", \"condition\", \"condition\", \"condition\", \"condition\", \"condition\", \"condition\", \"condition\", \"condition\", \"condition\", \"construction\", \"construction\", \"construction\", \"construction\", \"construction\", \"construction\", \"construction\", \"construction\", \"construction\", \"construction\", \"construction\", \"construction\", \"construction\", \"construction\", \"consumer\", \"consumer\", \"consumer\", \"consumer\", \"consumer\", \"consumer\", \"consumer\", \"consumer\", \"consumer\", \"consumer\", \"content\", \"content\", \"content\", \"content\", \"content\", \"content\", \"content\", \"content\", \"content\", \"content\", \"content\", \"continue\", \"continue\", \"continue\", \"continue\", \"continue\", \"continue\", \"continue\", \"continue\", \"continue\", \"continue\", \"control\", \"control\", \"control\", \"control\", \"control\", \"control\", \"control\", \"control\", \"control\", \"control\", \"control\", \"control\", \"control\", \"control\", \"control\", \"copyright\", \"copyright\", \"copyright\", \"copyright\", \"copyright\", \"copyright\", \"copyright\", \"copyright\", \"copyright\", \"copyright\", \"copyright\", \"copyright\", \"copyright\", \"copyright\", \"copyright\", \"copyright\", \"copyright\", \"cost\", \"cost\", \"cost\", \"cost\", \"cost\", \"cost\", \"cost\", \"cost\", \"cost\", \"cost\", \"cost\", \"cost\", \"cost\", \"country\", \"country\", \"country\", \"country\", \"country\", \"country\", \"country\", \"country\", \"country\", \"country\", \"country\", \"create\", \"create\", \"create\", \"create\", \"create\", \"create\", \"create\", \"create\", \"create\", \"create\", \"create\", \"create\", \"create\", \"create\", \"current\", \"current\", \"current\", \"current\", \"current\", \"current\", \"current\", \"current\", \"current\", \"current\", \"current\", \"current\", \"datum\", \"datum\", \"datum\", \"datum\", \"datum\", \"datum\", \"datum\", \"datum\", \"datum\", \"datum\", \"datum\", \"datum\", \"datum\", \"datum\", \"datum\", \"datum\", \"datum\", \"day\", \"day\", \"day\", \"day\", \"day\", \"day\", \"day\", \"day\", \"day\", \"day\", \"day\", \"day\", \"deliver\", \"deliver\", \"deliver\", \"deliver\", \"deliver\", \"deliver\", \"deliver\", \"deliver\", \"deliver\", \"demand\", \"demand\", \"demand\", \"demand\", \"demand\", \"demand\", \"demand\", \"demand\", \"demand\", \"demand\", \"demand\", \"develop\", \"develop\", \"develop\", \"develop\", \"develop\", \"develop\", \"develop\", \"develop\", \"develop\", \"develop\", \"develop\", \"develop\", \"develop\", \"develop\", \"develop\", \"develop\", \"development\", \"development\", \"development\", \"development\", \"development\", \"development\", \"development\", \"development\", \"development\", \"development\", \"development\", \"development\", \"development\", \"development\", \"development\", \"digital\", \"digital\", \"digital\", \"digital\", \"digital\", \"digital\", \"digital\", \"digital\", \"digital\", \"digital\", \"digital\", \"digital\", \"distributor\", \"distributor\", \"distributor\", \"distributor\", \"distributor\", \"distributor\", \"distributor\", \"download\", \"download\", \"download\", \"download\", \"download\", \"download\", \"download\", \"download\", \"download\", \"downloads\", \"downloads\", \"downloads\", \"downloads\", \"downloads\", \"downloads\", \"downloads\", \"downloads\", \"downloads\", \"downloads\", \"drive\", \"drive\", \"drive\", \"drive\", \"drive\", \"drive\", \"drive\", \"drive\", \"drive\", \"drive\", \"drive\", \"drive\", \"easy\", \"easy\", \"easy\", \"easy\", \"easy\", \"easy\", \"easy\", \"easy\", \"easy\", \"easy\", \"easy\", \"efficient\", \"efficient\", \"efficient\", \"efficient\", \"efficient\", \"efficient\", \"efficient\", \"efficient\", \"efficient\", \"electrical\", \"electrical\", \"electrical\", \"electrical\", \"electrical\", \"electrical\", \"electrical\", \"electrical\", \"electrical\", \"electrical\", \"electrical\", \"electrical\", \"electrical\", \"electrical\", \"electricity\", \"electricity\", \"electricity\", \"electricity\", \"electricity\", \"electricity\", \"electricity\", \"electricity\", \"email\", \"email\", \"email\", \"email\", \"email\", \"email\", \"email\", \"email\", \"email\", \"email\", \"employee\", \"employee\", \"employee\", \"employee\", \"employee\", \"employee\", \"employee\", \"employee\", \"enable\", \"enable\", \"enable\", \"enable\", \"enable\", \"enable\", \"enable\", \"enable\", \"enable\", \"enable\", \"enable\", \"enable\", \"enable\", \"enable\", \"engineer\", \"engineer\", \"engineer\", \"engineer\", \"engineer\", \"engineer\", \"engineer\", \"engineer\", \"engineer\", \"engineer\", \"engineer\", \"engineer\", \"engineer\", \"engineer\", \"engineer\", \"engineer\", \"engineer\", \"engineering\", \"engineering\", \"engineering\", \"engineering\", \"engineering\", \"engineering\", \"engineering\", \"engineering\", \"engineering\", \"engineering\", \"engineering\", \"engineering\", \"engineering\", \"engineering\", \"environment\", \"environment\", \"environment\", \"environment\", \"environment\", \"environment\", \"environment\", \"environment\", \"environment\", \"environment\", \"environment\", \"environment\", \"environment\", \"environment\", \"environmental\", \"environmental\", \"environmental\", \"environmental\", \"environmental\", \"environmental\", \"environmental\", \"environmental\", \"environmental\", \"environmental\", \"environmental\", \"environmental\", \"environmental\", \"environmental\", \"environmental\", \"equipment\", \"equipment\", \"equipment\", \"equipment\", \"equipment\", \"equipment\", \"equipment\", \"equipment\", \"equipment\", \"equipment\", \"equipment\", \"equipment\", \"equipment\", \"equipment\", \"equipment\", \"europe\", \"europe\", \"europe\", \"europe\", \"europe\", \"europe\", \"europe\", \"europe\", \"event\", \"event\", \"event\", \"event\", \"event\", \"event\", \"event\", \"event\", \"event\", \"event\", \"event\", \"event\", \"event\", \"event\", \"event\", \"event\", \"event\", \"exist\", \"exist\", \"exist\", \"exist\", \"exist\", \"exist\", \"exist\", \"exist\", \"exist\", \"exist\", \"exist\", \"exist\", \"experience\", \"experience\", \"experience\", \"experience\", \"experience\", \"experience\", \"experience\", \"experience\", \"experience\", \"experience\", \"experience\", \"experience\", \"experience\", \"experience\", \"experience\", \"expert\", \"expert\", \"expert\", \"expert\", \"expert\", \"expert\", \"expert\", \"expert\", \"expert\", \"expert\", \"expert\", \"facility\", \"facility\", \"facility\", \"facility\", \"facility\", \"facility\", \"facility\", \"facility\", \"facility\", \"facility\", \"facility\", \"feature\", \"feature\", \"feature\", \"feature\", \"feature\", \"feature\", \"feature\", \"feature\", \"feature\", \"feature\", \"flexible\", \"flexible\", \"flexible\", \"flexible\", \"flexible\", \"flexible\", \"flexible\", \"flexible\", \"flexible\", \"focus\", \"focus\", \"focus\", \"focus\", \"focus\", \"focus\", \"focus\", \"focus\", \"focus\", \"focus\", \"focus\", \"focus\", \"focus\", \"follow\", \"follow\", \"follow\", \"follow\", \"follow\", \"follow\", \"follow\", \"follow\", \"follow\", \"follow\", \"free\", \"free\", \"free\", \"free\", \"free\", \"free\", \"free\", \"free\", \"free\", \"future\", \"future\", \"future\", \"future\", \"future\", \"future\", \"future\", \"future\", \"future\", \"future\", \"future\", \"future\", \"future\", \"future\", \"future\", \"generate\", \"generate\", \"generate\", \"generate\", \"generate\", \"generate\", \"generate\", \"global\", \"global\", \"global\", \"global\", \"global\", \"global\", \"global\", \"global\", \"global\", \"global\", \"global\", \"global\", \"global\", \"global\", \"good\", \"good\", \"good\", \"good\", \"good\", \"good\", \"good\", \"good\", \"good\", \"good\", \"good\", \"good\", \"good\", \"good\", \"good\", \"good\", \"government\", \"government\", \"government\", \"government\", \"government\", \"government\", \"government\", \"government\", \"government\", \"government\", \"great\", \"great\", \"great\", \"great\", \"great\", \"great\", \"great\", \"great\", \"great\", \"great\", \"great\", \"green\", \"green\", \"green\", \"green\", \"green\", \"green\", \"green\", \"green\", \"green\", \"green\", \"green\", \"green\", \"green\", \"green\", \"grid\", \"grid\", \"grid\", \"grid\", \"grid\", \"grid\", \"grid\", \"grid\", \"grid\", \"grid\", \"grid\", \"group\", \"group\", \"group\", \"group\", \"group\", \"group\", \"group\", \"group\", \"group\", \"group\", \"group\", \"group\", \"group\", \"grow\", \"grow\", \"grow\", \"grow\", \"grow\", \"grow\", \"grow\", \"grow\", \"grow\", \"guide\", \"guide\", \"guide\", \"guide\", \"guide\", \"guide\", \"guide\", \"guide\", \"guide\", \"guide\", \"guide\", \"guide\", \"guide\", \"happy\", \"happy\", \"happy\", \"happy\", \"happy\", \"happy\", \"happy\", \"happy\", \"happy\", \"happy\", \"happy\", \"heat\", \"heat\", \"heat\", \"heat\", \"heat\", \"heat\", \"heat\", \"heat\", \"heat\", \"heat\", \"heat\", \"heat\", \"help\", \"help\", \"help\", \"help\", \"help\", \"help\", \"help\", \"help\", \"help\", \"help\", \"help\", \"help\", \"help\", \"help\", \"help\", \"help\", \"help\", \"help\", \"help\", \"high\", \"high\", \"high\", \"high\", \"high\", \"high\", \"high\", \"high\", \"high\", \"high\", \"high\", \"high\", \"high\", \"history\", \"history\", \"history\", \"history\", \"history\", \"history\", \"history\", \"history\", \"important\", \"important\", \"important\", \"important\", \"important\", \"important\", \"important\", \"improve\", \"improve\", \"improve\", \"improve\", \"improve\", \"improve\", \"improve\", \"improve\", \"improve\", \"improve\", \"improve\", \"include\", \"include\", \"include\", \"include\", \"include\", \"include\", \"include\", \"include\", \"include\", \"include\", \"include\", \"include\", \"include\", \"include\", \"include\", \"include\", \"increase\", \"increase\", \"increase\", \"increase\", \"increase\", \"increase\", \"increase\", \"increase\", \"increase\", \"increase\", \"increase\", \"increase\", \"independent\", \"independent\", \"independent\", \"independent\", \"independent\", \"independent\", \"independent\", \"independent\", \"individual\", \"individual\", \"individual\", \"individual\", \"individual\", \"individual\", \"individual\", \"individual\", \"industrial\", \"industrial\", \"industrial\", \"industrial\", \"industrial\", \"industrial\", \"industrial\", \"industrial\", \"industrial\", \"industrial\", \"industrial\", \"industrial\", \"industrial\", \"industrial\", \"innovation\", \"innovation\", \"innovation\", \"innovation\", \"innovation\", \"innovation\", \"innovation\", \"innovation\", \"innovation\", \"innovation\", \"innovation\", \"innovation\", \"innovation\", \"innovation\", \"innovative\", \"innovative\", \"innovative\", \"innovative\", \"innovative\", \"innovative\", \"innovative\", \"innovative\", \"innovative\", \"innovative\", \"innovative\", \"innovative\", \"innovative\", \"instal\", \"instal\", \"instal\", \"instal\", \"instal\", \"instal\", \"instal\", \"instal\", \"instal\", \"instal\", \"instal\", \"install\", \"install\", \"install\", \"install\", \"install\", \"install\", \"install\", \"install\", \"install\", \"install\", \"install\", \"installation\", \"installation\", \"installation\", \"installation\", \"installation\", \"installation\", \"installation\", \"installation\", \"installation\", \"installation\", \"installation\", \"installation\", \"installation\", \"installation\", \"installation\", \"integrate\", \"integrate\", \"integrate\", \"integrate\", \"integrate\", \"integrate\", \"integrate\", \"integrate\", \"integrate\", \"integrate\", \"integrate\", \"integrate\", \"integrate\", \"integrate\", \"integrate\", \"integrate\", \"integrate\", \"integrate\", \"international\", \"international\", \"international\", \"international\", \"international\", \"international\", \"international\", \"international\", \"international\", \"international\", \"international\", \"international\", \"international\", \"job\", \"job\", \"job\", \"job\", \"job\", \"job\", \"job\", \"job\", \"job\", \"job\", \"job\", \"key\", \"key\", \"key\", \"key\", \"key\", \"key\", \"key\", \"know\", \"know\", \"know\", \"know\", \"know\", \"know\", \"know\", \"know\", \"know\", \"know\", \"know\", \"know\", \"know\", \"know\", \"know\", \"large\", \"large\", \"large\", \"large\", \"large\", \"large\", \"large\", \"large\", \"large\", \"large\", \"large\", \"large\", \"large\", \"large\", \"large\", \"late\", \"late\", \"late\", \"late\", \"late\", \"late\", \"late\", \"late\", \"late\", \"late\", \"late\", \"late\", \"lead\", \"lead\", \"lead\", \"lead\", \"lead\", \"lead\", \"lead\", \"lead\", \"lead\", \"lead\", \"lead\", \"lead\", \"lead\", \"lead\", \"lead\", \"lead\", \"lead\", \"learn\", \"learn\", \"learn\", \"learn\", \"learn\", \"learn\", \"learn\", \"learn\", \"learn\", \"learn\", \"learn\", \"learn\", \"learn\", \"learn\", \"level\", \"level\", \"level\", \"level\", \"level\", \"level\", \"level\", \"level\", \"level\", \"level\", \"level\", \"level\", \"level\", \"light\", \"light\", \"light\", \"light\", \"light\", \"light\", \"light\", \"light\", \"light\", \"light\", \"light\", \"like\", \"like\", \"like\", \"like\", \"like\", \"like\", \"like\", \"like\", \"like\", \"like\", \"like\", \"like\", \"like\", \"line\", \"line\", \"line\", \"line\", \"line\", \"line\", \"line\", \"line\", \"link\", \"link\", \"link\", \"link\", \"link\", \"link\", \"link\", \"link\", \"local\", \"local\", \"local\", \"local\", \"local\", \"local\", \"local\", \"local\", \"local\", \"local\", \"local\", \"local\", \"local\", \"local\", \"local\", \"location\", \"location\", \"location\", \"location\", \"location\", \"location\", \"location\", \"location\", \"location\", \"location\", \"location\", \"location\", \"look\", \"look\", \"look\", \"look\", \"look\", \"look\", \"look\", \"look\", \"look\", \"look\", \"look\", \"look\", \"look\", \"look\", \"look\", \"look\", \"low\", \"low\", \"low\", \"low\", \"low\", \"low\", \"low\", \"low\", \"low\", \"low\", \"low\", \"main\", \"main\", \"main\", \"main\", \"main\", \"main\", \"main\", \"main\", \"main\", \"main\", \"manage\", \"manage\", \"manage\", \"manage\", \"manage\", \"manage\", \"manage\", \"manage\", \"manage\", \"manufacture\", \"manufacture\", \"manufacture\", \"manufacture\", \"manufacture\", \"manufacture\", \"manufacture\", \"manufacture\", \"manufacture\", \"manufacture\", \"manufacture\", \"manufacture\", \"manufacture\", \"manufacture\", \"manufacture\", \"manufacture\", \"marine\", \"marine\", \"marine\", \"marine\", \"marine\", \"marine\", \"marine\", \"marine\", \"marine\", \"marine\", \"marine\", \"marine\", \"marine\", \"material\", \"material\", \"material\", \"material\", \"material\", \"material\", \"material\", \"material\", \"material\", \"material\", \"material\", \"mean\", \"mean\", \"mean\", \"mean\", \"mean\", \"mean\", \"mean\", \"mean\", \"mean\", \"mean\", \"medium\", \"medium\", \"medium\", \"medium\", \"medium\", \"medium\", \"medium\", \"medium\", \"medium\", \"medium\", \"medium\", \"medium\", \"meet\", \"meet\", \"meet\", \"meet\", \"meet\", \"meet\", \"meet\", \"meet\", \"meet\", \"meet\", \"meet\", \"member\", \"member\", \"member\", \"member\", \"member\", \"member\", \"member\", \"member\", \"member\", \"member\", \"model\", \"model\", \"model\", \"model\", \"model\", \"model\", \"model\", \"model\", \"model\", \"model\", \"model\", \"model\", \"monitor\", \"monitor\", \"monitor\", \"monitor\", \"monitor\", \"monitor\", \"monitor\", \"monitor\", \"monitor\", \"monitor\", \"monitor\", \"monitor\", \"monitor\", \"monitor\", \"monitor\", \"monitor\", \"monitoring\", \"monitoring\", \"monitoring\", \"monitoring\", \"monitoring\", \"monitoring\", \"monitoring\", \"monitoring\", \"monitoring\", \"monitoring\", \"need\", \"need\", \"need\", \"need\", \"need\", \"need\", \"need\", \"need\", \"need\", \"need\", \"need\", \"need\", \"need\", \"need\", \"need\", \"need\", \"network\", \"network\", \"network\", \"network\", \"network\", \"network\", \"network\", \"network\", \"network\", \"network\", \"network\", \"network\", \"network\", \"network\", \"network\", \"number\", \"number\", \"number\", \"number\", \"number\", \"number\", \"number\", \"number\", \"number\", \"number\", \"number\", \"number\", \"number\", \"number\", \"number\", \"office\", \"office\", \"office\", \"office\", \"office\", \"office\", \"office\", \"office\", \"office\", \"office\", \"oil\", \"oil\", \"oil\", \"oil\", \"oil\", \"oil\", \"oil\", \"oil\", \"oil\", \"oil\", \"oil\", \"oil\", \"online\", \"online\", \"online\", \"online\", \"online\", \"online\", \"online\", \"online\", \"online\", \"online\", \"online\", \"online\", \"online\", \"open\", \"open\", \"open\", \"open\", \"open\", \"open\", \"open\", \"open\", \"open\", \"open\", \"operate\", \"operate\", \"operate\", \"operate\", \"operate\", \"operate\", \"operate\", \"operate\", \"operate\", \"operate\", \"operate\", \"operate\", \"operate\", \"operate\", \"operation\", \"operation\", \"operation\", \"operation\", \"operation\", \"operation\", \"operation\", \"operation\", \"operation\", \"operation\", \"operation\", \"operation\", \"operation\", \"operation\", \"operation\", \"operation\", \"operation\", \"opportunity\", \"opportunity\", \"opportunity\", \"opportunity\", \"opportunity\", \"opportunity\", \"opportunity\", \"opportunity\", \"opportunity\", \"opportunity\", \"opportunity\", \"opportunity\", \"order\", \"order\", \"order\", \"order\", \"order\", \"order\", \"order\", \"order\", \"order\", \"order\", \"order\", \"page\", \"page\", \"page\", \"page\", \"page\", \"page\", \"page\", \"page\", \"performance\", \"performance\", \"performance\", \"performance\", \"performance\", \"performance\", \"performance\", \"performance\", \"performance\", \"performance\", \"performance\", \"performance\", \"performance\", \"performance\", \"performance\", \"performance\", \"performance\", \"performance\", \"plan\", \"plan\", \"plan\", \"plan\", \"plan\", \"plan\", \"plan\", \"plan\", \"plan\", \"plan\", \"plan\", \"plan\", \"plan\", \"platform\", \"platform\", \"platform\", \"platform\", \"platform\", \"platform\", \"platform\", \"platform\", \"platform\", \"platform\", \"platform\", \"platform\", \"policy\", \"policy\", \"policy\", \"policy\", \"policy\", \"policy\", \"policy\", \"policy\", \"policy\", \"policy\", \"policy\", \"policy\", \"policy\", \"position\", \"position\", \"position\", \"position\", \"position\", \"position\", \"position\", \"position\", \"position\", \"position\", \"possible\", \"possible\", \"possible\", \"possible\", \"possible\", \"possible\", \"price\", \"price\", \"price\", \"price\", \"price\", \"price\", \"price\", \"price\", \"price\", \"price\", \"problem\", \"problem\", \"problem\", \"problem\", \"problem\", \"problem\", \"problem\", \"problem\", \"problem\", \"problem\", \"process\", \"process\", \"process\", \"process\", \"process\", \"process\", \"process\", \"process\", \"process\", \"process\", \"process\", \"process\", \"process\", \"process\", \"process\", \"process\", \"production\", \"production\", \"production\", \"production\", \"production\", \"production\", \"production\", \"production\", \"production\", \"production\", \"production\", \"production\", \"production\", \"production\", \"production\", \"production\", \"professional\", \"professional\", \"professional\", \"professional\", \"professional\", \"professional\", \"professional\", \"professional\", \"professional\", \"professional\", \"professional\", \"protection\", \"protection\", \"protection\", \"protection\", \"protection\", \"protection\", \"provider\", \"provider\", \"provider\", \"provider\", \"provider\", \"provider\", \"provider\", \"provider\", \"quick\", \"quick\", \"quick\", \"quick\", \"quick\", \"quick\", \"quick\", \"quick\", \"quick\", \"range\", \"range\", \"range\", \"range\", \"range\", \"range\", \"range\", \"range\", \"range\", \"range\", \"range\", \"range\", \"range\", \"range\", \"range\", \"range\", \"read\", \"read\", \"read\", \"read\", \"read\", \"read\", \"read\", \"read\", \"read\", \"read\", \"read\", \"read\", \"read\", \"read\", \"read\", \"read\", \"read\", \"receive\", \"receive\", \"receive\", \"receive\", \"receive\", \"receive\", \"receive\", \"receive\", \"receive\", \"reduce\", \"reduce\", \"reduce\", \"reduce\", \"reduce\", \"reduce\", \"reduce\", \"reduce\", \"reduce\", \"reduce\", \"reduce\", \"reference\", \"reference\", \"reference\", \"reference\", \"reference\", \"reference\", \"reference\", \"reference\", \"reference\", \"register\", \"register\", \"register\", \"register\", \"register\", \"register\", \"register\", \"register\", \"register\", \"register\", \"register\", \"register\", \"register\", \"reliable\", \"reliable\", \"reliable\", \"reliable\", \"reliable\", \"reliable\", \"reliable\", \"reliable\", \"reliable\", \"reliable\", \"reliable\", \"reliable\", \"report\", \"report\", \"report\", \"report\", \"report\", \"report\", \"report\", \"report\", \"report\", \"report\", \"report\", \"represent\", \"represent\", \"represent\", \"represent\", \"represent\", \"represent\", \"represent\", \"represent\", \"represent\", \"require\", \"require\", \"require\", \"require\", \"require\", \"require\", \"require\", \"require\", \"require\", \"require\", \"require\", \"require\", \"require\", \"require\", \"requirement\", \"requirement\", \"requirement\", \"requirement\", \"requirement\", \"requirement\", \"requirement\", \"requirement\", \"requirement\", \"requirement\", \"requirement\", \"requirement\", \"resource\", \"resource\", \"resource\", \"resource\", \"resource\", \"resource\", \"resource\", \"resource\", \"resource\", \"resource\", \"resource\", \"resource\", \"resource\", \"resource\", \"result\", \"result\", \"result\", \"result\", \"result\", \"result\", \"result\", \"result\", \"result\", \"result\", \"result\", \"right\", \"right\", \"right\", \"right\", \"right\", \"right\", \"right\", \"right\", \"right\", \"right\", \"safety\", \"safety\", \"safety\", \"safety\", \"safety\", \"safety\", \"safety\", \"safety\", \"safety\", \"safety\", \"safety\", \"safety\", \"safety\", \"safety\", \"sale\", \"sale\", \"sale\", \"sale\", \"sale\", \"sale\", \"sale\", \"sale\", \"sale\", \"sale\", \"sale\", \"sale\", \"sale\", \"sale\", \"sale\", \"save\", \"save\", \"save\", \"save\", \"save\", \"save\", \"save\", \"save\", \"save\", \"save\", \"save\", \"search\", \"search\", \"search\", \"search\", \"search\", \"search\", \"search\", \"search\", \"search\", \"search\", \"search\", \"search\", \"search\", \"search\", \"search\", \"search\", \"sector\", \"sector\", \"sector\", \"sector\", \"sector\", \"sector\", \"sector\", \"sector\", \"sector\", \"sector\", \"sector\", \"sector\", \"sector\", \"security\", \"security\", \"security\", \"security\", \"security\", \"security\", \"security\", \"security\", \"security\", \"security\", \"security\", \"security\", \"security\", \"security\", \"select\", \"select\", \"select\", \"select\", \"select\", \"select\", \"select\", \"select\", \"select\", \"select\", \"select\", \"sell\", \"sell\", \"sell\", \"sell\", \"sell\", \"sell\", \"sell\", \"sell\", \"sell\", \"sensor\", \"sensor\", \"sensor\", \"sensor\", \"sensor\", \"sensor\", \"sensor\", \"sensor\", \"sensor\", \"sensor\", \"set\", \"set\", \"set\", \"set\", \"set\", \"set\", \"set\", \"set\", \"set\", \"set\", \"set\", \"significant\", \"significant\", \"significant\", \"significant\", \"significant\", \"significant\", \"significant\", \"significant\", \"significant\", \"significant\", \"significant\", \"simple\", \"simple\", \"simple\", \"simple\", \"simple\", \"simple\", \"simple\", \"simple\", \"simple\", \"simple\", \"simple\", \"simple\", \"site\", \"site\", \"site\", \"site\", \"site\", \"site\", \"site\", \"site\", \"site\", \"site\", \"site\", \"site\", \"site\", \"site\", \"site\", \"site\", \"site\", \"site\", \"smart\", \"smart\", \"smart\", \"smart\", \"smart\", \"smart\", \"smart\", \"smart\", \"smart\", \"smart\", \"social\", \"social\", \"social\", \"social\", \"social\", \"social\", \"social\", \"social\", \"social\", \"social\", \"social\", \"software\", \"software\", \"software\", \"software\", \"software\", \"software\", \"software\", \"software\", \"software\", \"solar\", \"solar\", \"solar\", \"solar\", \"solar\", \"solar\", \"solar\", \"solar\", \"solar\", \"solar\", \"solar\", \"solar\", \"solar\", \"solar\", \"source\", \"source\", \"source\", \"source\", \"source\", \"source\", \"source\", \"source\", \"source\", \"source\", \"source\", \"specialist\", \"specialist\", \"specialist\", \"specialist\", \"specialist\", \"specialist\", \"specialist\", \"specialist\", \"specialist\", \"specialist\", \"specialist\", \"specialist\", \"stand\", \"stand\", \"stand\", \"stand\", \"stand\", \"stand\", \"stand\", \"stand\", \"stand\", \"stand\", \"standard\", \"standard\", \"standard\", \"standard\", \"standard\", \"standard\", \"standard\", \"standard\", \"standard\", \"standard\", \"standard\", \"standard\", \"standard\", \"standard\", \"standard\", \"start\", \"start\", \"start\", \"start\", \"start\", \"start\", \"start\", \"start\", \"start\", \"start\", \"start\", \"start\", \"start\", \"start\", \"study\", \"study\", \"study\", \"study\", \"study\", \"study\", \"study\", \"study\", \"study\", \"study\", \"study\", \"supplier\", \"supplier\", \"supplier\", \"supplier\", \"supplier\", \"supplier\", \"supplier\", \"supplier\", \"supplier\", \"supplier\", \"supplier\", \"supply\", \"supply\", \"supply\", \"supply\", \"supply\", \"supply\", \"supply\", \"supply\", \"supply\", \"supply\", \"supply\", \"supply\", \"supply\", \"supply\", \"supply\", \"supply\", \"supply\", \"sustainability\", \"sustainability\", \"sustainability\", \"sustainability\", \"sustainability\", \"sustainability\", \"sustainability\", \"sustainability\", \"sustainability\", \"sustainability\", \"sustainability\", \"sustainability\", \"sustainable\", \"sustainable\", \"sustainable\", \"sustainable\", \"sustainable\", \"sustainable\", \"sustainable\", \"sustainable\", \"sustainable\", \"sustainable\", \"sustainable\", \"team\", \"team\", \"team\", \"team\", \"team\", \"team\", \"team\", \"team\", \"team\", \"team\", \"team\", \"team\", \"team\", \"team\", \"team\", \"team\", \"technical\", \"technical\", \"technical\", \"technical\", \"technical\", \"technical\", \"technical\", \"technical\", \"technical\", \"technical\", \"technical\", \"technical\", \"technical\", \"technical\", \"technical\", \"term\", \"term\", \"term\", \"term\", \"term\", \"term\", \"term\", \"term\", \"test\", \"test\", \"test\", \"test\", \"test\", \"test\", \"test\", \"test\", \"test\", \"time\", \"time\", \"time\", \"time\", \"time\", \"time\", \"time\", \"time\", \"time\", \"time\", \"time\", \"time\", \"time\", \"time\", \"time\", \"time\", \"today\", \"today\", \"today\", \"today\", \"today\", \"today\", \"today\", \"today\", \"today\", \"today\", \"today\", \"today\", \"today\", \"today\", \"today\", \"tool\", \"tool\", \"tool\", \"tool\", \"tool\", \"tool\", \"tool\", \"tool\", \"tool\", \"tool\", \"tool\", \"tool\", \"tool\", \"tool\", \"tool\", \"tool\", \"training\", \"training\", \"training\", \"training\", \"training\", \"training\", \"training\", \"training\", \"training\", \"training\", \"training\", \"training\", \"training\", \"training\", \"type\", \"type\", \"type\", \"type\", \"type\", \"type\", \"type\", \"type\", \"type\", \"type\", \"type\", \"type\", \"type\", \"type\", \"unit\", \"unit\", \"unit\", \"unit\", \"unit\", \"unit\", \"unit\", \"unit\", \"unit\", \"unit\", \"unit\", \"update\", \"update\", \"update\", \"update\", \"update\", \"update\", \"update\", \"update\", \"update\", \"update\", \"update\", \"update\", \"value\", \"value\", \"value\", \"value\", \"value\", \"value\", \"value\", \"value\", \"value\", \"value\", \"value\", \"value\", \"value\", \"video\", \"video\", \"video\", \"video\", \"video\", \"video\", \"video\", \"video\", \"video\", \"video\", \"view\", \"view\", \"view\", \"view\", \"view\", \"view\", \"view\", \"view\", \"view\", \"view\", \"view\", \"view\", \"view\", \"visit\", \"visit\", \"visit\", \"visit\", \"visit\", \"visit\", \"visit\", \"visit\", \"visit\", \"visit\", \"visit\", \"visit\", \"visit\", \"visit\", \"visit\", \"want\", \"want\", \"want\", \"want\", \"want\", \"want\", \"want\", \"want\", \"water\", \"water\", \"water\", \"water\", \"water\", \"water\", \"water\", \"water\", \"water\", \"water\", \"water\", \"water\", \"water\", \"water\", \"water\", \"water\", \"way\", \"way\", \"way\", \"way\", \"way\", \"way\", \"way\", \"way\", \"way\", \"way\", \"website\", \"website\", \"website\", \"website\", \"website\", \"website\", \"website\", \"website\", \"website\", \"website\", \"website\", \"website\", \"website\", \"website\", \"website\", \"website\", \"website\", \"welcome\", \"welcome\", \"welcome\", \"welcome\", \"welcome\", \"welcome\", \"welcome\", \"welcome\", \"welcome\", \"welcome\", \"welcome\", \"welcome\", \"welcome\", \"wind\", \"wind\", \"wind\", \"wind\", \"wind\", \"wind\", \"wind\", \"wind\", \"wind\", \"wind\", \"wind\", \"wind\", \"wind\", \"wind\", \"world\", \"world\", \"world\", \"world\", \"world\", \"world\", \"world\", \"world\", \"world\", \"world\", \"world\", \"world\", \"world\", \"world\", \"world\", \"world\", \"worldwide\", \"worldwide\", \"worldwide\", \"worldwide\", \"worldwide\", \"worldwide\", \"worldwide\", \"year\", \"year\", \"year\", \"year\", \"year\", \"year\", \"year\", \"year\", \"year\", \"year\", \"year\", \"year\", \"year\", \"year\", \"year\", \"year\", \"year\", \"year\"]}, \"R\": 30, \"plot.opts\": {\"ylab\": \"PC2\", \"xlab\": \"PC1\"}, \"tinfo\": {\"Freq\": [51.0, 57.0, 63.0, 53.0, 55.0, 40.0, 75.0, 37.0, 38.0, 62.0, 38.0, 69.0, 54.0, 57.0, 38.0, 49.0, 30.0, 65.0, 47.0, 38.0, 45.0, 60.0, 32.0, 56.0, 40.0, 22.0, 32.0, 49.0, 18.0, 50.0, 37.4918778188956, 19.509561505358384, 9.87507621362601, 14.454940215019242, 20.98888182643644, 4.545656134584562, 8.049852944923146, 6.35266661160167, 5.931323280871163, 18.074492790958615, 17.123677351586064, 7.406637691826365, 5.078210572908558, 6.273705132111928, 5.305224386328068, 13.79965212289983, 6.878999732476499, 5.182447299625004, 13.484676313460502, 3.422337677348039, 4.74551958246488, 8.37933386740388, 2.5686056899241243, 7.424454126850436, 4.814995362083535, 4.411037608210747, 6.947823339171063, 3.4096363080618817, 4.610949919410398, 5.897041708455984, 9.650515716772908, 11.569365909249626, 8.486845808943809, 8.920142612991066, 9.123779139188253, 8.373219685097197, 8.817186552032787, 6.8465992010603065, 6.467281101981465, 5.82856656948074, 6.414158595859158, 5.906993379967377, 6.127398299177185, 25.201084395004226, 10.002746857252202, 7.094483033529038, 6.276001887171995, 6.414515278210372, 4.466781906320327, 4.321973623296184, 5.902061039479732, 4.3495204485518215, 5.845320280726382, 2.5059308155244713, 2.9825648673796086, 3.354031409437414, 3.7468533811419533, 3.026726455625738, 3.63061139354214, 4.458039738952795, 3.560059989835941, 2.5026510176765115, 2.7001543771232743, 4.158123854727968, 2.861727188370016, 4.172611611064144, 2.8024070968321646, 5.293354300711568, 4.311508765752047, 3.5272134476250105, 7.128150811789311, 8.95033961869813, 2.246057473727619, 5.3763226608383405, 7.073916818038351, 6.267403405974193, 7.243591938221971, 6.53433641990852, 5.785751075559442, 5.079558908438473, 5.327518598108896, 6.34635969920174, 5.232704641945516, 5.123895030430471, 4.817486162815401, 4.471368161878224, 4.592687722100441, 4.368251005921604, 4.371840942226115, 10.407620443057748, 10.73877783279128, 16.94956317521709, 4.559190166897066, 4.048675726317843, 9.487168269781517, 11.248844684156477, 4.14194025936488, 4.148386538788483, 3.0970516695955, 7.0194572226353635, 2.667745441370731, 5.755581415770599, 4.472367321809561, 4.406830069804598, 8.779992136085315, 3.3933090084884445, 3.874631299085036, 2.2675271535299433, 5.285319930556196, 2.3265067548170393, 1.8080225470919629, 5.43082011598794, 2.02284560049835, 9.322396545544718, 7.913129069395025, 2.094944442078754, 2.9505764413767097, 6.715421702425096, 2.9076790964554746, 4.209639160401331, 6.0969700219146885, 7.4899573300291795, 4.855017146924169, 3.5778186564705354, 4.916063892092826, 3.3490867532277875, 4.874743215025753, 4.97879884814548, 5.156247163451204, 4.852530451531723, 5.004565054128824, 4.060429440352789, 4.139125889157155, 7.641340820146092, 6.820064427332675, 5.306449125503385, 15.838380472549817, 4.4856430088863375, 4.6778034168917575, 4.347780948509705, 5.282915143321888, 3.645459466432095, 4.9295543304567095, 6.564166919021872, 4.01252464460484, 4.603083179598953, 5.0575665418797024, 4.4746922446448325, 4.329738940881126, 2.8858688951879636, 3.1442755014575487, 4.552661264653722, 6.721575236616727, 4.884219472495873, 3.061206417493451, 7.398787887812219, 3.9228351836178224, 5.210069443542517, 2.997993795799565, 4.722006258626155, 2.4609545235427626, 1.810780701518622, 4.284126080560157, 4.440505089736475, 7.746577910331242, 4.459839987920169, 4.807036985382396, 8.112178486493184, 5.848726932109559, 5.6609752902315025, 5.163675615215709, 6.14479028747064, 5.622156117889288, 5.393688727109175, 5.129087622222973, 4.445942351850014, 5.66509863696005, 14.212107592518795, 15.132329602210833, 5.71692733831466, 18.126824731183756, 5.086136538549066, 5.129278102197466, 8.029162967325759, 7.417857041925031, 5.3902491601446805, 10.246264819157211, 7.420723807698541, 5.6348390001168305, 8.07017245100975, 7.733578663284605, 6.475340383991286, 7.570919483461127, 8.822523872973772, 8.393024640322645, 5.504378808057558, 3.0672132592010484, 3.292347554310165, 2.4026342035194377, 3.8718034587557497, 2.949571160961213, 3.0539887503517376, 2.9902164317001447, 4.588408985524571, 5.9960634178667895, 2.091809531436754, 3.5733775476408014, 4.657275886203773, 4.505085104985502, 4.517809427490472, 4.20590361080849, 4.7157759192517705, 3.9966620618283026, 4.064065897302559, 4.1112237917764745, 4.113940761005814, 12.019612401484174, 10.495673239455181, 5.546640543312402, 6.330958856301701, 15.078420213021179, 13.964170768410353, 10.000706469244227, 3.363104633655678, 3.2504311388376625, 4.928177827044148, 5.632202510816868, 2.517824966821386, 5.439739854556127, 3.0017585445429367, 4.230101201296573, 1.675512700817502, 7.181316376329613, 3.1494166469334632, 6.494160629035222, 7.203460261306794, 4.291643192509966, 1.7597207013508014, 2.691567131576649, 3.114639347133616, 3.147599991178475, 2.767443851507541, 2.7999312701670607, 1.5243823795150686, 3.139141223284611, 6.342907628669757, 6.173301668065843, 4.9984301692924005, 6.729677781147569, 4.389392664806516, 4.335562649642154, 4.189209129684571, 4.594826864447934, 3.9495719632181197, 3.5381547074604196, 3.6191801304502906, 3.2615589292044582, 3.1640289812781677, 21.292473820827464, 14.694968240391349, 7.190479422456113, 7.2146437917970205, 4.355546960585484, 5.3513241807996295, 5.433510968887058, 5.330405532866632, 3.783592505153254, 9.104184386294577, 11.201190053717198, 3.338122466882913, 5.090904524527234, 2.9429750777249084, 9.136612806682002, 8.280542738319854, 4.449238397000829, 3.20355992538596, 3.7663722921208076, 2.0314835113320147, 1.9645935337268094, 3.234131914200408, 2.0639420295380306, 2.751631160431848, 3.4890002218195724, 1.5945639778779572, 7.465957733134719, 5.476723710380392, 1.7715328594426043, 3.237580838032491, 4.321236458011005, 5.326669837930455, 4.5312821311950575, 4.522182969794632, 4.200956496685836, 3.117917812930531, 4.023471016837476, 3.4281044805263026, 6.0168140754224435, 11.644144947404175, 10.70303811852577, 2.6799220168267444, 8.313041591027304, 2.2241495422811544, 3.085532961864118, 2.5772601943150986, 8.998401322083438, 2.2020719551951315, 5.0261236786987675, 5.584175079518445, 3.351394749701139, 2.696557382849948, 4.081013083458011, 2.5369369930468353, 3.0258472427147907, 4.282341358082638, 6.904999142411913, 2.6633530205669795, 3.1328501592710696, 1.9273335807474599, 2.6787667597882105, 1.7760684264051418, 3.4868483863815056, 1.586698996538671, 2.4704916014121814, 3.2690591892540333, 3.7422677061245953, 5.973035955451462, 8.173259812705501, 5.0522720124045986, 4.844186027143084, 5.73411857020378, 4.853510633372109, 4.897231488935836, 4.61523876733587, 4.3926163158375715, 4.472595005022089, 3.6338998351970973, 4.252998921872848, 3.5562100201552966, 3.5884806709097754, 3.3774524969128725, 17.550944782583233, 13.791330470652273, 19.37777805605113, 4.549595259914342, 9.58327434653793, 3.684475818075503, 5.587087464699666, 3.4446875767126226, 8.50043863161678, 3.288868902100972, 9.229567766699121, 4.645056774005791, 2.704983133412097, 4.990318698718373, 2.9385306915027125, 5.656775522061126, 1.8355444203951523, 6.2037125586271555, 5.041362350198211, 3.467692548131211, 1.8903812208980542, 4.474836827458358, 4.1957218697505105, 6.088637925980279, 2.1820964983553024, 2.972019286521719, 5.81024334226071, 6.842773276752024, 2.742781175840453, 1.1750505379107772, 2.632794418682642, 3.2772783719461978, 6.583286079476788, 4.377673305353826, 4.131917789273712, 3.0405601635926667, 3.495101661408408, 3.1339003379604553, 6.00254807416533, 9.997751382181947, 6.5433801547045745, 10.714422140593033, 9.390775973609406, 4.875644220190126, 4.279300212935597, 2.610614601554968, 1.7196342704498389, 2.7270427848053638, 3.835568565123985, 4.09635439565576, 3.5549703605185052, 4.255010305138507, 2.336987106747984, 3.0961138032634765, 1.5484457942815035, 2.245793545080877, 6.795316655756719, 1.357987279693138, 2.000003994828504, 2.2833436238986304, 2.593882345041061, 1.9030599127098444, 6.780985918239584, 3.7824923497672156, 3.3622647998675372, 4.430790077383754, 3.4799212659506233, 3.4720708260444595, 4.053849872381683, 4.125151137308475, 3.9662005876915494, 3.4782004484483737, 3.9814264535628023, 3.664619363467174, 3.5370569463226578, 3.556075890302009, 3.066044709614928, 3.0456785900213976, 5.346772831794473, 4.138991098330096, 5.545685746193779, 4.213278585663581, 4.260195314626854, 6.1736706375921955, 2.1313535563200383, 3.8038893584127207, 5.355874092289769, 2.637494426177107, 2.383187382458138, 2.4177870921782296, 2.205707490805196, 3.377698737790888, 1.746950168599555, 3.7391535087300602, 2.5697927603041557, 5.999077329442933, 1.5091629465946867, 1.575473732036325, 1.5969358417530075, 2.8086744279653786, 2.647014071225831, 2.620090263014962, 2.0895452600372284, 3.0296758174213334, 3.102816887187118, 2.238215701829003, 2.58598315432969, 1.8163275185123775, 3.0256956208950445, 3.949025272850325, 3.965251214452232, 2.4799053689804413, 3.894864158226038, 3.8115174998622012, 2.6719547732092472, 3.739378444512033, 2.8744914046541052, 3.3723991213484776, 3.2007438568327204, 3.1305579151765537, 2.914951449450544, 2.686716001004297, 2.626659909887214, 5.884314469171157, 4.86550953595235, 3.3657036668622413, 2.6243474597775265, 3.455769862015218, 4.57792483961452, 5.251776310317561, 3.1780636694020084, 4.3116254128733775, 3.1502708119466423, 2.4060292975935225, 2.3350061262847737, 9.180692851651184, 8.28617848863526, 5.9468600184642, 3.794025422403802, 2.353471024613261, 2.470053249943956, 5.88851230917802, 5.806683247102821, 6.158140831228313, 2.170795988727097, 5.502221481468564, 1.6033629831375558, 2.371322091617122, 3.881721938609893, 1.9838580964368604, 1.4604361415751947, 2.6275262379073068, 2.384870781355092, 4.336644401628387, 2.629440767247261, 3.8799772976589404, 3.406974289831678, 3.6781328204390245, 3.5080097258722946, 3.027774948385043, 3.0580565671673674, 2.8218499309552025, 2.8222503172408926, 2.6658454784652093, 12.881413491190115, 10.149646736767302, 2.223088627022152, 7.787287102628929, 3.785507998226308, 2.762261936379471, 4.645430837708069, 1.6820241178727768, 3.121332070444496, 1.8767871494590647, 2.524122992592108, 5.5783282777268495, 2.093406381947164, 3.1827351443859855, 3.7929556244438873, 2.016478552443048, 2.9767263340450016, 1.9793903041233596, 3.023443546580683, 3.1089463419132493, 2.462048041895219, 3.0063922382436745, 5.982620143655887, 1.235617502434423, 2.7276506778218703, 1.7316689402922154, 1.332352962664006, 2.1226586777604037, 3.110810786446657, 1.6420793968307927, 3.7540738172801316, 2.651797475110294, 2.3937020019745723, 3.461835387513945, 3.554372252592438, 3.9943046723663382, 3.453933217205502, 2.8665716117031512, 2.9578487258846544, 2.711191454650557, 2.532447706422553, 2.4695555266144567, 14.763803532998221, 14.776347810028234, 10.627090711619458, 2.345697796893018, 6.265595622127351, 4.9842832043343455, 4.72052672922419, 3.357926462481081, 4.098475348797986, 1.618740092888698, 1.241436234014367, 5.634184390747999, 1.1833098132911801, 2.550263129118365, 1.2547975536068547, 4.636711596604785, 1.1779554284599096, 1.5929053074087793, 2.272773475176231, 1.1410677163085905, 2.3413969032235613, 1.719005502826744, 1.9939725715077141, 1.2052311167246634, 2.091226621714134, 2.521698594087466, 1.6703340676452456, 2.123283524287599, 1.1995981513264016, 2.995761839406005, 1.6857232397937723, 3.1979317034987726, 2.6031921825510604, 2.3304393114293247, 2.3801715451424506, 1.8022594430588585, 2.1657599623838637, 2.2961508606860974, 1.6677483417122467, 2.4637010206655616, 2.1008515259527014, 1.585477225762801, 1.9219960468903923, 1.2957251517926998, 2.0557537718016645, 1.6280103748795913, 1.2375106118427806, 2.152622009533375, 1.2156014190718878, 1.0262864596000163, 1.1994192166615767, 1.1878425706575189, 2.244718900772255, 0.9730599099215907, 0.83174366736129, 1.5651382740652413, 1.549945109026361, 1.2811957223987576, 1.2636551413427777, 0.9897549001698154, 1.0756371197666905, 1.823658088340057, 2.3177603303486145, 0.9107875011180285, 3.524572450769083, 2.3371191677877174, 1.6001906863264423, 0.8767139355199387, 1.7569881835097179, 2.0536562991765552, 2.476001913313841, 1.9682488915192453, 1.9802943613810167, 2.103555256119104, 1.6756998077210001, 1.6120541356181934, 1.6317514832475903, 1.7466829137920377, 1.7025993134906907, 1.522851561764516, 1.4000691189557422, 1.6054463728046466, 1.459687658004851, 1.6773466564661734, 2.008488439498097, 2.7900811457401304, 1.539738133097806, 1.3410149254822175, 2.151039128268575, 0.7644492442465584, 1.0316827734299072, 1.4059529024877702, 1.5135909746359173, 1.2803675599315043, 1.5291944745111483, 4.354175593096137, 0.9498157202984229, 0.9565445804733023, 1.1446244187283918, 1.954828590678304, 0.9078107877005501, 1.531471834075803, 1.8054225636343155, 0.9993905104177283, 1.2021132012690066, 0.9037999498206961, 0.7918730529736716, 0.6782580677255465, 2.0655753962250616, 1.2094230903518173, 2.676631236834161, 0.8968626615669771, 1.1320209210506005, 1.3735396879860358, 2.384179075562943, 1.734060630649551, 2.0674614973795697, 2.2145160263413652, 1.7320484370626428, 1.7515187279825897, 1.4288752847077966, 1.589215369159956, 1.758238752177815, 1.8385054341412623, 1.4147889299276555, 1.2573316823282785, 1.241776029446736, 2.4341414981434357, 4.194942620542906, 1.865073728490969, 1.578691434656382, 1.9926106330491316, 2.2050505595955525, 1.5082996254359489, 1.1197001504353241, 0.9494859729663946, 0.9386987059982768, 3.577682342977967, 1.7894270306910962, 1.760801374252991, 0.6858797939749867, 1.2007946077034988, 0.8430756302398537, 3.8149499835206004, 2.7363512552179574, 1.1553227025501107, 1.327582224972409, 1.453755284000037, 0.94837513508698, 0.5302644881326016, 0.6019812109114571, 0.8054041348403375, 1.237567751481776, 0.6605723511287089, 0.7829977242761575, 0.6466841410181483, 1.4224064706183797, 1.9818477750767651, 1.1382204199470463, 1.6214938113027655, 1.6933327390858157, 2.016096859644165, 1.0785343025791756, 1.6200738213266377, 1.4675333327024351, 1.073027428504331, 1.376872903278074, 1.0431040077622298, 4.5110123575182355, 2.352588339315102, 3.6488637566624904, 2.3144524168723666, 1.770867834197746, 1.8910218917538948, 1.8282246094514474, 3.6624529686954537, 4.0253546928995485, 2.0759826586532983, 2.3183293603128066, 3.8744761804534855, 1.4909736721986815, 1.0343102299156661, 1.3982903486709077, 1.6225258937894416, 0.7492231392017876, 3.2695864023062415, 0.7225251911603673, 0.7653075678698225, 0.8085136187201807, 0.8667769687626528, 1.3740751346550992, 0.7278957203061611, 0.9994728817915368, 0.688126464197737, 0.8059455596821524, 1.3892387105620858, 0.7542010466743141, 1.4258429257299023, 1.3843311161759435, 1.048041898031949, 1.7010899780445228, 1.4441365550970375, 1.418981449683675, 1.431555948630441, 1.2679970889376888, 1.3248168708365842, 1.3895868314903628, 1.0772659246158593, 1.069237068224311, 10.898562191569486, 2.7533377729089645, 7.739201218068018, 2.537360500012854, 2.8949772899281423, 4.135743894372975, 2.9300072563078388, 0.738080099644484, 1.0335288544968353, 2.7457821608552804, 0.6455652337907279, 1.1697170489582975, 0.7132208113935637, 0.705719813676073, 2.1639482629879905, 0.8121667706510457, 0.5918202544559477, 0.6910175266598683, 0.3738142994694363, 0.638170633613852, 1.1999477536046812, 1.2403134579290698, 1.3649393631841908, 0.8092976196180366, 0.6716259488126006, 0.47377256426039815, 0.4286472568049682, 1.2484575603263515, 0.60738360233228, 0.39252025910449984, 1.1028633592500936, 1.1053982279292596, 0.8852630064405034, 0.8247915066452259, 0.9485392749148612, 0.8130714385178182, 0.7591049561111232, 0.7004567157290654, 1.0401894207183084, 0.371295364425536, 0.2915702634857979, 0.8650408257995791, 0.36319798680426035, 0.3205819564746974, 0.8458034028980956, 1.2864594528177795, 0.33691937007905404, 0.6395159673585828, 0.4828880186284813, 0.2928454607759724, 0.27801389292373935, 0.34082470937688697, 0.27071745812457915, 0.39137980414785234, 0.3498151330834735, 0.335969845123758, 0.2854761544823129, 0.2780138933209657, 0.34006564492631314, 0.35361174954820035, 0.21243934156958102, 0.4865207881645466, 0.41768000006905004, 0.467555293875596, 0.16284295500225765, 0.2972807585270021, 0.2829094228233943, 0.3653872486107011, 0.362901860654893, 0.461405668406837, 0.5053119503250192, 0.43697560002669067, 0.3972428476741114, 0.39538073955970476, 0.36769295110260003, 0.3807461497661804, 0.31817377022950377, 0.3193223788041908], \"loglift\": [30.0, 29.0, 28.0, 27.0, 26.0, 25.0, 24.0, 23.0, 22.0, 21.0, 20.0, 19.0, 18.0, 17.0, 16.0, 15.0, 14.0, 13.0, 12.0, 11.0, 10.0, 9.0, 8.0, 7.0, 6.0, 5.0, 4.0, 3.0, 2.0, 1.0, 1.6072, 1.5483, 1.1723, 1.1383, 1.1254, 1.124, 1.0993, 1.0687, 1.0094, 0.9937, 0.9896, 0.9708, 0.8973, 0.8429, 0.8191, 0.7852, 0.7821, 0.7813, 0.78, 0.725, 0.7081, 0.6946, 0.6783, 0.67, 0.6553, 0.6465, 0.6402, 0.623, 0.6196, 0.5473, 0.5363, 0.4787, 0.4953, 0.4601, 0.2154, 0.199, 0.091, 0.111, 0.0329, 0.3496, -0.1059, 0.2641, -0.334, 1.5095, 1.2659, 1.2397, 1.1939, 1.0522, 1.0474, 1.044, 1.0303, 1.0295, 1.0027, 0.9832, 0.9496, 0.9492, 0.9329, 0.9153, 0.9093, 0.8938, 0.8662, 0.8566, 0.8565, 0.8325, 0.8141, 0.8132, 0.8131, 0.8018, 0.7609, 0.7176, 0.6709, 0.646, 0.6306, 0.5993, 0.5642, 0.5295, 0.4398, 0.433, 0.4243, 0.4114, 0.323, 0.0486, 0.1731, 0.0988, 0.1622, 0.3414, 0.0085, 0.0606, -0.1586, 1.4032, 1.3901, 1.3665, 1.1583, 1.1556, 1.1397, 1.1369, 1.1067, 1.0501, 0.995, 0.9319, 0.9184, 0.8757, 0.8631, 0.8463, 0.8406, 0.8334, 0.7812, 0.7756, 0.7718, 0.7577, 0.7199, 0.7155, 0.7094, 0.6844, 0.6345, 0.6327, 0.5904, 0.5748, 0.562, 0.5552, 0.5326, 0.5156, 0.5236, 0.5498, 0.4542, 0.5384, 0.2693, 0.1517, 0.0019, 0.0519, -0.1709, 0.2613, -0.149, 1.5441, 1.3626, 1.2644, 1.1821, 1.1769, 1.1399, 1.1324, 1.0911, 1.0202, 0.9921, 0.9897, 0.989, 0.9837, 0.9603, 0.9373, 0.9302, 0.9263, 0.9244, 0.9213, 0.8956, 0.8546, 0.8459, 0.8272, 0.8153, 0.8059, 0.8029, 0.7685, 0.7617, 0.7431, 0.7427, 0.7119, 0.6732, 0.6738, 0.6487, 0.3339, 0.4748, 0.4473, 0.5251, 0.2893, 0.3619, 0.1793, 0.3217, 0.2744, 1.6245, 1.5223, 1.5163, 1.4606, 1.3892, 1.3351, 1.3111, 1.2728, 1.2369, 1.116, 1.1095, 1.0949, 1.047, 1.0309, 1.0309, 1.0213, 0.9918, 0.9499, 0.9201, 0.8699, 0.8615, 0.8324, 0.8288, 0.8244, 0.8191, 0.7855, 0.782, 0.7379, 0.7241, 0.7204, 0.5182, 0.3328, 0.3257, 0.1895, 0.1867, -0.1228, 0.195, 0.1443, 0.0677, 0.0239, 1.8145, 1.4719, 1.3615, 1.36, 1.3062, 1.2657, 1.1381, 1.1273, 1.0995, 1.0465, 1.0019, 0.9941, 0.9731, 0.9715, 0.9465, 0.9297, 0.9047, 0.8672, 0.7725, 0.7718, 0.766, 0.7335, 0.729, 0.697, 0.6745, 0.6541, 0.6071, 0.6071, 0.5681, 0.5509, 0.5344, 0.475, 0.3565, 0.4226, 0.4173, 0.3768, 0.2924, 0.2476, 0.1699, 0.0195, 0.2752, 0.3266, 2.2469, 1.8974, 1.8321, 1.6605, 1.6223, 1.5075, 1.5061, 1.4301, 1.3273, 1.2776, 1.2097, 1.1269, 1.1119, 1.0476, 1.0253, 1.019, 0.9413, 0.931, 0.8928, 0.8663, 0.8417, 0.8306, 0.8155, 0.7969, 0.7613, 0.7553, 0.7539, 0.7113, 0.6851, 0.6768, 0.5912, 0.5109, 0.5148, 0.3368, 0.3697, 0.5069, -0.0975, 0.194, 1.7091, 1.6377, 1.3885, 1.3172, 1.2828, 1.232, 1.2124, 1.206, 1.2041, 1.1769, 1.1399, 1.1318, 1.1164, 1.0797, 1.0765, 1.0044, 0.9876, 0.9573, 0.9225, 0.8768, 0.864, 0.8542, 0.8236, 0.8214, 0.8081, 0.7715, 0.7314, 0.7096, 0.6705, 0.6662, 0.6246, 0.5506, 0.5509, 0.5033, 0.5498, 0.5071, 0.4771, 0.46, 0.2334, 0.485, 0.1143, 0.509, 0.2747, -0.1772, 2.0533, 1.9807, 1.7504, 1.6473, 1.592, 1.5015, 1.2268, 1.1552, 1.0915, 1.0301, 1.0139, 0.9816, 0.902, 0.8971, 0.8948, 0.867, 0.858, 0.8459, 0.8409, 0.8181, 0.7848, 0.7756, 0.7588, 0.7408, 0.7015, 0.6491, 0.6422, 0.5935, 0.5726, 0.5524, 0.5309, 0.518, 0.4119, 0.4198, 0.2487, 0.4628, 0.2792, 0.0168, 1.7437, 1.436, 1.421, 1.2715, 1.1855, 1.1545, 1.1368, 1.0531, 1.0526, 1.0299, 1.0289, 1.0265, 1.005, 0.9719, 0.8679, 0.8482, 0.7473, 0.7337, 0.7312, 0.7278, 0.7246, 0.6856, 0.6668, 0.6616, 0.6317, 0.6073, 0.5982, 0.5924, 0.5609, 0.5515, 0.5187, 0.4476, 0.4027, 0.3883, 0.2505, 0.188, 0.2165, 0.0473, 0.1113, 0.0327, 1.5721, 1.5224, 1.3993, 1.3299, 1.3078, 1.2385, 1.1882, 1.1303, 1.0711, 1.0542, 1.0286, 0.9985, 0.9645, 0.9595, 0.9213, 0.8902, 0.8579, 0.8402, 0.8233, 0.8223, 0.8175, 0.7906, 0.7845, 0.7841, 0.7803, 0.7652, 0.7639, 0.7343, 0.7304, 0.7126, 0.6996, 0.6834, 0.6294, 0.6795, 0.4994, 0.5046, 0.6503, 0.4639, 0.5911, 0.4151, 0.2515, 0.284, 0.2195, -0.0157, 0.1534, 1.6618, 1.3347, 1.2833, 1.2488, 1.2259, 1.1965, 1.193, 1.1683, 1.151, 1.1326, 1.0752, 1.0267, 0.9952, 0.9901, 0.9852, 0.9601, 0.9345, 0.9305, 0.9209, 0.9047, 0.9032, 0.8905, 0.8695, 0.8384, 0.8341, 0.7485, 0.7241, 0.7155, 0.6986, 0.6763, 0.6568, 0.6371, 0.3057, 0.3885, 0.3013, 0.3368, 0.4214, 0.2973, 0.3766, 0.2757, 0.5361, 2.0001, 1.9686, 1.3648, 1.3266, 1.2849, 1.2583, 1.2272, 1.2226, 1.1868, 1.1274, 1.1194, 1.0886, 1.0491, 1.0137, 1.0028, 0.9402, 0.9104, 0.8672, 0.8646, 0.8559, 0.8297, 0.8276, 0.7822, 0.7667, 0.738, 0.7373, 0.7354, 0.7249, 0.6875, 0.6737, 0.6239, 0.6301, 0.6388, 0.4588, 0.4237, 0.2127, 0.3315, 0.4394, -0.0059, 0.1724, 0.3638, 0.2261, 2.1076, 1.9268, 1.8475, 1.7956, 1.5206, 1.4389, 1.3824, 1.3592, 1.2825, 1.1748, 1.0852, 1.0803, 1.075, 1.0369, 1.0225, 0.9877, 0.9634, 0.8942, 0.881, 0.8459, 0.8071, 0.807, 0.7513, 0.7411, 0.7405, 0.7179, 0.6864, 0.6847, 0.6614, 0.6597, 0.6393, 0.5482, 0.5254, 0.3706, 0.2455, 0.4866, 0.1688, 0.0424, -0.0426, 1.7324, 1.4863, 1.4141, 1.3582, 1.2817, 1.1948, 1.1245, 1.111, 1.1084, 1.0301, 1.0213, 0.9134, 0.9114, 0.9066, 0.9028, 0.8914, 0.8759, 0.851, 0.8027, 0.7793, 0.7492, 0.697, 0.6657, 0.6553, 0.6206, 0.608, 0.5919, 0.5828, 0.5666, 0.5531, 0.5242, 0.5085, 0.4935, 0.4778, 0.4471, 0.5236, 0.4326, 0.344, 0.2086, 0.0596, 0.242, 0.4894, -0.0965, 0.1335, 1.6474, 1.6314, 1.4214, 1.3927, 1.2703, 1.2688, 1.2632, 1.2619, 1.2579, 1.229, 1.2266, 1.2095, 1.2049, 1.1374, 1.1267, 1.1225, 1.102, 1.0965, 1.0934, 1.0738, 1.0384, 0.9946, 0.9537, 0.9168, 0.9114, 0.9102, 0.9048, 0.9, 0.8949, 0.8906, 0.8663, 0.8226, 0.8183, 0.5972, 0.5062, 0.6118, 0.5751, 0.7288, 0.5319, 0.3861, 0.1772, 0.0944, 0.3557, 0.426, 1.8906, 1.7845, 1.5941, 1.5878, 1.5612, 1.5197, 1.411, 1.4046, 1.3853, 1.3233, 1.3205, 1.3199, 1.2731, 1.2376, 1.225, 1.1364, 1.1329, 1.1093, 1.0986, 1.0809, 0.9885, 0.928, 0.9255, 0.9219, 0.8924, 0.8655, 0.8624, 0.8549, 0.8542, 0.8415, 0.8285, 0.8159, 0.7773, 0.7362, 0.6355, 0.763, 0.4362, 0.3624, 0.7132, 0.204, 0.6236, 2.3807, 2.1607, 1.9619, 1.8553, 1.7021, 1.6961, 1.6806, 1.5816, 1.4828, 1.432, 1.4061, 1.338, 1.2898, 1.2638, 1.1876, 1.1827, 1.1558, 1.1534, 1.1419, 1.1301, 1.1236, 1.105, 1.0849, 1.0841, 1.0801, 1.0785, 1.0382, 0.9867, 0.9646, 0.9394, 0.7974, 0.8575, 0.4616, 0.49, 0.4994, 0.3082, 0.397, 0.1806, -0.0048, 0.564, 0.5925, 2.6823, 2.3078, 2.2212, 2.177, 1.9422, 1.6457, 1.6075, 1.487, 1.4352, 1.1902, 1.1527, 1.1009, 1.0358, 0.8819, 0.8534, 0.7404, 0.7072, 0.6723, 0.6593, 0.6408, 0.5961, 0.5876, 0.5823, 0.572, 0.5113, 0.4433, 0.4279, 0.4211, 0.3358, 0.2566, 0.2256, 0.1954, 0.21, 0.0511, -0.1369, -0.0374, 0.0295, 0.1667, 1.9134, 1.7115, 1.6172, 1.489, 1.3411, 1.3041, 1.2739, 1.2268, 1.2067, 1.1988, 1.1654, 1.1425, 1.1034, 1.0969, 0.944, 0.9306, 0.9003, 0.8759, 0.801, 0.7957, 0.7844, 0.7647, 0.729, 0.7225, 0.7087, 0.671, 0.64, 0.6253, 0.6191, 0.6093, 0.6042, 0.5791, 0.5255, 0.5362, 0.5011, 0.3644, 0.4576, 0.3645, 0.4906, 0.3312], \"Term\": [\"monitor\", \"sensor\", \"marine\", \"close\", \"water\", \"oil\", \"help\", \"content\", \"career\", \"solar\", \"light\", \"learn\", \"tool\", \"control\", \"member\", \"equipment\", \"network\", \"read\", \"event\", \"level\", \"group\", \"wind\", \"select\", \"range\", \"supply\", \"centre\", \"view\", \"industrial\", \"monitoring\", \"website\", \"wind\", \"test\", \"benefit\", \"smart\", \"water\", \"important\", \"manage\", \"condition\", \"check\", \"datum\", \"monitor\", \"approach\", \"significant\", \"increase\", \"monitoring\", \"performance\", \"enable\", \"improve\", \"production\", \"key\", \"advanced\", \"report\", \"provider\", \"visit\", \"expert\", \"open\", \"welcome\", \"position\", \"possible\", \"building\", \"group\", \"sensor\", \"base\", \"lead\", \"good\", \"site\", \"read\", \"equipment\", \"website\", \"look\", \"control\", \"develop\", \"learn\", \"learn\", \"type\", \"platform\", \"price\", \"model\", \"unit\", \"advanced\", \"reliable\", \"deliver\", \"component\", \"represent\", \"line\", \"generate\", \"construction\", \"want\", \"result\", \"feature\", \"facility\", \"individual\", \"flexible\", \"complete\", \"requirement\", \"change\", \"current\", \"operate\", \"instal\", \"heat\", \"available\", \"year\", \"efficient\", \"develop\", \"production\", \"need\", \"sensor\", \"development\", \"world\", \"base\", \"build\", \"help\", \"tool\", \"control\", \"performance\", \"team\", \"range\", \"installation\", \"marine\", \"guide\", \"report\", \"tool\", \"follow\", \"email\", \"member\", \"group\", \"achieve\", \"page\", \"receive\", \"training\", \"government\", \"software\", \"professional\", \"video\", \"build\", \"apply\", \"centre\", \"grow\", \"award\", \"social\", \"worldwide\", \"digital\", \"add\", \"good\", \"close\", \"study\", \"reference\", \"time\", \"allow\", \"network\", \"available\", \"range\", \"sector\", \"material\", \"team\", \"benefit\", \"event\", \"datum\", \"read\", \"year\", \"help\", \"resource\", \"wind\", \"come\", \"electricity\", \"great\", \"solar\", \"like\", \"office\", \"carry\", \"right\", \"sell\", \"price\", \"today\", \"install\", \"value\", \"instal\", \"day\", \"know\", \"happy\", \"generate\", \"demand\", \"large\", \"green\", \"update\", \"base\", \"centre\", \"experience\", \"free\", \"create\", \"efficient\", \"worldwide\", \"late\", \"reduce\", \"installation\", \"high\", \"commercial\", \"help\", \"world\", \"future\", \"team\", \"good\", \"website\", \"year\", \"global\", \"innovation\", \"history\", \"innovation\", \"future\", \"distributor\", \"marine\", \"downloads\", \"medium\", \"safety\", \"software\", \"supplier\", \"engineer\", \"training\", \"engineering\", \"oil\", \"career\", \"environment\", \"resource\", \"global\", \"event\", \"commercial\", \"sustainability\", \"innovative\", \"happy\", \"video\", \"construction\", \"focus\", \"policy\", \"award\", \"process\", \"line\", \"manufacture\", \"world\", \"standard\", \"development\", \"industrial\", \"help\", \"search\", \"equipment\", \"datum\", \"range\", \"electrical\", \"member\", \"day\", \"register\", \"read\", \"solar\", \"installation\", \"free\", \"job\", \"building\", \"view\", \"main\", \"select\", \"carry\", \"reliable\", \"provider\", \"search\", \"come\", \"time\", \"close\", \"choose\", \"government\", \"grid\", \"benefit\", \"start\", \"right\", \"local\", \"problem\", \"copyright\", \"year\", \"control\", \"equipment\", \"help\", \"need\", \"lead\", \"standard\", \"tool\", \"industrial\", \"engineer\", \"range\", \"team\", \"sector\", \"light\", \"content\", \"link\", \"security\", \"term\", \"possible\", \"access\", \"low\", \"sell\", \"include\", \"range\", \"way\", \"copyright\", \"check\", \"site\", \"website\", \"high\", \"heat\", \"material\", \"continue\", \"line\", \"professional\", \"order\", \"save\", \"international\", \"quick\", \"good\", \"lead\", \"mean\", \"sale\", \"supply\", \"datum\", \"need\", \"tool\", \"industrial\", \"choose\", \"help\", \"time\", \"europe\", \"career\", \"standard\", \"employee\", \"resource\", \"worldwide\", \"requirement\", \"problem\", \"search\", \"represent\", \"building\", \"award\", \"country\", \"history\", \"professional\", \"bring\", \"office\", \"specialist\", \"event\", \"consumer\", \"feature\", \"study\", \"innovative\", \"key\", \"number\", \"add\", \"access\", \"international\", \"environment\", \"development\", \"help\", \"production\", \"build\", \"good\", \"global\", \"website\", \"industrial\", \"engineer\", \"wind\", \"member\", \"read\", \"develop\", \"future\", \"learn\", \"level\", \"select\", \"sensor\", \"independent\", \"digital\", \"brochure\", \"specialist\", \"open\", \"industrial\", \"expert\", \"control\", \"manufacture\", \"advanced\", \"type\", \"reference\", \"process\", \"key\", \"need\", \"smart\", \"late\", \"efficient\", \"large\", \"report\", \"production\", \"set\", \"integrate\", \"development\", \"read\", \"component\", \"represent\", \"technical\", \"operation\", \"help\", \"equipment\", \"site\", \"view\", \"lead\", \"close\", \"download\", \"group\", \"software\", \"control\", \"water\", \"operate\", \"late\", \"check\", \"protection\", \"distributor\", \"plan\", \"reduce\", \"drive\", \"award\", \"country\", \"enable\", \"study\", \"grid\", \"solar\", \"add\", \"facility\", \"know\", \"start\", \"downloads\", \"learn\", \"resource\", \"large\", \"world\", \"light\", \"member\", \"search\", \"website\", \"performance\", \"available\", \"good\", \"year\", \"tool\", \"read\", \"development\", \"range\", \"electricity\", \"page\", \"model\", \"feature\", \"demand\", \"sector\", \"grow\", \"drive\", \"content\", \"open\", \"achieve\", \"carry\", \"online\", \"plan\", \"brochure\", \"electrical\", \"area\", \"development\", \"government\", \"study\", \"line\", \"register\", \"cost\", \"local\", \"medium\", \"environmental\", \"high\", \"increase\", \"require\", \"follow\", \"network\", \"oil\", \"include\", \"start\", \"global\", \"future\", \"copyright\", \"time\", \"guide\", \"available\", \"website\", \"build\", \"engineer\", \"site\", \"standard\", \"sustainable\", \"material\", \"consumer\", \"easy\", \"reference\", \"specialist\", \"commercial\", \"download\", \"client\", \"grid\", \"significant\", \"opportunity\", \"learn\", \"solar\", \"available\", \"welcome\", \"downloads\", \"source\", \"time\", \"build\", \"performance\", \"result\", \"world\", \"brochure\", \"save\", \"smart\", \"focus\", \"term\", \"component\", \"benefit\", \"need\", \"copyright\", \"year\", \"event\", \"site\", \"installation\", \"supply\", \"search\", \"team\", \"innovation\", \"choose\", \"oil\", \"view\", \"grow\", \"global\", \"location\", \"sustainability\", \"safety\", \"protection\", \"area\", \"brochure\", \"click\", \"innovation\", \"opportunity\", \"green\", \"guide\", \"way\", \"engineering\", \"office\", \"welcome\", \"visit\", \"drive\", \"network\", \"marine\", \"exist\", \"software\", \"policy\", \"main\", \"video\", \"sector\", \"medium\", \"future\", \"environment\", \"high\", \"performance\", \"datum\", \"help\", \"control\", \"include\", \"learn\", \"close\", \"process\", \"standard\", \"close\", \"marine\", \"equipment\", \"protection\", \"supply\", \"training\", \"type\", \"platform\", \"operation\", \"position\", \"stand\", \"range\", \"important\", \"integrate\", \"exist\", \"installation\", \"meet\", \"policy\", \"engineering\", \"receive\", \"award\", \"approach\", \"model\", \"sell\", \"operate\", \"sector\", \"supplier\", \"safety\", \"construction\", \"standard\", \"plan\", \"tool\", \"lead\", \"engineer\", \"water\", \"select\", \"datum\", \"read\", \"monitor\", \"opportunity\", \"facility\", \"independent\", \"office\", \"study\", \"location\", \"grid\", \"bring\", \"client\", \"update\", \"continue\", \"country\", \"open\", \"large\", \"current\", \"exist\", \"platform\", \"register\", \"complete\", \"approach\", \"construction\", \"allow\", \"develop\", \"event\", \"click\", \"help\", \"website\", \"training\", \"unit\", \"resource\", \"engineer\", \"year\", \"world\", \"global\", \"development\", \"career\", \"process\", \"available\", \"site\", \"solar\", \"future\", \"digital\", \"learn\", \"production\", \"requirement\", \"click\", \"environment\", \"apply\", \"page\", \"operate\", \"provider\", \"flexible\", \"link\", \"low\", \"construction\", \"value\", \"marine\", \"main\", \"mean\", \"result\", \"safety\", \"position\", \"instal\", \"experience\", \"job\", \"manage\", \"update\", \"current\", \"meet\", \"oil\", \"professional\", \"close\", \"like\", \"day\", \"reduce\", \"installation\", \"content\", \"site\", \"read\", \"standard\", \"global\", \"operation\", \"lead\", \"year\", \"help\", \"solar\", \"include\", \"resource\", \"unit\", \"content\", \"possible\", \"online\", \"area\", \"start\", \"link\", \"term\", \"add\", \"problem\", \"website\", \"require\", \"material\", \"provider\", \"distributor\", \"line\", \"read\", \"time\", \"access\", \"professional\", \"environmental\", \"source\", \"worldwide\", \"quick\", \"check\", \"international\", \"happy\", \"condition\", \"simple\", \"commercial\", \"need\", \"number\", \"team\", \"include\", \"range\", \"component\", \"site\", \"datum\", \"sale\", \"good\", \"welcome\", \"centre\", \"simple\", \"international\", \"unit\", \"free\", \"apply\", \"way\", \"supply\", \"industrial\", \"technical\", \"network\", \"tool\", \"know\", \"history\", \"right\", \"integrate\", \"quick\", \"site\", \"stand\", \"meet\", \"brochure\", \"current\", \"drive\", \"problem\", \"sustainability\", \"add\", \"easy\", \"engineering\", \"order\", \"manufacture\", \"test\", \"video\", \"control\", \"engineer\", \"search\", \"range\", \"need\", \"good\", \"help\", \"view\", \"choose\", \"monitor\", \"monitoring\", \"sensor\", \"source\", \"environmental\", \"water\", \"oil\", \"protection\", \"sell\", \"control\", \"study\", \"green\", \"check\", \"innovative\", \"marine\", \"integrate\", \"download\", \"location\", \"exist\", \"security\", \"group\", \"engineer\", \"development\", \"today\", \"client\", \"save\", \"install\", \"range\", \"manufacture\", \"allow\", \"wind\", \"solar\", \"equipment\", \"datum\", \"help\", \"year\", \"performance\", \"process\", \"network\", \"exist\", \"protection\", \"career\", \"monitoring\", \"achieve\", \"event\", \"help\", \"possible\", \"member\", \"manufacture\", \"facility\", \"page\", \"day\", \"allow\", \"visit\", \"create\", \"engineering\", \"platform\", \"drive\", \"award\", \"select\", \"access\", \"world\", \"process\", \"engineer\", \"online\", \"safety\", \"software\", \"resource\", \"team\", \"monitor\", \"good\", \"performance\", \"build\", \"tool\", \"search\", \"development\", \"level\", \"group\"], \"Category\": [\"Default\", \"Default\", \"Default\", \"Default\", \"Default\", \"Default\", \"Default\", \"Default\", \"Default\", \"Default\", \"Default\", \"Default\", \"Default\", \"Default\", \"Default\", \"Default\", \"Default\", \"Default\", \"Default\", \"Default\", \"Default\", \"Default\", \"Default\", \"Default\", \"Default\", \"Default\", \"Default\", \"Default\", \"Default\", \"Default\", \"Topic1\", \"Topic1\", \"Topic1\", \"Topic1\", \"Topic1\", \"Topic1\", \"Topic1\", \"Topic1\", \"Topic1\", \"Topic1\", \"Topic1\", \"Topic1\", \"Topic1\", \"Topic1\", \"Topic1\", \"Topic1\", \"Topic1\", \"Topic1\", \"Topic1\", \"Topic1\", \"Topic1\", \"Topic1\", \"Topic1\", \"Topic1\", \"Topic1\", \"Topic1\", \"Topic1\", \"Topic1\", \"Topic1\", \"Topic1\", \"Topic1\", \"Topic1\", \"Topic1\", \"Topic1\", \"Topic1\", \"Topic1\", \"Topic1\", \"Topic1\", \"Topic1\", \"Topic1\", \"Topic1\", \"Topic1\", \"Topic1\", \"Topic2\", \"Topic2\", \"Topic2\", \"Topic2\", \"Topic2\", \"Topic2\", \"Topic2\", \"Topic2\", \"Topic2\", \"Topic2\", \"Topic2\", \"Topic2\", \"Topic2\", \"Topic2\", \"Topic2\", \"Topic2\", \"Topic2\", \"Topic2\", \"Topic2\", \"Topic2\", \"Topic2\", \"Topic2\", \"Topic2\", \"Topic2\", \"Topic2\", \"Topic2\", \"Topic2\", \"Topic2\", \"Topic2\", \"Topic2\", \"Topic2\", \"Topic2\", \"Topic2\", \"Topic2\", \"Topic2\", \"Topic2\", \"Topic2\", \"Topic2\", \"Topic2\", \"Topic2\", \"Topic2\", \"Topic2\", \"Topic2\", \"Topic2\", \"Topic2\", \"Topic2\", \"Topic3\", \"Topic3\", \"Topic3\", \"Topic3\", \"Topic3\", \"Topic3\", \"Topic3\", \"Topic3\", \"Topic3\", \"Topic3\", \"Topic3\", \"Topic3\", \"Topic3\", \"Topic3\", \"Topic3\", \"Topic3\", \"Topic3\", \"Topic3\", \"Topic3\", \"Topic3\", \"Topic3\", \"Topic3\", \"Topic3\", \"Topic3\", \"Topic3\", \"Topic3\", \"Topic3\", \"Topic3\", \"Topic3\", \"Topic3\", \"Topic3\", \"Topic3\", \"Topic3\", \"Topic3\", \"Topic3\", \"Topic3\", \"Topic3\", \"Topic3\", \"Topic3\", \"Topic3\", \"Topic3\", \"Topic3\", \"Topic3\", \"Topic3\", \"Topic4\", \"Topic4\", \"Topic4\", \"Topic4\", \"Topic4\", \"Topic4\", \"Topic4\", \"Topic4\", \"Topic4\", \"Topic4\", \"Topic4\", \"Topic4\", \"Topic4\", \"Topic4\", \"Topic4\", \"Topic4\", \"Topic4\", \"Topic4\", \"Topic4\", \"Topic4\", \"Topic4\", \"Topic4\", \"Topic4\", \"Topic4\", \"Topic4\", \"Topic4\", \"Topic4\", \"Topic4\", \"Topic4\", \"Topic4\", \"Topic4\", \"Topic4\", \"Topic4\", \"Topic4\", \"Topic4\", \"Topic4\", \"Topic4\", \"Topic4\", \"Topic4\", \"Topic4\", \"Topic4\", \"Topic4\", \"Topic4\", \"Topic5\", \"Topic5\", \"Topic5\", \"Topic5\", \"Topic5\", \"Topic5\", \"Topic5\", \"Topic5\", \"Topic5\", \"Topic5\", \"Topic5\", \"Topic5\", \"Topic5\", \"Topic5\", \"Topic5\", \"Topic5\", \"Topic5\", \"Topic5\", \"Topic5\", \"Topic5\", \"Topic5\", \"Topic5\", \"Topic5\", \"Topic5\", \"Topic5\", \"Topic5\", \"Topic5\", \"Topic5\", \"Topic5\", \"Topic5\", \"Topic5\", \"Topic5\", \"Topic5\", \"Topic5\", \"Topic5\", \"Topic5\", \"Topic5\", \"Topic5\", \"Topic5\", \"Topic5\", \"Topic6\", \"Topic6\", \"Topic6\", \"Topic6\", \"Topic6\", \"Topic6\", \"Topic6\", \"Topic6\", \"Topic6\", \"Topic6\", \"Topic6\", \"Topic6\", \"Topic6\", \"Topic6\", \"Topic6\", \"Topic6\", \"Topic6\", \"Topic6\", \"Topic6\", \"Topic6\", \"Topic6\", \"Topic6\", \"Topic6\", \"Topic6\", \"Topic6\", \"Topic6\", \"Topic6\", \"Topic6\", \"Topic6\", \"Topic6\", \"Topic6\", \"Topic6\", \"Topic6\", \"Topic6\", \"Topic6\", \"Topic6\", \"Topic6\", \"Topic6\", \"Topic6\", \"Topic6\", \"Topic6\", \"Topic6\", \"Topic7\", \"Topic7\", \"Topic7\", \"Topic7\", \"Topic7\", \"Topic7\", \"Topic7\", \"Topic7\", \"Topic7\", \"Topic7\", \"Topic7\", \"Topic7\", \"Topic7\", \"Topic7\", \"Topic7\", \"Topic7\", \"Topic7\", \"Topic7\", \"Topic7\", \"Topic7\", \"Topic7\", \"Topic7\", \"Topic7\", \"Topic7\", \"Topic7\", \"Topic7\", \"Topic7\", \"Topic7\", \"Topic7\", \"Topic7\", \"Topic7\", \"Topic7\", \"Topic7\", \"Topic7\", \"Topic7\", \"Topic7\", \"Topic7\", \"Topic7\", \"Topic8\", \"Topic8\", \"Topic8\", \"Topic8\", \"Topic8\", \"Topic8\", \"Topic8\", \"Topic8\", \"Topic8\", \"Topic8\", \"Topic8\", \"Topic8\", \"Topic8\", \"Topic8\", \"Topic8\", \"Topic8\", \"Topic8\", \"Topic8\", \"Topic8\", \"Topic8\", \"Topic8\", \"Topic8\", \"Topic8\", \"Topic8\", \"Topic8\", \"Topic8\", \"Topic8\", \"Topic8\", \"Topic8\", \"Topic8\", \"Topic8\", \"Topic8\", \"Topic8\", \"Topic8\", \"Topic8\", \"Topic8\", \"Topic8\", \"Topic8\", \"Topic8\", \"Topic8\", \"Topic8\", \"Topic8\", \"Topic8\", \"Topic8\", \"Topic9\", \"Topic9\", \"Topic9\", \"Topic9\", \"Topic9\", \"Topic9\", \"Topic9\", \"Topic9\", \"Topic9\", \"Topic9\", \"Topic9\", \"Topic9\", \"Topic9\", \"Topic9\", \"Topic9\", \"Topic9\", \"Topic9\", \"Topic9\", \"Topic9\", \"Topic9\", \"Topic9\", \"Topic9\", \"Topic9\", \"Topic9\", \"Topic9\", \"Topic9\", \"Topic9\", \"Topic9\", \"Topic9\", \"Topic9\", \"Topic9\", \"Topic9\", \"Topic9\", \"Topic9\", \"Topic9\", \"Topic9\", \"Topic9\", \"Topic9\", \"Topic10\", \"Topic10\", \"Topic10\", \"Topic10\", \"Topic10\", \"Topic10\", \"Topic10\", \"Topic10\", \"Topic10\", \"Topic10\", \"Topic10\", \"Topic10\", \"Topic10\", \"Topic10\", \"Topic10\", \"Topic10\", \"Topic10\", \"Topic10\", \"Topic10\", \"Topic10\", \"Topic10\", \"Topic10\", \"Topic10\", \"Topic10\", \"Topic10\", \"Topic10\", \"Topic10\", \"Topic10\", \"Topic10\", \"Topic10\", \"Topic10\", \"Topic10\", \"Topic10\", \"Topic10\", \"Topic10\", \"Topic10\", \"Topic10\", \"Topic10\", \"Topic10\", \"Topic10\", \"Topic11\", \"Topic11\", \"Topic11\", \"Topic11\", \"Topic11\", \"Topic11\", \"Topic11\", \"Topic11\", \"Topic11\", \"Topic11\", \"Topic11\", \"Topic11\", \"Topic11\", \"Topic11\", \"Topic11\", \"Topic11\", \"Topic11\", \"Topic11\", \"Topic11\", \"Topic11\", \"Topic11\", \"Topic11\", \"Topic11\", \"Topic11\", \"Topic11\", \"Topic11\", \"Topic11\", \"Topic11\", \"Topic11\", \"Topic11\", \"Topic11\", \"Topic11\", \"Topic11\", \"Topic11\", \"Topic11\", \"Topic11\", \"Topic11\", \"Topic11\", \"Topic11\", \"Topic11\", \"Topic11\", \"Topic11\", \"Topic11\", \"Topic11\", \"Topic11\", \"Topic12\", \"Topic12\", \"Topic12\", \"Topic12\", \"Topic12\", \"Topic12\", \"Topic12\", \"Topic12\", \"Topic12\", \"Topic12\", \"Topic12\", \"Topic12\", \"Topic12\", \"Topic12\", \"Topic12\", \"Topic12\", \"Topic12\", \"Topic12\", \"Topic12\", \"Topic12\", \"Topic12\", \"Topic12\", \"Topic12\", \"Topic12\", \"Topic12\", \"Topic12\", \"Topic12\", \"Topic12\", \"Topic12\", \"Topic12\", \"Topic12\", \"Topic12\", \"Topic12\", \"Topic12\", \"Topic12\", \"Topic12\", \"Topic12\", \"Topic12\", \"Topic12\", \"Topic12\", \"Topic12\", \"Topic13\", \"Topic13\", \"Topic13\", \"Topic13\", \"Topic13\", \"Topic13\", \"Topic13\", \"Topic13\", \"Topic13\", \"Topic13\", \"Topic13\", \"Topic13\", \"Topic13\", \"Topic13\", \"Topic13\", \"Topic13\", \"Topic13\", \"Topic13\", \"Topic13\", \"Topic13\", \"Topic13\", \"Topic13\", \"Topic13\", \"Topic13\", \"Topic13\", \"Topic13\", \"Topic13\", \"Topic13\", \"Topic13\", \"Topic13\", \"Topic13\", \"Topic13\", \"Topic13\", \"Topic13\", \"Topic13\", \"Topic13\", \"Topic13\", \"Topic13\", \"Topic13\", \"Topic13\", \"Topic13\", \"Topic13\", \"Topic14\", \"Topic14\", \"Topic14\", \"Topic14\", \"Topic14\", \"Topic14\", \"Topic14\", \"Topic14\", \"Topic14\", \"Topic14\", \"Topic14\", \"Topic14\", \"Topic14\", \"Topic14\", \"Topic14\", \"Topic14\", \"Topic14\", \"Topic14\", \"Topic14\", \"Topic14\", \"Topic14\", \"Topic14\", \"Topic14\", \"Topic14\", \"Topic14\", \"Topic14\", \"Topic14\", \"Topic14\", \"Topic14\", \"Topic14\", \"Topic14\", \"Topic14\", \"Topic14\", \"Topic14\", \"Topic14\", \"Topic14\", \"Topic14\", \"Topic14\", \"Topic14\", \"Topic15\", \"Topic15\", \"Topic15\", \"Topic15\", \"Topic15\", \"Topic15\", \"Topic15\", \"Topic15\", \"Topic15\", \"Topic15\", \"Topic15\", \"Topic15\", \"Topic15\", \"Topic15\", \"Topic15\", \"Topic15\", \"Topic15\", \"Topic15\", \"Topic15\", \"Topic15\", \"Topic15\", \"Topic15\", \"Topic15\", \"Topic15\", \"Topic15\", \"Topic15\", \"Topic15\", \"Topic15\", \"Topic15\", \"Topic15\", \"Topic15\", \"Topic15\", \"Topic15\", \"Topic15\", \"Topic15\", \"Topic15\", \"Topic15\", \"Topic15\", \"Topic15\", \"Topic15\", \"Topic15\", \"Topic15\", \"Topic15\", \"Topic15\", \"Topic16\", \"Topic16\", \"Topic16\", \"Topic16\", \"Topic16\", \"Topic16\", \"Topic16\", \"Topic16\", \"Topic16\", \"Topic16\", \"Topic16\", \"Topic16\", \"Topic16\", \"Topic16\", \"Topic16\", \"Topic16\", \"Topic16\", \"Topic16\", \"Topic16\", \"Topic16\", \"Topic16\", \"Topic16\", \"Topic16\", \"Topic16\", \"Topic16\", \"Topic16\", \"Topic16\", \"Topic16\", \"Topic16\", \"Topic16\", \"Topic16\", \"Topic16\", \"Topic16\", \"Topic16\", \"Topic16\", \"Topic16\", \"Topic16\", \"Topic16\", \"Topic16\", \"Topic16\", \"Topic16\", \"Topic16\", \"Topic16\", \"Topic16\", \"Topic17\", \"Topic17\", \"Topic17\", \"Topic17\", \"Topic17\", \"Topic17\", \"Topic17\", \"Topic17\", \"Topic17\", \"Topic17\", \"Topic17\", \"Topic17\", \"Topic17\", \"Topic17\", \"Topic17\", \"Topic17\", \"Topic17\", \"Topic17\", \"Topic17\", \"Topic17\", \"Topic17\", \"Topic17\", \"Topic17\", \"Topic17\", \"Topic17\", \"Topic17\", \"Topic17\", \"Topic17\", \"Topic17\", \"Topic17\", \"Topic17\", \"Topic17\", \"Topic17\", \"Topic17\", \"Topic17\", \"Topic17\", \"Topic17\", \"Topic17\", \"Topic17\", \"Topic17\", \"Topic17\", \"Topic18\", \"Topic18\", \"Topic18\", \"Topic18\", \"Topic18\", \"Topic18\", \"Topic18\", \"Topic18\", \"Topic18\", \"Topic18\", \"Topic18\", \"Topic18\", \"Topic18\", \"Topic18\", \"Topic18\", \"Topic18\", \"Topic18\", \"Topic18\", \"Topic18\", \"Topic18\", \"Topic18\", \"Topic18\", \"Topic18\", \"Topic18\", \"Topic18\", \"Topic18\", \"Topic18\", \"Topic18\", \"Topic18\", \"Topic18\", \"Topic18\", \"Topic18\", \"Topic18\", \"Topic18\", \"Topic18\", \"Topic18\", \"Topic18\", \"Topic18\", \"Topic18\", \"Topic18\", \"Topic18\", \"Topic19\", \"Topic19\", \"Topic19\", \"Topic19\", \"Topic19\", \"Topic19\", \"Topic19\", \"Topic19\", \"Topic19\", \"Topic19\", \"Topic19\", \"Topic19\", \"Topic19\", \"Topic19\", \"Topic19\", \"Topic19\", \"Topic19\", \"Topic19\", \"Topic19\", \"Topic19\", \"Topic19\", \"Topic19\", \"Topic19\", \"Topic19\", \"Topic19\", \"Topic19\", \"Topic19\", \"Topic19\", \"Topic19\", \"Topic19\", \"Topic19\", \"Topic19\", \"Topic19\", \"Topic19\", \"Topic19\", \"Topic19\", \"Topic19\", \"Topic19\", \"Topic20\", \"Topic20\", \"Topic20\", \"Topic20\", \"Topic20\", \"Topic20\", \"Topic20\", \"Topic20\", \"Topic20\", \"Topic20\", \"Topic20\", \"Topic20\", \"Topic20\", \"Topic20\", \"Topic20\", \"Topic20\", \"Topic20\", \"Topic20\", \"Topic20\", \"Topic20\", \"Topic20\", \"Topic20\", \"Topic20\", \"Topic20\", \"Topic20\", \"Topic20\", \"Topic20\", \"Topic20\", \"Topic20\", \"Topic20\", \"Topic20\", \"Topic20\", \"Topic20\", \"Topic20\", \"Topic20\", \"Topic20\", \"Topic20\", \"Topic20\", \"Topic20\", \"Topic20\"], \"Total\": [51.0, 57.0, 63.0, 53.0, 55.0, 40.0, 75.0, 37.0, 38.0, 62.0, 38.0, 69.0, 54.0, 57.0, 38.0, 49.0, 30.0, 65.0, 47.0, 38.0, 45.0, 60.0, 32.0, 56.0, 40.0, 22.0, 32.0, 49.0, 18.0, 50.0, 60.76341192625258, 33.536667352845456, 24.724507624568517, 37.44127057022045, 55.07097795246869, 11.944173937963685, 21.680213577244015, 17.641230891309956, 17.477165658263715, 54.10447092300396, 51.46857237877596, 22.683956996250256, 16.738938432276786, 21.83477612673173, 18.909657550859425, 50.88271480543657, 25.44203108675914, 19.18360603126179, 49.98208772809944, 13.402032774033417, 18.900252615651993, 33.827281826680036, 10.539305530543189, 30.718738650353274, 20.216085498799824, 18.684077723688088, 29.61571959181183, 14.786486165541136, 20.06453040648807, 27.58250969012072, 45.640497403266465, 57.96091191156847, 41.81597397329962, 45.524221848103075, 59.473767214474044, 55.48223229436558, 65.0887420131331, 49.540549891230874, 50.600882265862076, 33.22241877347578, 57.657317323321436, 36.67580932718783, 69.18725857083365, 69.18725857083365, 35.03712745853946, 25.50862754179721, 23.62515693909349, 27.82092873163418, 19.467380025989588, 18.900252615651993, 26.165122397419577, 19.298229283942828, 26.639328090199207, 11.645543283389735, 14.333782570589861, 16.12552001476287, 18.310455970396887, 15.05425406147609, 18.16560554147496, 22.655379451317923, 18.59648912047956, 13.199713251236382, 14.242337972650413, 22.466617098619253, 15.748568441648445, 22.98376857341604, 15.437935271083006, 29.492351962796768, 25.022904265490478, 21.376721555883762, 45.27002140114049, 58.27118198222496, 14.850052984988423, 36.67580932718783, 49.98208772809944, 45.84540522197563, 57.96091191156847, 52.63946620770056, 47.020429630396, 41.81597397329962, 47.90920951255493, 75.09116260114435, 54.666211802789746, 57.657317323321436, 50.88271480543657, 39.47817009614127, 56.56719907514764, 51.0709433891229, 63.63611019871338, 32.35747359300856, 33.827281826680036, 54.666211802789746, 18.107376779338768, 16.12330267774916, 38.38676314323066, 45.640497403266465, 17.320559659839052, 18.35878247240262, 14.482384114605075, 34.96277050500574, 13.468226261861943, 30.322973247792934, 23.86091937181241, 23.910061008832972, 47.90920951255493, 18.649825156111515, 22.4362259146245, 13.205133964313754, 30.894354630395824, 13.793372924926771, 11.132083564765777, 33.585778182381716, 12.586058575309716, 59.473767214474044, 53.063816226694215, 14.074084472038798, 20.678921295524077, 47.80227693057636, 20.965394713553913, 30.557479177514576, 45.27002140114049, 56.56719907514764, 36.376302532101846, 26.111980934236787, 39.47817009614127, 24.724507624568517, 47.09848704279529, 54.10447092300396, 65.0887420131331, 58.27118198222496, 75.09116260114435, 39.546852997535865, 60.76341192625258, 21.087570165507604, 22.56708932157754, 19.369448328451725, 62.770578928334956, 17.870853998954694, 19.33820554172121, 18.10945719616134, 22.931814655374254, 16.987384439620165, 23.62515693909349, 31.534131735176846, 19.290127443050935, 22.24630527593111, 25.022904265490478, 22.65420252686799, 22.07601511978761, 14.771958277348258, 16.12552001476287, 23.420436007804707, 35.47714143927309, 26.857602990554955, 16.981332919919094, 41.81597397329962, 22.4362259146245, 30.082084128184697, 17.361355469668283, 28.30097567990678, 14.850052984988423, 11.132083564765777, 26.348978508226708, 28.163762147926196, 51.0709433891229, 29.3853831690744, 32.47753388842126, 75.09116260114435, 47.020429630396, 46.7810744761386, 39.47817009614127, 59.473767214474044, 50.600882265862076, 58.27118198222496, 48.056249926949924, 43.6746062337874, 15.716932752174648, 43.6746062337874, 46.7810744761386, 18.685533852634002, 63.63611019871338, 18.846428280604353, 19.467975087234436, 31.665039442880943, 30.322973247792934, 24.86682337944262, 47.57962975444501, 34.96277050500574, 27.85325687326536, 40.535389341675504, 38.84487033610459, 32.83940018230604, 39.546852997535865, 48.056249926949924, 47.09848704279529, 32.47753388842126, 18.25124542854497, 20.1692981228975, 14.771958277348258, 23.910061008832972, 18.310455970396887, 19.60647025621413, 19.264840469571503, 30.894354630395824, 40.931575581255, 14.333782570589861, 29.970446656283812, 47.020429630396, 45.80666367981546, 52.63946620770056, 49.140598764524384, 75.09116260114435, 46.31364641708438, 49.540549891230874, 54.10447092300396, 56.56719907514764, 31.208646472506175, 38.38676314323066, 22.65420252686799, 25.897909997846288, 65.0887420131331, 62.770578928334956, 51.0709433891229, 17.361355469668283, 17.25297062799792, 27.58250969012072, 32.95988505075163, 14.850123622435124, 32.76426581214056, 18.10945719616134, 26.165122397419577, 10.539305530543189, 46.31364641708438, 21.087570165507604, 47.80227693057636, 53.063816226694215, 31.795702249430846, 13.468226261861943, 20.693069471615104, 24.724507624568517, 25.554920874528847, 22.931814655374254, 24.317307116444134, 13.239328642220412, 28.3486399386994, 58.27118198222496, 57.657317323321436, 49.540549891230874, 75.09116260114435, 45.84540522197563, 45.524221848103075, 45.80666367981546, 54.666211802789746, 49.140598764524384, 47.57962975444501, 56.56719907514764, 39.47817009614127, 36.376302532101846, 38.111760249742886, 37.305627609459606, 19.487113336763876, 23.21150286896147, 14.55906273855112, 20.06453040648807, 20.399400835045245, 21.593991591482634, 16.987384439620165, 42.95730200577363, 56.56719907514764, 18.31311179451201, 28.3486399386994, 17.477165658263715, 55.48223229436558, 50.600882265862076, 29.3853831690744, 21.376721555883762, 26.111980934236787, 14.46276948424655, 14.333782570589861, 23.86091937181241, 15.458457756217502, 20.996073114892745, 27.588147375903556, 12.683774609153751, 59.473767214474044, 45.524221848103075, 15.116915970699532, 27.856237352662404, 40.50463756964758, 54.10447092300396, 45.84540522197563, 54.666211802789746, 49.140598764524384, 31.795702249430846, 75.09116260114435, 47.80227693057636, 18.68841545363456, 38.84487033610459, 45.80666367981546, 12.317193324972404, 39.546852997535865, 11.132083564765777, 15.748568441648445, 13.239328642220412, 46.31364641708438, 11.645543283389735, 27.58250969012072, 30.894354630395824, 18.82932107604571, 15.716932752174648, 23.86091937181241, 15.943400326730673, 19.33820554172121, 28.209667967677426, 47.09848704279529, 19.015942274274096, 22.655379451317923, 14.074084472038798, 20.1692981228975, 13.402032774033417, 26.664059117089202, 12.586058575309716, 20.399400835045245, 27.588147375903556, 32.83940018230604, 52.63946620770056, 75.09116260114435, 49.98208772809944, 47.90920951255493, 59.473767214474044, 48.056249926949924, 50.600882265862076, 49.140598764524384, 47.57962975444501, 60.76341192625258, 38.38676314323066, 65.0887420131331, 36.67580932718783, 46.7810744761386, 69.18725857083365, 38.7791213524149, 32.76426581214056, 57.96091191156847, 15.085565776983648, 33.585778182381716, 14.135013477881724, 28.209667967677426, 18.684077723688088, 49.140598764524384, 20.216085498799824, 57.657317323321436, 29.970446656283812, 18.900252615651993, 35.03712745853946, 20.678921295524077, 40.931575581255, 13.402032774033417, 45.84540522197563, 37.44127057022045, 26.348978508226708, 14.850052984988423, 35.47714143927309, 33.827281826680036, 49.98208772809944, 18.63184499523202, 26.740095212596458, 52.63946620770056, 65.0887420131331, 26.639328090199207, 11.645543283389735, 26.661868840312163, 33.61802831376857, 75.09116260114435, 49.540549891230874, 55.48223229436558, 32.95988505075163, 45.524221848103075, 53.063816226694215, 20.143362573366804, 45.640497403266465, 30.322973247792934, 57.657317323321436, 55.07097795246869, 29.492351962796768, 26.348978508226708, 17.477165658263715, 11.518095118108134, 18.685533852634002, 26.30611950419707, 28.163762147926196, 24.972242960529424, 30.894354630395824, 18.82932107604571, 25.44203108675914, 14.074084472038798, 20.693069471615104, 62.770578928334956, 12.586058575309716, 18.59648912047956, 22.07601511978761, 25.554920874528847, 18.846428280604353, 69.18725857083365, 39.546852997535865, 35.47714143927309, 47.020429630396, 38.111760249742886, 38.38676314323066, 46.31364641708438, 50.600882265862076, 50.88271480543657, 45.27002140114049, 59.473767214474044, 58.27118198222496, 54.666211802789746, 65.0887420131331, 52.63946620770056, 56.56719907514764, 22.56708932157754, 18.35878247240262, 27.82092873163418, 22.655379451317923, 23.420436007804707, 36.376302532101846, 13.205133964313754, 24.972242960529424, 37.305627609459606, 18.684077723688088, 17.320559659839052, 18.10945719616134, 17.091506335029138, 26.30611950419707, 14.135013477881724, 31.208646472506175, 22.15325301033289, 52.63946620770056, 13.468226261861943, 14.074084472038798, 14.333782570589861, 25.897909997846288, 24.557461964512523, 24.317307116444134, 19.467975087234436, 28.656701988367132, 29.3853831690744, 21.83477612673173, 25.324047091116892, 18.107376779338768, 30.557479177514576, 40.535389341675504, 42.95730200577363, 25.554920874528847, 48.056249926949924, 46.7810744761386, 28.3486399386994, 47.80227693057636, 32.35747359300856, 45.27002140114049, 50.600882265862076, 47.90920951255493, 47.57962975444501, 55.48223229436558, 45.80666367981546, 22.76958410317403, 26.111980934236787, 19.015942274274096, 15.347578796691275, 20.678921295524077, 28.209667967677426, 32.47753388842126, 20.143362573366804, 27.80584712773199, 20.693069471615104, 16.738938432276786, 17.051196646606808, 69.18725857083365, 62.770578928334956, 45.27002140114049, 29.61571959181183, 18.846428280604353, 19.860537663489325, 47.80227693057636, 47.90920951255493, 50.88271480543657, 18.16560554147496, 47.020429630396, 14.135013477881724, 20.996073114892745, 37.44127057022045, 19.60647025621413, 14.55906273855112, 26.639328090199207, 24.724507624568517, 45.84540522197563, 28.3486399386994, 58.27118198222496, 47.09848704279529, 55.48223229436558, 51.0709433891229, 40.50463756964758, 46.31364641708438, 39.47817009614127, 43.6746062337874, 31.795702249430846, 40.535389341675504, 32.95988505075163, 13.205133964313754, 48.056249926949924, 24.355810029564775, 18.25124542854497, 31.665039442880943, 11.518095118108134, 22.15325301033289, 14.135013477881724, 19.16231827965877, 43.6746062337874, 17.051196646606808, 26.857602990554955, 32.35747359300856, 18.31311179451201, 27.85325687326536, 19.33820554172121, 29.61571959181183, 30.718738650353274, 24.972242960529424, 30.557479177514576, 63.63611019871338, 13.347590471571795, 30.322973247792934, 19.264840469571503, 14.850123622435124, 23.910061008832972, 36.376302532101846, 19.467975087234436, 46.7810744761386, 32.83940018230604, 29.3853831690744, 50.88271480543657, 54.10447092300396, 75.09116260114435, 57.657317323321436, 42.95730200577363, 69.18725857083365, 53.063816226694215, 40.931575581255, 45.80666367981546, 53.063816226694215, 63.63611019871338, 49.540549891230874, 11.518095118108134, 40.50463756964758, 34.96277050500574, 35.03712745853946, 25.50862754179721, 33.61802831376857, 14.786486165541136, 12.403523380888196, 56.56719907514764, 11.944173937963685, 26.740095212596458, 13.347590471571795, 51.0709433891229, 13.293978880342234, 19.264840469571503, 27.85325687326536, 14.482384114605075, 30.894354630395824, 22.683956996250256, 27.82092873163418, 16.987384439620165, 29.492351962796768, 36.376302532101846, 24.86682337944262, 31.665039442880943, 18.310455970396887, 45.80666367981546, 26.30611950419707, 54.666211802789746, 45.524221848103075, 47.57962975444501, 55.07097795246869, 32.76426581214056, 54.10447092300396, 65.0887420131331, 51.46857237877596, 17.051196646606808, 18.59648912047956, 15.085565776983648, 19.33820554172121, 14.074084472038798, 24.355810029564775, 20.693069471615104, 15.943400326730673, 27.80584712773199, 16.981332919919094, 14.46276948424655, 18.82932107604571, 18.684077723688088, 35.47714143927309, 15.437935271083006, 13.347590471571795, 25.50862754179721, 25.897909997846288, 22.466617098619253, 22.683956996250256, 18.310455970396887, 20.965394713553913, 36.67580932718783, 47.09848704279529, 19.16231827965877, 75.09116260114435, 50.600882265862076, 34.96277050500574, 19.467380025989588, 39.546852997535865, 47.57962975444501, 58.27118198222496, 47.020429630396, 48.056249926949924, 52.63946620770056, 38.84487033610459, 40.931575581255, 45.27002140114049, 55.48223229436558, 62.770578928334956, 46.7810744761386, 33.585778182381716, 69.18725857083365, 49.98208772809944, 15.748568441648445, 19.16231827965877, 32.83940018230604, 18.649825156111515, 18.35878247240262, 29.492351962796768, 10.539305530543189, 14.242337972650413, 19.487113336763876, 21.593991591482634, 18.310455970396887, 22.24630527593111, 63.63611019871338, 14.850123622435124, 15.116915970699532, 18.16560554147496, 31.665039442880943, 14.786486165541136, 25.022904265490478, 30.082084128184697, 17.25297062799792, 21.680213577244015, 16.981332919919094, 15.437935271083006, 13.293978880342234, 40.535389341675504, 23.86091937181241, 53.063816226694215, 17.870853998954694, 22.65420252686799, 28.163762147926196, 51.0709433891229, 37.305627609459606, 55.48223229436558, 65.0887420131331, 45.80666367981546, 48.056249926949924, 33.61802831376857, 45.524221848103075, 58.27118198222496, 75.09116260114435, 62.770578928334956, 42.95730200577363, 39.546852997535865, 19.467380025989588, 37.305627609459606, 20.06453040648807, 17.091506335029138, 22.15325301033289, 25.554920874528847, 19.487113336763876, 14.55906273855112, 12.586058575309716, 13.239328642220412, 50.600882265862076, 25.324047091116892, 26.111980934236787, 10.539305530543189, 18.685533852634002, 14.333782570589861, 65.0887420131331, 47.80227693057636, 20.399400835045245, 23.86091937181241, 28.656701988367132, 19.860537663489325, 11.132083564765777, 12.683774609153751, 17.477165658263715, 27.588147375903556, 14.771958277348258, 17.641230891309956, 14.57951036475667, 32.47753388842126, 45.84540522197563, 26.664059117089202, 39.47817009614127, 42.95730200577363, 56.56719907514764, 26.639328090199207, 55.48223229436558, 54.10447092300396, 27.856237352662404, 59.473767214474044, 29.61571959181183, 22.4362259146245, 14.57951036475667, 27.588147375903556, 19.467380025989588, 17.361355469668283, 18.649825156111515, 18.31311179451201, 40.50463756964758, 49.140598764524384, 26.661868840312163, 30.557479177514576, 54.666211802789746, 22.07601511978761, 15.716932752174648, 22.931814655374254, 26.740095212596458, 12.683774609153751, 55.48223229436558, 12.403523380888196, 13.293978880342234, 14.135013477881724, 15.437935271083006, 24.972242960529424, 13.239328642220412, 18.25124542854497, 12.586058575309716, 15.347578796691275, 27.85325687326536, 15.458457756217502, 29.970446656283812, 33.536667352845456, 23.910061008832972, 57.657317323321436, 47.57962975444501, 46.31364641708438, 56.56719907514764, 45.84540522197563, 59.473767214474044, 75.09116260114435, 32.95988505075163, 31.795702249430846, 51.46857237877596, 18.909657550859425, 57.96091191156847, 19.860537663489325, 28.656701988367132, 55.07097795246869, 40.535389341675504, 11.518095118108134, 16.987384439620165, 57.657317323321436, 14.074084472038798, 26.857602990554955, 17.477165658263715, 20.1692981228975, 63.63611019871338, 26.740095212596458, 20.143362573366804, 24.355810029564775, 13.347590471571795, 23.21150286896147, 45.640497403266465, 47.57962975444501, 52.63946620770056, 31.534131735176846, 27.80584712773199, 20.996073114892745, 19.290127443050935, 56.56719907514764, 29.970446656283812, 20.965394713553913, 60.76341192625258, 62.770578928334956, 49.540549891230874, 54.10447092300396, 75.09116260114435, 58.27118198222496, 50.88271480543657, 40.931575581255, 30.557479177514576, 13.347590471571795, 11.518095118108134, 38.84487033610459, 18.909657550859425, 17.320559659839052, 47.09848704279529, 75.09116260114435, 20.06453040648807, 38.38676314323066, 29.970446656283812, 18.59648912047956, 18.35878247240262, 22.65420252686799, 20.965394713553913, 30.718738650353274, 28.30097567990678, 27.85325687326536, 25.50862754179721, 24.972242960529424, 30.894354630395824, 32.76426581214056, 20.399400835045245, 47.020429630396, 40.931575581255, 47.57962975444501, 17.091506335029138, 31.665039442880943, 30.322973247792934, 39.546852997535865, 39.47817009614127, 51.46857237877596, 59.473767214474044, 50.88271480543657, 47.90920951255493, 54.666211802789746, 46.31364641708438, 52.63946620770056, 38.7791213524149, 45.640497403266465], \"logprob\": [30.0, 29.0, 28.0, 27.0, 26.0, 25.0, 24.0, 23.0, 22.0, 21.0, 20.0, 19.0, 18.0, 17.0, 16.0, 15.0, 14.0, 13.0, 12.0, 11.0, 10.0, 9.0, 8.0, 7.0, 6.0, 5.0, 4.0, 3.0, 2.0, 1.0, -3.0381, -3.6913, -4.3722, -3.9912, -3.6182, -5.148, -4.5765, -4.8133, -4.8819, -3.7677, -3.8217, -4.6598, -5.0372, -4.8258, -4.9935, -4.0376, -4.7337, -5.0169, -4.0606, -5.4319, -5.105, -4.5364, -5.7188, -4.6574, -5.0905, -5.1781, -4.7238, -5.4356, -5.1338, -4.8877, -4.3952, -4.2138, -4.5237, -4.4739, -4.4513, -4.5372, -4.4855, -4.7384, -4.7954, -4.8994, -4.8037, -4.8861, -4.8494, -3.0059, -3.93, -4.2735, -4.3961, -4.3743, -4.7362, -4.7691, -4.4575, -4.7628, -4.4672, -5.3142, -5.14, -5.0227, -4.9119, -5.1253, -4.9434, -4.7381, -4.963, -5.3155, -5.2395, -4.8078, -5.1814, -4.8043, -5.2023, -4.5664, -4.7715, -4.9723, -4.2688, -4.0411, -5.4236, -4.5508, -4.2764, -4.3975, -4.2527, -4.3558, -4.4774, -4.6076, -4.5599, -4.3849, -4.5779, -4.5989, -4.6606, -4.7351, -4.7084, -4.7585, -4.7576, -3.8723, -3.8409, -3.3845, -4.6976, -4.8164, -3.9649, -3.7945, -4.7936, -4.7921, -5.0843, -4.2661, -5.2336, -4.4646, -4.7169, -4.7316, -4.0423, -4.993, -4.8603, -5.3961, -4.5499, -5.3704, -5.6226, -4.5227, -5.5103, -3.9824, -4.1463, -5.4753, -5.1328, -4.3104, -5.1474, -4.7774, -4.407, -4.2012, -4.6348, -4.94, -4.6223, -5.0061, -4.6307, -4.6096, -4.5746, -4.6353, -4.6044, -4.8135, -4.7943, -4.1595, -4.2732, -4.5242, -3.4306, -4.6922, -4.6502, -4.7234, -4.5286, -4.8996, -4.5978, -4.3115, -4.8037, -4.6663, -4.5722, -4.6946, -4.7276, -5.1333, -5.0475, -4.6774, -4.2878, -4.6071, -5.0743, -4.1918, -4.8263, -4.5425, -5.0951, -4.6408, -5.2925, -5.5993, -4.7382, -4.7023, -4.1458, -4.698, -4.623, -4.0997, -4.4269, -4.4595, -4.5514, -4.3775, -4.4664, -4.5078, -4.5581, -4.7011, -4.373, -3.4532, -3.3905, -4.3639, -3.2099, -4.4808, -4.4724, -4.0242, -4.1034, -4.4227, -3.7804, -4.103, -4.3784, -4.0191, -4.0617, -4.2393, -4.083, -3.93, -3.9799, -4.4018, -4.9866, -4.9157, -5.2308, -4.7536, -5.0257, -4.9909, -5.012, -4.5838, -4.3162, -5.3693, -4.8338, -4.5689, -4.6021, -4.5993, -4.6708, -4.5564, -4.7219, -4.7051, -4.6936, -4.6929, -3.497, -3.6326, -4.2704, -4.1381, -3.2703, -3.3471, -3.6809, -4.7707, -4.8048, -4.3886, -4.2551, -5.0602, -4.2898, -4.8844, -4.5413, -5.4675, -4.0121, -4.8364, -4.1127, -4.009, -4.5269, -5.4184, -4.9934, -4.8475, -4.8369, -4.9656, -4.954, -5.562, -4.8396, -4.1362, -4.1633, -4.3744, -4.077, -4.5044, -4.5167, -4.5511, -4.4586, -4.61, -4.72, -4.6973, -4.8014, -4.8317, -2.8648, -3.2357, -3.9504, -3.9471, -4.4517, -4.2459, -4.2306, -4.2498, -4.5925, -3.7145, -3.5072, -4.7178, -4.2957, -4.8438, -3.7109, -3.8093, -4.4305, -4.7589, -4.5971, -5.2144, -5.2479, -4.7494, -5.1986, -4.911, -4.6736, -5.4566, -3.9128, -4.2227, -5.3514, -4.7484, -4.4597, -4.2505, -4.4122, -4.4142, -4.4879, -4.786, -4.5311, -4.6912, -4.1153, -3.455, -3.5393, -4.924, -3.792, -5.1104, -4.7831, -4.9631, -3.7128, -5.1204, -4.2952, -4.1899, -4.7004, -4.9178, -4.5035, -4.9789, -4.8026, -4.4553, -3.9776, -4.9302, -4.7679, -5.2537, -4.9245, -5.3354, -4.6608, -5.4482, -5.0054, -4.7253, -4.5901, -4.1226, -3.809, -4.29, -4.332, -4.1634, -4.3301, -4.3211, -4.3805, -4.4299, -4.4119, -4.6195, -4.4622, -4.6411, -4.6321, -4.6927, -3.0411, -3.2822, -2.9421, -4.3912, -3.6462, -4.6021, -4.1858, -4.6694, -3.7661, -4.7157, -3.6838, -4.3704, -4.9111, -4.2987, -4.8283, -4.1734, -5.2989, -4.0811, -4.2885, -4.6627, -5.2694, -4.4078, -4.4722, -4.0998, -5.1259, -4.817, -4.1466, -3.983, -4.8973, -5.7449, -4.9382, -4.7192, -4.0217, -4.4297, -4.4875, -4.7942, -4.6549, -4.7639, -4.0057, -3.4955, -3.9194, -3.4262, -3.5581, -4.2136, -4.344, -4.8383, -5.2557, -4.7946, -4.4535, -4.3877, -4.5295, -4.3497, -4.949, -4.6677, -5.3606, -4.9888, -3.8816, -5.4918, -5.1047, -4.9722, -4.8447, -5.1544, -3.8837, -4.4675, -4.5852, -4.3093, -4.5508, -4.5531, -4.3982, -4.3807, -4.42, -4.5513, -4.4162, -4.4991, -4.5345, -4.5292, -4.6775, -4.6841, -4.0637, -4.3197, -4.0272, -4.3019, -4.2909, -3.9199, -4.9834, -4.4042, -4.062, -4.7704, -4.8717, -4.8573, -4.9491, -4.523, -5.1823, -4.4213, -4.7964, -3.9486, -5.3286, -5.2856, -5.2721, -4.7075, -4.7668, -4.777, -5.0032, -4.6317, -4.6079, -4.9345, -4.7901, -5.1434, -4.633, -4.3667, -4.3626, -4.832, -4.3805, -4.4022, -4.7574, -4.4213, -4.6843, -4.5246, -4.5768, -4.599, -4.6703, -4.7519, -4.7745, -3.965, -4.1551, -4.5237, -4.7725, -4.4973, -4.2161, -4.0787, -4.581, -4.276, -4.5898, -4.8593, -4.8893, -3.5202, -3.6227, -3.9544, -4.4039, -4.8814, -4.8331, -3.9643, -3.9783, -3.9195, -4.9622, -4.0322, -5.2652, -4.8739, -4.381, -5.0523, -5.3586, -4.7713, -4.8682, -4.2702, -4.7705, -4.3815, -4.5115, -4.4349, -4.4823, -4.6295, -4.6195, -4.6999, -4.6998, -4.7568, -3.05, -3.2883, -4.8069, -3.5533, -4.2746, -4.5897, -4.0699, -5.0858, -4.4675, -4.9762, -4.6799, -3.8869, -4.867, -4.448, -4.2726, -4.9044, -4.515, -4.923, -4.4994, -4.4715, -4.7048, -4.505, -3.8169, -5.3942, -4.6023, -5.0567, -5.3188, -4.8531, -4.4709, -5.1098, -4.2829, -4.6305, -4.7329, -4.364, -4.3376, -4.2209, -4.3663, -4.5527, -4.5213, -4.6084, -4.6766, -4.7017, -2.6732, -2.6723, -3.0019, -4.5128, -3.5303, -3.7591, -3.8134, -4.154, -3.9547, -4.8837, -5.1491, -3.6365, -5.197, -4.4292, -5.1384, -3.8313, -5.2016, -4.8998, -4.5444, -5.2334, -4.5146, -4.8236, -4.6752, -5.1787, -4.6276, -4.4404, -4.8523, -4.6124, -5.1834, -4.2682, -4.8432, -4.2029, -4.4086, -4.5193, -4.4982, -4.7763, -4.5926, -4.5341, -4.8539, -4.1837, -4.343, -4.6244, -4.432, -4.8263, -4.3647, -4.598, -4.8722, -4.3186, -4.8901, -5.0594, -4.9035, -4.9132, -4.2767, -5.1126, -5.2696, -4.6373, -4.6471, -4.8375, -4.8513, -5.0956, -5.0124, -4.4845, -4.2447, -5.1788, -3.8256, -4.2364, -4.6152, -5.2169, -4.5217, -4.3657, -4.1787, -4.4082, -4.4021, -4.3417, -4.5691, -4.6078, -4.5957, -4.5276, -4.5532, -4.6647, -4.7488, -4.6119, -4.7071, -4.3481, -4.1679, -3.8393, -4.4337, -4.5719, -4.0994, -5.1339, -4.8341, -4.5246, -4.4508, -4.6182, -4.4406, -3.3942, -4.9168, -4.9097, -4.7302, -4.195, -4.962, -4.4391, -4.2745, -4.8659, -4.6812, -4.9665, -5.0987, -5.2535, -4.1399, -4.6752, -3.8808, -4.9742, -4.7413, -4.5479, -3.9965, -4.3149, -4.139, -4.0703, -4.316, -4.3048, -4.5084, -4.4021, -4.301, -4.2564, -4.5183, -4.6363, -4.6488, -3.8929, -3.3486, -4.1592, -4.3259, -4.0931, -3.9918, -4.3715, -4.6695, -4.8344, -4.8458, -3.5078, -4.2006, -4.2168, -5.1596, -4.5995, -4.9532, -3.4436, -3.7759, -4.6381, -4.4992, -4.4084, -4.8355, -5.4169, -5.2901, -4.9989, -4.5694, -5.1972, -5.0271, -5.2184, -4.4302, -4.0985, -4.6531, -4.2992, -4.2558, -4.0814, -4.7069, -4.3, -4.3989, -4.712, -4.4627, -4.7403, -3.2609, -3.9119, -3.473, -3.9282, -4.1959, -4.1303, -4.1641, -3.4693, -3.3748, -4.037, -3.9266, -3.413, -4.368, -4.7337, -4.4322, -4.2834, -5.0561, -3.5828, -5.0924, -5.0349, -4.98, -4.9104, -4.4496, -5.085, -4.7679, -5.1412, -4.9832, -4.4387, -5.0495, -4.4127, -4.4422, -4.7205, -4.2361, -4.3999, -4.4175, -4.4087, -4.53, -4.4861, -4.4384, -4.693, -4.7005, -2.129, -3.5048, -2.4713, -3.5865, -3.4546, -3.098, -3.4426, -4.8213, -4.4846, -3.5076, -4.9553, -4.3609, -4.8556, -4.8662, -3.7457, -4.7257, -5.0422, -4.8872, -5.5016, -4.9668, -4.3353, -4.3023, -4.2065, -4.7292, -4.9157, -5.2647, -5.3647, -4.2957, -5.0162, -5.4528, -4.4197, -4.4174, -4.6395, -4.7102, -4.5705, -4.7246, -4.7932, -4.8736, -3.4193, -4.4494, -4.6911, -3.6037, -4.4715, -4.5963, -3.6261, -3.2068, -4.5466, -3.9057, -4.1866, -4.6868, -4.7388, -4.5351, -4.7654, -4.3967, -4.509, -4.5494, -4.7123, -4.7388, -4.5373, -4.4982, -5.0078, -4.1791, -4.3317, -4.2189, -5.2736, -4.6718, -4.7213, -4.4655, -4.4723, -4.2322, -4.1413, -4.2866, -4.3819, -4.3866, -4.4592, -4.4243, -4.6038, -4.6002]}, \"mdsDat\": {\"y\": [-0.04510011393895419, -0.009795215771550028, -0.00046648630085888225, 0.017267036924400625, 0.10147041385792159, 0.0018263591041098692, -0.08036987163079844, 0.0378149203018419, -0.03806366409132129, -0.024845689456190513, 0.03537963314664907, -0.016800970736400307, 0.07639491177985078, 0.05704384998559971, 0.037674010963688644, 0.06452548655029751, -0.07134660841505559, -0.0876967709499457, -0.07361423879414886, 0.018703007470863977], \"topics\": [1, 2, 3, 4, 5, 6, 7, 8, 9, 10, 11, 12, 13, 14, 15, 16, 17, 18, 19, 20], \"Freq\": [12.367826859163795, 8.050436846043608, 7.906590311948977, 7.736745276974916, 7.100924148297275, 6.27439150761433, 5.906785487430916, 5.828290350721818, 5.807376762174807, 5.2108561821671895, 4.918914966139196, 4.9048179364708036, 4.300289168869523, 3.381298505167133, 2.5554463982252176, 2.0507910095320945, 1.887826467569445, 1.859525477903242, 1.4484984471325166, 0.5023678904532088], \"cluster\": [1, 1, 1, 1, 1, 1, 1, 1, 1, 1, 1, 1, 1, 1, 1, 1, 1, 1, 1, 1], \"x\": [-0.05850991624150827, -0.03620759300416644, 0.029946721378118244, 0.005820177691063877, 0.025434817977813814, 0.031037209229671122, 0.08673202836905396, 0.02541652965553793, -0.07122076061504441, -0.02232537257484577, 0.00589656505099125, -0.006361186765588555, 0.00020668169691636065, -0.03259554245641678, -0.017793779024412686, 0.023585103105747553, 0.06819144827102827, 0.10572462346098449, -0.16127076984379032, -0.0017069853611538174]}, \"lambda.step\": 0.01};\n",
       "\n",
       "function LDAvis_load_lib(url, callback){\n",
       "  var s = document.createElement('script');\n",
       "  s.src = url;\n",
       "  s.async = true;\n",
       "  s.onreadystatechange = s.onload = callback;\n",
       "  s.onerror = function(){console.warn(\"failed to load library \" + url);};\n",
       "  document.getElementsByTagName(\"head\")[0].appendChild(s);\n",
       "}\n",
       "\n",
       "if(typeof(LDAvis) !== \"undefined\"){\n",
       "   // already loaded: just create the visualization\n",
       "   !function(LDAvis){\n",
       "       new LDAvis(\"#\" + \"ldavis_el1424415513548803565453513\", ldavis_el1424415513548803565453513_data);\n",
       "   }(LDAvis);\n",
       "}else if(typeof define === \"function\" && define.amd){\n",
       "   // require.js is available: use it to load d3/LDAvis\n",
       "   require.config({paths: {d3: \"https://cdnjs.cloudflare.com/ajax/libs/d3/3.5.5/d3.min\"}});\n",
       "   require([\"d3\"], function(d3){\n",
       "      window.d3 = d3;\n",
       "      LDAvis_load_lib(\"https://cdn.rawgit.com/bmabey/pyLDAvis/files/ldavis.v1.0.0.js\", function(){\n",
       "        new LDAvis(\"#\" + \"ldavis_el1424415513548803565453513\", ldavis_el1424415513548803565453513_data);\n",
       "      });\n",
       "    });\n",
       "}else{\n",
       "    // require.js not available: dynamically load d3 & LDAvis\n",
       "    LDAvis_load_lib(\"https://cdnjs.cloudflare.com/ajax/libs/d3/3.5.5/d3.min.js\", function(){\n",
       "         LDAvis_load_lib(\"https://cdn.rawgit.com/bmabey/pyLDAvis/files/ldavis.v1.0.0.js\", function(){\n",
       "                 new LDAvis(\"#\" + \"ldavis_el1424415513548803565453513\", ldavis_el1424415513548803565453513_data);\n",
       "            })\n",
       "         });\n",
       "}\n",
       "</script>"
      ],
      "text/plain": [
       "<IPython.core.display.HTML object>"
      ]
     },
     "execution_count": 22,
     "metadata": {},
     "output_type": "execute_result"
    }
   ],
   "source": [
    "import pyLDAvis\n",
    "pyLDAvis.display(lda)"
   ]
  },
  {
   "cell_type": "markdown",
   "metadata": {
    "slideshow": {
     "slide_type": "subslide"
    }
   },
   "source": [
    "### Finding entities"
   ]
  },
  {
   "cell_type": "code",
   "execution_count": 23,
   "metadata": {
    "slideshow": {
     "slide_type": "-"
    }
   },
   "outputs": [
    {
     "data": {
      "text/html": [
       "<div>\n",
       "<table border=\"1\" class=\"dataframe\">\n",
       "  <thead>\n",
       "    <tr style=\"text-align: right;\">\n",
       "      <th></th>\n",
       "      <th>document</th>\n",
       "      <th>entity</th>\n",
       "      <th>type</th>\n",
       "    </tr>\n",
       "  </thead>\n",
       "  <tbody>\n",
       "    <tr>\n",
       "      <th>0</th>\n",
       "      <td>http://www.comatrol.com</td>\n",
       "      <td>qiao jin</td>\n",
       "      <td>PERSON</td>\n",
       "    </tr>\n",
       "    <tr>\n",
       "      <th>1</th>\n",
       "      <td>http://www.bcs.org</td>\n",
       "      <td>karen burt</td>\n",
       "      <td>PERSON</td>\n",
       "    </tr>\n",
       "    <tr>\n",
       "      <th>2</th>\n",
       "      <td>http://www.faradion.co.uk/</td>\n",
       "      <td>merc</td>\n",
       "      <td>ORG</td>\n",
       "    </tr>\n",
       "    <tr>\n",
       "      <th>3</th>\n",
       "      <td>http://www.ssc-balticwind.com</td>\n",
       "      <td>tim petersen</td>\n",
       "      <td>PERSON</td>\n",
       "    </tr>\n",
       "  </tbody>\n",
       "</table>\n",
       "</div>"
      ],
      "text/plain": [
       "                        document        entity    type\n",
       "0        http://www.comatrol.com      qiao jin  PERSON\n",
       "1             http://www.bcs.org    karen burt  PERSON\n",
       "2     http://www.faradion.co.uk/          merc     ORG\n",
       "3  http://www.ssc-balticwind.com  tim petersen  PERSON"
      ]
     },
     "execution_count": 23,
     "metadata": {},
     "output_type": "execute_result"
    }
   ],
   "source": [
    "spacy_corpus.find_entities().head()"
   ]
  },
  {
   "cell_type": "markdown",
   "metadata": {
    "nbpresent": {
     "id": "5ee39143-f590-464b-921c-315a93d3f45d"
    },
    "slideshow": {
     "slide_type": "skip"
    }
   },
   "source": [
    "***\n",
    "<h1 style = \"color:#1E718B\"> Advanced</h1>"
   ]
  },
  {
   "cell_type": "markdown",
   "metadata": {
    "nbpresent": {
     "id": "6b719f1e-917b-4784-8355-1a744981a813"
    },
    "slideshow": {
     "slide_type": "skip"
    }
   },
   "source": [
    "<h2><u>N-Grams models</u></h2>"
   ]
  },
  {
   "cell_type": "markdown",
   "metadata": {
    "slideshow": {
     "slide_type": "skip"
    }
   },
   "source": [
    "<h2><u>Part Of Speech Tagging (POS Tagging)</u></h2>"
   ]
  },
  {
   "cell_type": "markdown",
   "metadata": {
    "nbpresent": {
     "id": "dc1eb72b-f7b9-4a92-891a-1c8bc0879c59"
    },
    "slideshow": {
     "slide_type": "skip"
    }
   },
   "source": [
    "<h2><u>Name Entity Recognition (NER)</u></h2>"
   ]
  },
  {
   "cell_type": "markdown",
   "metadata": {
    "nbpresent": {
     "id": "cccb774f-f048-4002-a96f-9163386f4dc7"
    },
    "slideshow": {
     "slide_type": "skip"
    }
   },
   "source": [
    "### With NLTK"
   ]
  },
  {
   "cell_type": "markdown",
   "metadata": {
    "nbpresent": {
     "id": "f5247cc9-580e-44a5-840f-dd3d02549ad7"
    },
    "slideshow": {
     "slide_type": "skip"
    }
   },
   "source": [
    "### With SpaCy"
   ]
  },
  {
   "cell_type": "markdown",
   "metadata": {
    "nbpresent": {
     "id": "5793f78a-b059-4b5f-992b-70b7bc255753"
    },
    "slideshow": {
     "slide_type": "skip"
    }
   },
   "source": [
    "<h2><u>Sentiment Analysis</u></h2>"
   ]
  },
  {
   "cell_type": "markdown",
   "metadata": {
    "nbpresent": {
     "id": "7dea923a-11ad-47e4-ad7d-d1f7c59d9f46"
    },
    "slideshow": {
     "slide_type": "skip"
    }
   },
   "source": [
    "<h2><u>Word2Vec</u></h2>"
   ]
  },
  {
   "cell_type": "markdown",
   "metadata": {
    "nbpresent": {
     "id": "f75cbb23-1db7-4b6d-b146-c01a507f4cd4"
    },
    "slideshow": {
     "slide_type": "skip"
    }
   },
   "source": [
    "<h2><u>Latent Dirichlet Allocation</u></h2>"
   ]
  },
  {
   "cell_type": "markdown",
   "metadata": {
    "nbpresent": {
     "id": "02bba87d-5af0-4d34-ad71-35af7c3b7194"
    },
    "slideshow": {
     "slide_type": "skip"
    }
   },
   "source": [
    "<h2><u>Clustering</u></h2>"
   ]
  },
  {
   "cell_type": "markdown",
   "metadata": {
    "nbpresent": {
     "id": "7a40a165-7c44-4e5d-9081-d46bdad7dd7f"
    },
    "slideshow": {
     "slide_type": "skip"
    }
   },
   "source": [
    "<h2><u>Deep Learning ?</u></h2>"
   ]
  }
 ],
 "metadata": {
  "anaconda-cloud": {},
  "kernelspec": {
   "display_name": "Python 3",
   "language": "python",
   "name": "python3"
  },
  "language_info": {
   "codemirror_mode": {
    "name": "ipython",
    "version": 3
   },
   "file_extension": ".py",
   "mimetype": "text/x-python",
   "name": "python",
   "nbconvert_exporter": "python",
   "pygments_lexer": "ipython3",
   "version": "3.6.1"
  },
  "nbpresent": {
   "slides": {},
   "themes": {}
  },
  "toc": {
   "colors": {
    "hover_highlight": "#DAA520",
    "running_highlight": "#FF0000",
    "selected_highlight": "#FFD700"
   },
   "moveMenuLeft": true,
   "nav_menu": {
    "height": "317px",
    "width": "252px"
   },
   "navigate_menu": true,
   "number_sections": true,
   "sideBar": true,
   "threshold": 4,
   "toc_cell": false,
   "toc_position": {
    "height": "724px",
    "left": "0px",
    "right": "1184.36px",
    "top": "106px",
    "width": "324px"
   },
   "toc_section_display": "block",
   "toc_window_display": true
  }
 },
 "nbformat": 4,
 "nbformat_minor": 1
}
