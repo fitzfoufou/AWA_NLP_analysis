{
 "cells": [
  {
   "cell_type": "markdown",
   "metadata": {},
   "source": [
    "# Synthéstiser les FSN avec Python - introdution"
   ]
  },
  {
   "cell_type": "markdown",
   "metadata": {},
   "source": [
    " "
   ]
  },
  {
   "cell_type": "markdown",
   "metadata": {},
   "source": [
    "### Etape 0: Installation et importation des librairies nécessaires"
   ]
  },
  {
   "cell_type": "markdown",
   "metadata": {},
   "source": [
    "En installant Anacondas, les librairies principales ont déjà été installées comme:\n",
    "- Pandas: librairies pour travailler avec des dataframes\n",
    "- Numpy: librairie pour travailler avec des tableaux et des matrices\n",
    "- Matplotlib: librairie pour faire des graphs\n",
    "- OS: librairie pour interagir avec les dossiers de l'ordinateurs: eg: définir le dossier de travail (working directory)"
   ]
  },
  {
   "cell_type": "code",
   "execution_count": null,
   "metadata": {},
   "outputs": [],
   "source": [
    "#NLTK n'est pas installé automatiquement, par conséquent il faut l'installer. L'installation prend du temps.\n",
    "#Une fenêtre pop-up devrait appraitre et te demander de cliquer sur \"tout installer\". Tu cliques dessus.\n",
    "nltk.download()"
   ]
  },
  {
   "cell_type": "markdown",
   "metadata": {},
   "source": [
    "### Etape 1: Importation des librairies et choix du dossier de travail"
   ]
  },
  {
   "cell_type": "code",
   "execution_count": 2,
   "metadata": {
    "collapsed": true
   },
   "outputs": [],
   "source": [
    "#Une fois les librairies installées sur ton ordinateur, tu n'auras plus jamais besoin de les installer. \n",
    "#Par contre tu auras besoin de les appeler à chaque nouveau script comme ci-dessous:\n",
    "import os\n",
    "import numpy as np\n",
    "import pandas as pd\n",
    "import matplotlib.pyplot as plt\n",
    "from nltk import word_tokenize"
   ]
  },
  {
   "cell_type": "code",
   "execution_count": 3,
   "metadata": {},
   "outputs": [],
   "source": [
    "#Ensuite il te faut choisir un dossier de travail sur ton ordi où tu récuperas tes données et où tu sauveras tes scripts\n",
    "os.chdir(\"C:\\\\Users\\\\Francois\\\\Desktop\\\\Fitz\\\\2. Entrepreneurial projects\\\\2. Help on data issues\\\\2. AWA\")"
   ]
  },
  {
   "cell_type": "markdown",
   "metadata": {},
   "source": [
    " "
   ]
  },
  {
   "cell_type": "markdown",
   "metadata": {},
   "source": [
    "### Etape 2: Ouverture de ta base de données et création des variables clés"
   ]
  },
  {
   "cell_type": "code",
   "execution_count": 4,
   "metadata": {
    "collapsed": true
   },
   "outputs": [],
   "source": [
    "FSN=pd.read_excel(\"Input Data 1.xlsx\")"
   ]
  },
  {
   "cell_type": "code",
   "execution_count": 5,
   "metadata": {
    "scrolled": true
   },
   "outputs": [
    {
     "data": {
      "text/html": [
       "<div>\n",
       "<style>\n",
       "    .dataframe thead tr:only-child th {\n",
       "        text-align: right;\n",
       "    }\n",
       "\n",
       "    .dataframe thead th {\n",
       "        text-align: left;\n",
       "    }\n",
       "\n",
       "    .dataframe tbody tr th {\n",
       "        vertical-align: top;\n",
       "    }\n",
       "</style>\n",
       "<table border=\"1\" class=\"dataframe\">\n",
       "  <thead>\n",
       "    <tr style=\"text-align: right;\">\n",
       "      <th></th>\n",
       "      <th>FSN #</th>\n",
       "      <th>Problème ou solution</th>\n",
       "      <th>Intitulé problème ou solution</th>\n",
       "      <th>Liste de mots clés prob/sol</th>\n",
       "      <th>Sous entités</th>\n",
       "      <th>Liste de mots clés des sous entités</th>\n",
       "      <th>Liste de corrélations entre solutions et problèmes</th>\n",
       "    </tr>\n",
       "  </thead>\n",
       "  <tbody>\n",
       "    <tr>\n",
       "      <th>0</th>\n",
       "      <td>1</td>\n",
       "      <td>Problème</td>\n",
       "      <td>Domination de la sphère financière</td>\n",
       "      <td>[INSTABILITE, CRISE FINANCIERE, KRACH, INVESTI...</td>\n",
       "      <td>Risque de Krach boursier</td>\n",
       "      <td>[KRACH, BOURSE, RISQUE]</td>\n",
       "      <td>NaN</td>\n",
       "    </tr>\n",
       "    <tr>\n",
       "      <th>1</th>\n",
       "      <td>1</td>\n",
       "      <td>Problème</td>\n",
       "      <td>Domination de la sphère financière</td>\n",
       "      <td>[INSTABILITE, CRISE FINANCIERE, KRACH, INVESTI...</td>\n",
       "      <td>Contagion à l'économie réelle</td>\n",
       "      <td>[ECONOMIE REELLE, CHOMAGE, CRISE, CONTAGION, R...</td>\n",
       "      <td>NaN</td>\n",
       "    </tr>\n",
       "    <tr>\n",
       "      <th>2</th>\n",
       "      <td>1</td>\n",
       "      <td>Problème</td>\n",
       "      <td>Domination de la sphère financière</td>\n",
       "      <td>[INSTABILITE, CRISE FINANCIERE, KRACH, INVESTI...</td>\n",
       "      <td>Volatilité des prix des matières premières</td>\n",
       "      <td>[VOLATILITE, MATIERES PREMIERES, COMMERCE INTE...</td>\n",
       "      <td>NaN</td>\n",
       "    </tr>\n",
       "    <tr>\n",
       "      <th>3</th>\n",
       "      <td>1</td>\n",
       "      <td>Problème</td>\n",
       "      <td>Domination de la sphère financière</td>\n",
       "      <td>[INSTABILITE, CRISE FINANCIERE, KRACH, INVESTI...</td>\n",
       "      <td>Recherche de la rentabilité financière plutôt ...</td>\n",
       "      <td>[ACTIONNAIRES, INVESTISSEMENT, RETURN ON EQUITY]</td>\n",
       "      <td>NaN</td>\n",
       "    </tr>\n",
       "    <tr>\n",
       "      <th>4</th>\n",
       "      <td>1</td>\n",
       "      <td>Problème</td>\n",
       "      <td>Domination de la sphère financière</td>\n",
       "      <td>[INSTABILITE, CRISE FINANCIERE, KRACH, INVESTI...</td>\n",
       "      <td>Dépendance des pays aux marchés financiers terme</td>\n",
       "      <td>[SOUVERAINETÉ, MARCHÉS FINANCIERS, ENDETTEMENT...</td>\n",
       "      <td>NaN</td>\n",
       "    </tr>\n",
       "  </tbody>\n",
       "</table>\n",
       "</div>"
      ],
      "text/plain": [
       "   FSN # Problème ou solution       Intitulé problème ou solution  \\\n",
       "0      1             Problème  Domination de la sphère financière   \n",
       "1      1             Problème  Domination de la sphère financière   \n",
       "2      1             Problème  Domination de la sphère financière   \n",
       "3      1             Problème  Domination de la sphère financière   \n",
       "4      1             Problème  Domination de la sphère financière   \n",
       "\n",
       "                         Liste de mots clés prob/sol  \\\n",
       "0  [INSTABILITE, CRISE FINANCIERE, KRACH, INVESTI...   \n",
       "1  [INSTABILITE, CRISE FINANCIERE, KRACH, INVESTI...   \n",
       "2  [INSTABILITE, CRISE FINANCIERE, KRACH, INVESTI...   \n",
       "3  [INSTABILITE, CRISE FINANCIERE, KRACH, INVESTI...   \n",
       "4  [INSTABILITE, CRISE FINANCIERE, KRACH, INVESTI...   \n",
       "\n",
       "                                        Sous entités  \\\n",
       "0                          Risque de Krach boursier    \n",
       "1                     Contagion à l'économie réelle    \n",
       "2        Volatilité des prix des matières premières    \n",
       "3  Recherche de la rentabilité financière plutôt ...   \n",
       "4  Dépendance des pays aux marchés financiers terme    \n",
       "\n",
       "                 Liste de mots clés des sous entités  \\\n",
       "0                            [KRACH, BOURSE, RISQUE]   \n",
       "1  [ECONOMIE REELLE, CHOMAGE, CRISE, CONTAGION, R...   \n",
       "2  [VOLATILITE, MATIERES PREMIERES, COMMERCE INTE...   \n",
       "3   [ACTIONNAIRES, INVESTISSEMENT, RETURN ON EQUITY]   \n",
       "4  [SOUVERAINETÉ, MARCHÉS FINANCIERS, ENDETTEMENT...   \n",
       "\n",
       "   Liste de corrélations entre solutions et problèmes  \n",
       "0                                                NaN   \n",
       "1                                                NaN   \n",
       "2                                                NaN   \n",
       "3                                                NaN   \n",
       "4                                                NaN   "
      ]
     },
     "execution_count": 5,
     "metadata": {},
     "output_type": "execute_result"
    }
   ],
   "source": [
    "#Pour voir ta base:\n",
    "FSN.head()"
   ]
  },
  {
   "cell_type": "code",
   "execution_count": 9,
   "metadata": {},
   "outputs": [
    {
     "data": {
      "text/plain": [
       "array([ 'Domination de la sphère financière [INSTABILITE, CRISE FINANCIERE, KRACH, INVESTISSEMENT]',\n",
       "       'Déséquilibres de balance courante  [DESEQUILIBRE, BALANCE COURANTE, TAUX DE CHANGE, GEOPOLITIQUE, INTERDEPENDANCE ECONOMIQUE]',\n",
       "       'Impact de la concurrence internationale sur l’environnement  [ENVIRONNEMENT, POLLUTION, COMMERCE INTERNATIONAL, CONCURRENCE]',\n",
       "       'Pouvoir grandissant des multinationales face aux Etats [SOUVERAINETÉ, DÉPENDANCE, MULTINATIONALES, ETATS, POUVOIR]',\n",
       "       'Ultrafinanciarisation de l’économie  [FINANCIARISATION, BULLES FINANCIERES]',\n",
       "       'Un cadre économique menant à une accumulation de capital par certains au dépend d’une majorité  [ACCUMULATION, CAPITAL, INEGALITES]',\n",
       "       'Une absence de prise en compte des externalités environnementales et sociales générées par les activités économiques  [EXTERNALITÉS, ENVIRONNEMENT, SOCIAL, DEFAILLANCE DE MARCHE]',\n",
       "       'Un système économique mondial incitant à une concurrence permanente menant à des stratégies nuisibles  [CONCURRENCE, STRATEGIE, NON-COOPERATION, DUMPING, COURSE VERS LE BAS]',\n",
       "       'Instabilité financière  [INSTABILITE, CRISE FINANCIERE, CRASH]',\n",
       "       'Paradis fiscaux et réglementaires  [EVASION FISCALE, BLANCHIMENT, CORRUPTION]',\n",
       "       'Crise énergétique  [PRODUCTION, CROISSANCE, ENERGIES FOSSILES]',\n",
       "       'La mondialisation néolibérale [LIBRE-ECHANGE, MULTINATIONALES, ETATS]',\n",
       "       'Spéculation des banques [SPECULATION, TRADING, BANQUES]'], dtype=object)"
      ]
     },
     "execution_count": 9,
     "metadata": {},
     "output_type": "execute_result"
    }
   ],
   "source": [
    "#Création des variables clés liées aux problèmes:\n",
    "#Variable pour avoir uniquement l'intitulé du problème 1\n",
    "PB1=FSN.loc[FSN['Problème ou solution'] == \"Problème\"].loc[FSN['FSN #'] == 1].loc[:,\"Intitulé problème ou solution\"].unique()\n",
    "\n",
    "#Variable pour avoir tous les intitulés des problèmes\n",
    "PB=FSN.loc[FSN['Problème ou solution'] == \"Problème\"].loc[:,\"Intitulé problème ou solution\"].dropna().unique()\n",
    "\n",
    "#Variable pour avoir tous les mots clés des problèmes\n",
    "PB_MC=FSN.loc[FSN['Problème ou solution'] == \"Problème\"].loc[:,\"Liste de mots clés prob/sol\"].dropna().unique()\n",
    "\n",
    "#Variable pour avoir les intitulés et les mots clés des problèmes\n",
    "PB_AGG=PB+\" \"+PB_MC\n",
    "PB_AGG"
   ]
  },
  {
   "cell_type": "code",
   "execution_count": null,
   "metadata": {
    "collapsed": true
   },
   "outputs": [],
   "source": [
    "#Création des variables clés liées aux problèmes:\n",
    "#Variable pour avoir uniquement l'intitulé du problème 1\n",
    "S1=FSN.loc[FSN['Problème ou solution'] == \"Solution\"].loc[FSN['FSN #'] == 1].loc[:,\"Intitulé problème ou solution\"].unique()\n",
    "\n",
    "#Variable pour avoir tous les intitulés des solutions\n",
    "S=FSN.loc[FSN['Problème ou solution'] == \"Solution\"].loc[:,\"Intitulé problème ou solution\"].dropna().unique()\n",
    "\n",
    "#Variable pour avoir tous les mots clés des solutions\n",
    "S_MC=FSN.loc[FSN['Problème ou solution'] == \"Solution\"].loc[:,\"Liste de mots clés prob/sol\"].dropna().unique()\n",
    "\n",
    "#Variable pour avoir les intitulés et les mots clés des problèmes\n",
    "S_AGG=S+\" \"+S_MC"
   ]
  },
  {
   "cell_type": "markdown",
   "metadata": {},
   "source": [
    " "
   ]
  },
  {
   "cell_type": "markdown",
   "metadata": {},
   "source": [
    "### Etape 3: Création de l'algorithme qui va créer une heatmap de proximité sémantique de phrases"
   ]
  },
  {
   "cell_type": "code",
   "execution_count": 15,
   "metadata": {},
   "outputs": [
    {
     "name": "stdout",
     "output_type": "stream",
     "text": [
      "['au', 'aux', 'avec', 'ce', 'ces', 'dans', 'de', 'des', 'du', 'elle', 'en', 'et', 'eux', 'il', 'je', 'la', 'le', 'leur', 'lui', 'ma', 'mais', 'me', 'même', 'mes', 'moi', 'mon', 'ne', 'nos', 'notre', 'nous', 'on', 'ou', 'par', 'pas', 'pour', 'qu', 'que', 'qui', 'sa', 'se', 'ses', 'son', 'sur', 'ta', 'te', 'tes', 'toi', 'ton', 'tu', 'un']\n"
     ]
    }
   ],
   "source": [
    "#Définition des mots inutiles et des caractères intutiles\n",
    "from nltk.corpus import stopwords\n",
    "stop_characters_list = [\",\",\".\",\"'\",\"[\",\"]\"]\n",
    "print(stopwords.words(\"french\")[:50])"
   ]
  },
  {
   "cell_type": "code",
   "execution_count": null,
   "metadata": {
    "collapsed": true
   },
   "outputs": [],
   "source": [
    "#Création d'une fonction qui donne un score de proximité sémantique entre deux phrases\n",
    "def similarity(sentence1,sentence2):\n",
    "    #D'abord il faut convertir chaque phrase en une liste de mots \n",
    "        #pertinents (c'est à dire sans stopwords ni stop_characters)\n",
    "        #en caractères minuscules\n",
    "    wordset1=[token for token in word_tokenize(sentence1.lower()) if token not in stopwords.words(\"french\") + stop_characters_list]\n",
    "    wordset2=[token for token in word_tokenize(sentence2.lower()) if token not in stopwords.words(\"french\") + stop_characters_list]\n",
    "    score=0\n",
    "    count=max(len(wordset1),len(wordset2))\n",
    "    for word1 in wordset1:\n",
    "        for word2 in wordset2:\n",
    "            if word1==word2:\n",
    "                score=score+1\n",
    "\n",
    "    #On définit la proximité sémantique comme le rapport entre nombre de mots identiques entre 2 phrases divisé par\n",
    "    #nombre max de mots entre les deux phrases\n",
    "    return((score/count))"
   ]
  },
  {
   "cell_type": "code",
   "execution_count": 38,
   "metadata": {},
   "outputs": [
    {
     "name": "stdout",
     "output_type": "stream",
     "text": [
      "['domination', 'sphère', 'financière'] ['instabilité', 'financière']\n",
      "financière\n"
     ]
    },
    {
     "data": {
      "text/plain": [
       "0.3333333333333333"
      ]
     },
     "execution_count": 38,
     "metadata": {},
     "output_type": "execute_result"
    }
   ],
   "source": [
    "#Exemple avec le premier et le neuvième élément de la liste des mots clés des solutions\n",
    "similarity(PB[0],PB[8])"
   ]
  },
  {
   "cell_type": "code",
   "execution_count": null,
   "metadata": {
    "collapsed": true
   },
   "outputs": [],
   "source": [
    "#Création d'une fonction qui réalise une heatmap pour chaque type de texte. \n",
    "#Les types de texte sont: PB ou PB_MC ou PB_AGG ou S ou S_MC ou S_AGG\n",
    "def heatmapb(type_texte):\n",
    "    HM=pd.DataFrame()\n",
    "    for i in range(len(type_texte)):\n",
    "        for j in range(len(type_texte)):\n",
    "            HM.set_value(i+1,j+1,similarity(type_texte[i],type_texte[j]))\n",
    "    plt.pcolormesh(HM, cmap=\"GnBu\")\n",
    "    plt.yticks(np.arange(0.5, len(HM.index), 1), HM.index)\n",
    "    plt.xticks(np.arange(0.5, len(HM.columns), 1), HM.columns)\n",
    "    plt.show()\n",
    "    return(HM)"
   ]
  },
  {
   "cell_type": "markdown",
   "metadata": {},
   "source": [
    " "
   ]
  },
  {
   "cell_type": "markdown",
   "metadata": {},
   "source": [
    "### Etape 4: tests"
   ]
  },
  {
   "cell_type": "code",
   "execution_count": 45,
   "metadata": {},
   "outputs": [
    {
     "data": {
      "image/png": "[encoded data removed]",
      "text/plain": [
       "<matplotlib.figure.Figure at 0x17bb82e96d8>"
      ]
     },
     "metadata": {},
     "output_type": "display_data"
    },
    {
     "data": {
      "text/html": [
       "<div>\n",
       "<style>\n",
       "    .dataframe thead tr:only-child th {\n",
       "        text-align: right;\n",
       "    }\n",
       "\n",
       "    .dataframe thead th {\n",
       "        text-align: left;\n",
       "    }\n",
       "\n",
       "    .dataframe tbody tr th {\n",
       "        vertical-align: top;\n",
       "    }\n",
       "</style>\n",
       "<table border=\"1\" class=\"dataframe\">\n",
       "  <thead>\n",
       "    <tr style=\"text-align: right;\">\n",
       "      <th></th>\n",
       "      <th>1</th>\n",
       "      <th>2</th>\n",
       "      <th>3</th>\n",
       "      <th>4</th>\n",
       "      <th>5</th>\n",
       "      <th>6</th>\n",
       "      <th>7</th>\n",
       "      <th>8</th>\n",
       "      <th>9</th>\n",
       "      <th>10</th>\n",
       "      <th>11</th>\n",
       "      <th>12</th>\n",
       "      <th>13</th>\n",
       "    </tr>\n",
       "  </thead>\n",
       "  <tbody>\n",
       "    <tr>\n",
       "      <th>1</th>\n",
       "      <td>1.000</td>\n",
       "      <td>0.000000</td>\n",
       "      <td>0.000000</td>\n",
       "      <td>0.0</td>\n",
       "      <td>0.000000</td>\n",
       "      <td>0.000000</td>\n",
       "      <td>0.000000</td>\n",
       "      <td>0.000</td>\n",
       "      <td>0.500000</td>\n",
       "      <td>0.0</td>\n",
       "      <td>0.125000</td>\n",
       "      <td>0.0</td>\n",
       "      <td>0.0</td>\n",
       "    </tr>\n",
       "    <tr>\n",
       "      <th>2</th>\n",
       "      <td>0.000</td>\n",
       "      <td>1.363636</td>\n",
       "      <td>0.000000</td>\n",
       "      <td>0.0</td>\n",
       "      <td>0.000000</td>\n",
       "      <td>0.000000</td>\n",
       "      <td>0.000000</td>\n",
       "      <td>0.000</td>\n",
       "      <td>0.000000</td>\n",
       "      <td>0.0</td>\n",
       "      <td>0.000000</td>\n",
       "      <td>0.0</td>\n",
       "      <td>0.0</td>\n",
       "    </tr>\n",
       "    <tr>\n",
       "      <th>3</th>\n",
       "      <td>0.000</td>\n",
       "      <td>0.000000</td>\n",
       "      <td>1.400000</td>\n",
       "      <td>0.0</td>\n",
       "      <td>0.100000</td>\n",
       "      <td>0.083333</td>\n",
       "      <td>0.133333</td>\n",
       "      <td>0.250</td>\n",
       "      <td>0.000000</td>\n",
       "      <td>0.0</td>\n",
       "      <td>0.000000</td>\n",
       "      <td>0.0</td>\n",
       "      <td>0.0</td>\n",
       "    </tr>\n",
       "    <tr>\n",
       "      <th>4</th>\n",
       "      <td>0.000</td>\n",
       "      <td>0.000000</td>\n",
       "      <td>0.000000</td>\n",
       "      <td>1.6</td>\n",
       "      <td>0.000000</td>\n",
       "      <td>0.000000</td>\n",
       "      <td>0.000000</td>\n",
       "      <td>0.000</td>\n",
       "      <td>0.000000</td>\n",
       "      <td>0.0</td>\n",
       "      <td>0.000000</td>\n",
       "      <td>0.4</td>\n",
       "      <td>0.0</td>\n",
       "    </tr>\n",
       "    <tr>\n",
       "      <th>5</th>\n",
       "      <td>0.000</td>\n",
       "      <td>0.000000</td>\n",
       "      <td>0.100000</td>\n",
       "      <td>0.0</td>\n",
       "      <td>1.000000</td>\n",
       "      <td>0.083333</td>\n",
       "      <td>0.000000</td>\n",
       "      <td>0.000</td>\n",
       "      <td>0.000000</td>\n",
       "      <td>0.0</td>\n",
       "      <td>0.000000</td>\n",
       "      <td>0.0</td>\n",
       "      <td>0.0</td>\n",
       "    </tr>\n",
       "    <tr>\n",
       "      <th>6</th>\n",
       "      <td>0.000</td>\n",
       "      <td>0.000000</td>\n",
       "      <td>0.083333</td>\n",
       "      <td>0.0</td>\n",
       "      <td>0.083333</td>\n",
       "      <td>1.333333</td>\n",
       "      <td>0.000000</td>\n",
       "      <td>0.125</td>\n",
       "      <td>0.000000</td>\n",
       "      <td>0.0</td>\n",
       "      <td>0.000000</td>\n",
       "      <td>0.0</td>\n",
       "      <td>0.0</td>\n",
       "    </tr>\n",
       "    <tr>\n",
       "      <th>7</th>\n",
       "      <td>0.000</td>\n",
       "      <td>0.000000</td>\n",
       "      <td>0.133333</td>\n",
       "      <td>0.0</td>\n",
       "      <td>0.000000</td>\n",
       "      <td>0.000000</td>\n",
       "      <td>1.133333</td>\n",
       "      <td>0.000</td>\n",
       "      <td>0.000000</td>\n",
       "      <td>0.0</td>\n",
       "      <td>0.000000</td>\n",
       "      <td>0.0</td>\n",
       "      <td>0.0</td>\n",
       "    </tr>\n",
       "    <tr>\n",
       "      <th>8</th>\n",
       "      <td>0.000</td>\n",
       "      <td>0.000000</td>\n",
       "      <td>0.250000</td>\n",
       "      <td>0.0</td>\n",
       "      <td>0.000000</td>\n",
       "      <td>0.125000</td>\n",
       "      <td>0.000000</td>\n",
       "      <td>1.125</td>\n",
       "      <td>0.000000</td>\n",
       "      <td>0.0</td>\n",
       "      <td>0.000000</td>\n",
       "      <td>0.0</td>\n",
       "      <td>0.0</td>\n",
       "    </tr>\n",
       "    <tr>\n",
       "      <th>9</th>\n",
       "      <td>0.500</td>\n",
       "      <td>0.000000</td>\n",
       "      <td>0.000000</td>\n",
       "      <td>0.0</td>\n",
       "      <td>0.000000</td>\n",
       "      <td>0.000000</td>\n",
       "      <td>0.000000</td>\n",
       "      <td>0.000</td>\n",
       "      <td>1.000000</td>\n",
       "      <td>0.0</td>\n",
       "      <td>0.166667</td>\n",
       "      <td>0.0</td>\n",
       "      <td>0.0</td>\n",
       "    </tr>\n",
       "    <tr>\n",
       "      <th>10</th>\n",
       "      <td>0.000</td>\n",
       "      <td>0.000000</td>\n",
       "      <td>0.000000</td>\n",
       "      <td>0.0</td>\n",
       "      <td>0.000000</td>\n",
       "      <td>0.000000</td>\n",
       "      <td>0.000000</td>\n",
       "      <td>0.000</td>\n",
       "      <td>0.000000</td>\n",
       "      <td>1.0</td>\n",
       "      <td>0.000000</td>\n",
       "      <td>0.0</td>\n",
       "      <td>0.0</td>\n",
       "    </tr>\n",
       "    <tr>\n",
       "      <th>11</th>\n",
       "      <td>0.125</td>\n",
       "      <td>0.000000</td>\n",
       "      <td>0.000000</td>\n",
       "      <td>0.0</td>\n",
       "      <td>0.000000</td>\n",
       "      <td>0.000000</td>\n",
       "      <td>0.000000</td>\n",
       "      <td>0.000</td>\n",
       "      <td>0.166667</td>\n",
       "      <td>0.0</td>\n",
       "      <td>1.000000</td>\n",
       "      <td>0.0</td>\n",
       "      <td>0.0</td>\n",
       "    </tr>\n",
       "    <tr>\n",
       "      <th>12</th>\n",
       "      <td>0.000</td>\n",
       "      <td>0.000000</td>\n",
       "      <td>0.000000</td>\n",
       "      <td>0.4</td>\n",
       "      <td>0.000000</td>\n",
       "      <td>0.000000</td>\n",
       "      <td>0.000000</td>\n",
       "      <td>0.000</td>\n",
       "      <td>0.000000</td>\n",
       "      <td>0.0</td>\n",
       "      <td>0.000000</td>\n",
       "      <td>1.0</td>\n",
       "      <td>0.0</td>\n",
       "    </tr>\n",
       "    <tr>\n",
       "      <th>13</th>\n",
       "      <td>0.000</td>\n",
       "      <td>0.000000</td>\n",
       "      <td>0.000000</td>\n",
       "      <td>0.0</td>\n",
       "      <td>0.000000</td>\n",
       "      <td>0.000000</td>\n",
       "      <td>0.000000</td>\n",
       "      <td>0.000</td>\n",
       "      <td>0.000000</td>\n",
       "      <td>0.0</td>\n",
       "      <td>0.000000</td>\n",
       "      <td>0.0</td>\n",
       "      <td>1.4</td>\n",
       "    </tr>\n",
       "  </tbody>\n",
       "</table>\n",
       "</div>"
      ],
      "text/plain": [
       "       1         2         3    4         5         6         7      8   \\\n",
       "1   1.000  0.000000  0.000000  0.0  0.000000  0.000000  0.000000  0.000   \n",
       "2   0.000  1.363636  0.000000  0.0  0.000000  0.000000  0.000000  0.000   \n",
       "3   0.000  0.000000  1.400000  0.0  0.100000  0.083333  0.133333  0.250   \n",
       "4   0.000  0.000000  0.000000  1.6  0.000000  0.000000  0.000000  0.000   \n",
       "5   0.000  0.000000  0.100000  0.0  1.000000  0.083333  0.000000  0.000   \n",
       "6   0.000  0.000000  0.083333  0.0  0.083333  1.333333  0.000000  0.125   \n",
       "7   0.000  0.000000  0.133333  0.0  0.000000  0.000000  1.133333  0.000   \n",
       "8   0.000  0.000000  0.250000  0.0  0.000000  0.125000  0.000000  1.125   \n",
       "9   0.500  0.000000  0.000000  0.0  0.000000  0.000000  0.000000  0.000   \n",
       "10  0.000  0.000000  0.000000  0.0  0.000000  0.000000  0.000000  0.000   \n",
       "11  0.125  0.000000  0.000000  0.0  0.000000  0.000000  0.000000  0.000   \n",
       "12  0.000  0.000000  0.000000  0.4  0.000000  0.000000  0.000000  0.000   \n",
       "13  0.000  0.000000  0.000000  0.0  0.000000  0.000000  0.000000  0.000   \n",
       "\n",
       "          9    10        11   12   13  \n",
       "1   0.500000  0.0  0.125000  0.0  0.0  \n",
       "2   0.000000  0.0  0.000000  0.0  0.0  \n",
       "3   0.000000  0.0  0.000000  0.0  0.0  \n",
       "4   0.000000  0.0  0.000000  0.4  0.0  \n",
       "5   0.000000  0.0  0.000000  0.0  0.0  \n",
       "6   0.000000  0.0  0.000000  0.0  0.0  \n",
       "7   0.000000  0.0  0.000000  0.0  0.0  \n",
       "8   0.000000  0.0  0.000000  0.0  0.0  \n",
       "9   1.000000  0.0  0.166667  0.0  0.0  \n",
       "10  0.000000  1.0  0.000000  0.0  0.0  \n",
       "11  0.166667  0.0  1.000000  0.0  0.0  \n",
       "12  0.000000  0.0  0.000000  1.0  0.0  \n",
       "13  0.000000  0.0  0.000000  0.0  1.4  "
      ]
     },
     "execution_count": 45,
     "metadata": {},
     "output_type": "execute_result"
    }
   ],
   "source": [
    "#Exemple: voila la heatmap et le tableau des proximités sémantiques des mots clés des problèmes\n",
    "heatmapb(PB_AGG)"
   ]
  }
 ],
 "metadata": {
  "kernelspec": {
   "display_name": "Python 3",
   "language": "python",
   "name": "python3"
  },
  "language_info": {
   "codemirror_mode": {
    "name": "ipython",
    "version": 3
   },
   "file_extension": ".py",
   "mimetype": "text/x-python",
   "name": "python",
   "nbconvert_exporter": "python",
   "pygments_lexer": "ipython3",
   "version": "3.6.1"
  }
 },
 "nbformat": 4,
 "nbformat_minor": 2
}
